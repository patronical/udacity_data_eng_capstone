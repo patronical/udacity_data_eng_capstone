{
 "cells": [
  {
   "cell_type": "markdown",
   "metadata": {},
   "source": [
    "#### ETL Test Worksheet"
   ]
  },
  {
   "cell_type": "code",
   "execution_count": null,
   "metadata": {},
   "outputs": [],
   "source": [
    "import tweet_scraper\n",
    "import language_finder\n",
    "import tweet_cleaner\n",
    "import keyword_tokenizer\n",
    "import sent_transformer\n",
    "import out_tagger\n",
    "import tsi_builder\n",
    "import os\n",
    "import pickle\n",
    "import pandas as pd\n",
    "import matplotlib.pyplot as plt\n",
    "%matplotlib inline"
   ]
  },
  {
   "cell_type": "markdown",
   "metadata": {},
   "source": [
    "#### Scrape Tweets"
   ]
  },
  {
   "cell_type": "code",
   "execution_count": null,
   "metadata": {},
   "outputs": [],
   "source": [
    "df_raw = tweet_scraper.scrapeTweets()"
   ]
  },
  {
   "cell_type": "markdown",
   "metadata": {},
   "source": [
    "#### Detect Language"
   ]
  },
  {
   "cell_type": "code",
   "execution_count": null,
   "metadata": {},
   "outputs": [],
   "source": [
    "# reload last stage after bug crash\n",
    "root = 'raw_data'\n",
    "filename = 'raw_tweets_2019_6.pkl'\n",
    "filestring = os.path.join(root, filename)\n",
    "with open(filestring, 'rb') as filehandle:  \n",
    "    # read the data as binary data stream\n",
    "    df_raw = pickle.load(filehandle)"
   ]
  },
  {
   "cell_type": "code",
   "execution_count": null,
   "metadata": {},
   "outputs": [],
   "source": [
    "df_lang = language_finder.detectLang(df_raw)"
   ]
  },
  {
   "cell_type": "markdown",
   "metadata": {},
   "source": [
    "#### Clean Tweets"
   ]
  },
  {
   "cell_type": "code",
   "execution_count": null,
   "metadata": {},
   "outputs": [],
   "source": [
    "# reload last stage after bug crash\n",
    "root = 'proc_data'\n",
    "filename = 'proc_lang_2019_6.pkl'\n",
    "filestring = os.path.join(root, filename)\n",
    "with open(filestring, 'rb') as filehandle:  \n",
    "    # read the data as binary data stream\n",
    "    df_lang = pickle.load(filehandle)"
   ]
  },
  {
   "cell_type": "code",
   "execution_count": null,
   "metadata": {},
   "outputs": [],
   "source": [
    "df_clean = tweet_cleaner.cleanTweets(df_lang)"
   ]
  },
  {
   "cell_type": "markdown",
   "metadata": {},
   "source": [
    "#### Tokenize Keywords"
   ]
  },
  {
   "cell_type": "code",
   "execution_count": null,
   "metadata": {},
   "outputs": [],
   "source": [
    "# reload last stage after bug crash\n",
    "root = 'proc_data'\n",
    "filename = 'proc_clean_2019_6.pkl'\n",
    "filestring = os.path.join(root, filename)\n",
    "with open(filestring, 'rb') as filehandle:  \n",
    "    # read the data as binary data stream\n",
    "    df_clean = pickle.load(filehandle)"
   ]
  },
  {
   "cell_type": "code",
   "execution_count": null,
   "metadata": {},
   "outputs": [],
   "source": [
    "df_tok = keyword_tokenizer.tokenKey(df_clean)"
   ]
  },
  {
   "cell_type": "markdown",
   "metadata": {},
   "source": [
    "#### Transform Tweet to Sentiment"
   ]
  },
  {
   "cell_type": "code",
   "execution_count": null,
   "metadata": {},
   "outputs": [],
   "source": [
    "df_sent = sent_transformer.tweetSent(df_tok)"
   ]
  },
  {
   "cell_type": "code",
   "execution_count": null,
   "metadata": {},
   "outputs": [],
   "source": [
    "df_sent.head()"
   ]
  },
  {
   "cell_type": "markdown",
   "metadata": {},
   "source": [
    "#### Tag Outliers"
   ]
  },
  {
   "cell_type": "code",
   "execution_count": null,
   "metadata": {},
   "outputs": [],
   "source": [
    "# reload last stage after bug crash\n",
    "root = 'proc_data'\n",
    "filename = 'proc_sent_2019_6.pkl'\n",
    "filestring = os.path.join(root, filename)\n",
    "with open(filestring, 'rb') as filehandle:  \n",
    "    # read the data as binary data stream\n",
    "    df_sent = pickle.load(filehandle)"
   ]
  },
  {
   "cell_type": "code",
   "execution_count": null,
   "metadata": {},
   "outputs": [],
   "source": [
    "df_tag = out_tagger.tagOkay(df_sent)"
   ]
  },
  {
   "cell_type": "markdown",
   "metadata": {},
   "source": [
    "#### Build Indicator"
   ]
  },
  {
   "cell_type": "code",
   "execution_count": null,
   "metadata": {},
   "outputs": [],
   "source": [
    "# reload last stage after bug crash\n",
    "root = 'proc_data'\n",
    "filename = 'proc_tag_2019_6.pkl'\n",
    "filestring = os.path.join(root, filename)\n",
    "with open(filestring, 'rb') as filehandle:  \n",
    "    # read the data as binary data stream\n",
    "    df_tag = pickle.load(filehandle)"
   ]
  },
  {
   "cell_type": "code",
   "execution_count": null,
   "metadata": {},
   "outputs": [],
   "source": [
    "df_update = tsi_builder.loadInd(df_tag,'tsi002.csv')"
   ]
  },
  {
   "cell_type": "code",
   "execution_count": null,
   "metadata": {},
   "outputs": [],
   "source": [
    "df_update['vad_compound'].plot(figsize=(15,6))\n",
    "plt.show()"
   ]
  },
  {
   "cell_type": "markdown",
   "metadata": {},
   "source": [
    "#### Run ETL"
   ]
  },
  {
   "cell_type": "code",
   "execution_count": 1,
   "metadata": {},
   "outputs": [
    {
     "name": "stdout",
     "output_type": "stream",
     "text": [
      "Tweet Scraper Stage.\n",
      "1/3 tweet scraper, loading files.\n",
      "2/3 tweet scraper, scraping tweets.\n"
     ]
    },
    {
     "data": {
      "application/vnd.jupyter.widget-view+json": {
       "model_id": "a6062cbd9a654bc89398047a7bdea8b0",
       "version_major": 2,
       "version_minor": 0
      },
      "text/plain": [
       "HBox(children=(IntProgress(value=0, max=264), HTML(value='')))"
      ]
     },
     "metadata": {},
     "output_type": "display_data"
    },
    {
     "name": "stdout",
     "output_type": "stream",
     "text": [
      "0xProject 2019-6-01 2019-7-01\n",
      "_jillruth 2019-6-01 2019-7-01\n",
      "_jonasschnelli_ 2019-6-01 2019-7-01\n",
      "aantonop 2019-6-01 2019-7-01\n",
      "AaronvanW 2019-6-01 2019-7-01\n",
      "adam3us 2019-6-01 2019-7-01\n",
      "AdamDraper 2019-6-01 2019-7-01\n",
      "adamludwin 2019-6-01 2019-7-01\n",
      "alansilbert 2019-6-01 2019-7-01\n",
      "albertwenger 2019-6-01 2019-7-01\n",
      "AlenaSatoshi 2019-6-01 2019-7-01\n",
      "alexbosworth 2019-6-01 2019-7-01\n",
      "alexisohanian 2019-6-01 2019-7-01\n",
      "alistairmilne 2019-6-01 2019-7-01\n",
      "AlyseKilleen 2019-6-01 2019-7-01\n",
      "AmberBaldet 2019-6-01 2019-7-01\n",
      "APompliano 2019-6-01 2019-7-01\n",
      "AriannaSimpson 2019-6-01 2019-7-01\n",
      "AriDavidPaul 2019-6-01 2019-7-01\n",
      "arjunblj 2019-6-01 2019-7-01\n",
      "arrington 2019-6-01 2019-7-01\n",
      "AugurProject 2019-6-01 2019-7-01\n",
      "austinhill 2019-6-01 2019-7-01\n",
      "Bakkt 2019-6-01 2019-7-01\n",
      "balajis 2019-6-01 2019-7-01\n",
      "barrysilbert 2019-6-01 2019-7-01\n",
      "bendavenport 2019-6-01 2019-7-01\n",
      "bhorowitz 2019-6-01 2019-7-01\n",
      "billbarhydt 2019-6-01 2019-7-01\n",
      "binance 2019-6-01 2019-7-01\n",
      "Bitcoin 2019-6-01 2019-7-01\n",
      "bitcoincoreorg 2019-6-01 2019-7-01\n",
      "BitcoinMagazine 2019-6-01 2019-7-01\n",
      "BitCoinSusan 2019-6-01 2019-7-01\n",
      "bitfinex 2019-6-01 2019-7-01\n",
      "BitfuryGeorge 2019-6-01 2019-7-01\n",
      "BitGo 2019-6-01 2019-7-01\n",
      "BITMAINtech 2019-6-01 2019-7-01\n",
      "BitMEXResearch 2019-6-01 2019-7-01\n",
      "BitPay 2019-6-01 2019-7-01\n",
      "Bitstamp 2019-6-01 2019-7-01\n",
      "bitstein 2019-6-01 2019-7-01\n",
      "BittrexExchange 2019-6-01 2019-7-01\n",
      "BKBrianKelly 2019-6-01 2019-7-01\n",
      "blockchain 2019-6-01 2019-7-01\n",
      "Blockstream 2019-6-01 2019-7-01\n",
      "BMBernstein 2019-6-01 2019-7-01\n",
      "bobbyclee 2019-6-01 2019-7-01\n",
      "bramcohen 2019-6-01 2019-7-01\n",
      "BrendanEich 2019-6-01 2019-7-01\n",
      "brian_armstrong 2019-6-01 2019-7-01\n",
      "brianchoffman 2019-6-01 2019-7-01\n",
      "brockpierce 2019-6-01 2019-7-01\n",
      "brucefenton 2019-6-01 2019-7-01\n",
      "btcdrak 2019-6-01 2019-7-01\n",
      "BTCFoundation 2019-6-01 2019-7-01\n",
      "BTCVIX 2019-6-01 2019-7-01\n",
      "CaitlinLong_ 2019-6-01 2019-7-01\n",
      "CarpeNoctom 2019-6-01 2019-7-01\n",
      "cburniske 2019-6-01 2019-7-01\n",
      "cdixon 2019-6-01 2019-7-01\n",
      "CharlieShrem 2019-6-01 2019-7-01\n",
      "ChristopherA 2019-6-01 2019-7-01\n",
      "circlepay 2019-6-01 2019-7-01\n",
      "cnLedger 2019-6-01 2019-7-01\n",
      "coin_artist 2019-6-01 2019-7-01\n",
      "coinbase 2019-6-01 2019-7-01\n",
      "CoinbasePro 2019-6-01 2019-7-01\n",
      "coincenter 2019-6-01 2019-7-01\n",
      "coindesk 2019-6-01 2019-7-01\n",
      "CoinMarketCap 2019-6-01 2019-7-01\n",
      "Cointelegraph 2019-6-01 2019-7-01\n",
      "cointradernik 2019-6-01 2019-7-01\n",
      "CollinCrypto 2019-6-01 2019-7-01\n",
      "conniegallippi 2019-6-01 2019-7-01\n",
      "ConsenSys 2019-6-01 2019-7-01\n",
      "CremeDeLaCrypto 2019-6-01 2019-7-01\n",
      "crypto 2019-6-01 2019-7-01\n",
      "crypto_bobby 2019-6-01 2019-7-01\n",
      "crypto_rand 2019-6-01 2019-7-01\n",
      "CryptoBull 2019-6-01 2019-7-01\n",
      "CryptoCobain 2019-6-01 2019-7-01\n",
      "CryptoCred 2019-6-01 2019-7-01\n",
      "cryptograffiti 2019-6-01 2019-7-01\n",
      "CryptoHayes 2019-6-01 2019-7-01\n",
      "CryptoHustle 2019-6-01 2019-7-01\n",
      "cryptomanran 2019-6-01 2019-7-01\n",
      "CryptOrca 2019-6-01 2019-7-01\n",
      "cz_binance 2019-6-01 2019-7-01\n",
      "dan_pantera 2019-6-01 2019-7-01\n",
      "danheld 2019-6-01 2019-7-01\n",
      "DavidSacks 2019-6-01 2019-7-01\n",
      "DCGco 2019-6-01 2019-7-01\n",
      "DelRayMan 2019-6-01 2019-7-01\n",
      "dickerson_des 2019-6-01 2019-7-01\n",
      "dieguito 2019-6-01 2019-7-01\n",
      "Disruptepreneur 2019-6-01 2019-7-01\n",
      "DoveyWan 2019-6-01 2019-7-01\n",
      "dwr 2019-6-01 2019-7-01\n",
      "eiaine 2019-6-01 2019-7-01\n",
      "el33th4xor 2019-6-01 2019-7-01\n",
      "elonmusk 2019-6-01 2019-7-01\n",
      "ercwl 2019-6-01 2019-7-01\n",
      "eric_lombrozo 2019-6-01 2019-7-01\n",
      "ErikVoorhees 2019-6-01 2019-7-01\n",
      "eth_classic 2019-6-01 2019-7-01\n",
      "ethereum 2019-6-01 2019-7-01\n",
      "ethereumJoseph 2019-6-01 2019-7-01\n",
      "Excellion 2019-6-01 2019-7-01\n",
      "FEhrsam 2019-6-01 2019-7-01\n",
      "fintechfrank 2019-6-01 2019-7-01\n",
      "fluffypony 2019-6-01 2019-7-01\n",
      "ForbesCrypto 2019-6-01 2019-7-01\n",
      "francispouliot_ 2019-6-01 2019-7-01\n",
      "fredwilson 2019-6-01 2019-7-01\n",
      "gaborgurbacs 2019-6-01 2019-7-01\n",
      "garrytan 2019-6-01 2019-7-01\n",
      "gavinandresen 2019-6-01 2019-7-01\n",
      "gavofyork 2019-6-01 2019-7-01\n",
      "Gemini 2019-6-01 2019-7-01\n",
      "giacomozucco 2019-6-01 2019-7-01\n",
      "giancarloCFTC 2019-6-01 2019-7-01\n",
      "hasufl 2019-6-01 2019-7-01\n",
      "iam_preethi 2019-6-01 2019-7-01\n",
      "iamjosephyoung 2019-6-01 2019-7-01\n",
      "IamNomad 2019-6-01 2019-7-01\n",
      "IOHK_Charles 2019-6-01 2019-7-01\n",
      "jack 2019-6-01 2019-7-01\n",
      "JackMallers 2019-6-01 2019-7-01\n",
      "jbrukh 2019-6-01 2019-7-01\n",
      "jchervinsky 2019-6-01 2019-7-01\n",
      "jcp 2019-6-01 2019-7-01\n",
      "jerallaire 2019-6-01 2019-7-01\n",
      "JeremyRubin 2019-6-01 2019-7-01\n",
      "jeremyrwelch 2019-6-01 2019-7-01\n",
      "jerrybrito 2019-6-01 2019-7-01\n",
      "jespow 2019-6-01 2019-7-01\n",
      "jfnewbery 2019-6-01 2019-7-01\n",
      "jgarzik 2019-6-01 2019-7-01\n",
      "JihanWu 2019-6-01 2019-7-01\n",
      "jimmysong 2019-6-01 2019-7-01\n",
      "jmonegro 2019-6-01 2019-7-01\n",
      "joeykrug 2019-6-01 2019-7-01\n",
      "Joi 2019-6-01 2019-7-01\n",
      "jonmatonis 2019-6-01 2019-7-01\n",
      "joonian 2019-6-01 2019-7-01\n",
      "juanbenet 2019-6-01 2019-7-01\n",
      "justinsuntron 2019-6-01 2019-7-01\n",
      "katherineykwu 2019-6-01 2019-7-01\n",
      "katie_haun 2019-6-01 2019-7-01\n",
      "krakenfx 2019-6-01 2019-7-01\n",
      "KyleSamani 2019-6-01 2019-7-01\n",
      "kyletorpey 2019-6-01 2019-7-01\n",
      "La__Cuen 2019-6-01 2019-7-01\n",
      "laurashin 2019-6-01 2019-7-01\n",
      "leashless 2019-6-01 2019-7-01\n",
      "lightning 2019-6-01 2019-7-01\n",
      "ljxie 2019-6-01 2019-7-01\n",
      "lopp 2019-6-01 2019-7-01\n",
      "LukeDashjr 2019-6-01 2019-7-01\n",
      "maraoz 2019-6-01 2019-7-01\n",
      "MarcHochstein 2019-6-01 2019-7-01\n",
      "matt_odell 2019-6-01 2019-7-01\n",
      "MatthewRoszak 2019-6-01 2019-7-01\n",
      "maxkeiser 2019-6-01 2019-7-01\n",
      "mdudas 2019-6-01 2019-7-01\n",
      "melshapiro 2019-6-01 2019-7-01\n",
      "Melt_Dem 2019-6-01 2019-7-01\n",
      "MessariCrypto 2019-6-01 2019-7-01\n",
      "michaelterpin 2019-6-01 2019-7-01\n",
      "mikebelshe 2019-6-01 2019-7-01\n",
      "mikejcasey 2019-6-01 2019-7-01\n",
      "mir_btc 2019-6-01 2019-7-01\n",
      "mlevchin 2019-6-01 2019-7-01\n",
      "morcosa 2019-6-01 2019-7-01\n",
      "msantoriESQ 2019-6-01 2019-7-01\n",
      "muneeb 2019-6-01 2019-7-01\n",
      "MustStopMurad 2019-6-01 2019-7-01\n",
      "myetherwallet 2019-6-01 2019-7-01\n",
      "naomibrockwell 2019-6-01 2019-7-01\n",
      "nathanielpopper 2019-6-01 2019-7-01\n",
      "naval 2019-6-01 2019-7-01\n",
      "NeerajKA 2019-6-01 2019-7-01\n",
      "neha 2019-6-01 2019-7-01\n",
      "nejc_kodric 2019-6-01 2019-7-01\n",
      "nic__carter 2019-6-01 2019-7-01\n",
      "niccary 2019-6-01 2019-7-01\n",
      "NickSzabo4 2019-6-01 2019-7-01\n",
      "nlw 2019-6-01 2019-7-01\n",
      "notsofast 2019-6-01 2019-7-01\n",
      "novogratz 2019-6-01 2019-7-01\n",
      "NTmoney 2019-6-01 2019-7-01\n",
      "nvk 2019-6-01 2019-7-01\n",
      "officialmcafee 2019-6-01 2019-7-01\n",
      "oleganza 2019-6-01 2019-7-01\n",
      "OneMorePeter 2019-6-01 2019-7-01\n",
      "openbazaar 2019-6-01 2019-7-01\n",
      "orionwl 2019-6-01 2019-7-01\n",
      "pamelawjd 2019-6-01 2019-7-01\n",
      "PanteraCapital 2019-6-01 2019-7-01\n",
      "parabolictrav 2019-6-01 2019-7-01\n",
      "patrickc 2019-6-01 2019-7-01\n",
      "paulg 2019-6-01 2019-7-01\n",
      "paulvigna 2019-6-01 2019-7-01\n",
      "pbartstephens 2019-6-01 2019-7-01\n",
      "PerianneDC 2019-6-01 2019-7-01\n",
      "pete_rizzo_ 2019-6-01 2019-7-01\n",
      "peterktodd 2019-6-01 2019-7-01\n",
      "PeterLBrandt 2019-6-01 2019-7-01\n",
      "PeterMcCormack 2019-6-01 2019-7-01\n",
      "pierre_rochard 2019-6-01 2019-7-01\n",
      "pmarca 2019-6-01 2019-7-01\n",
      "Poloniex 2019-6-01 2019-7-01\n",
      "prestonjbyrne 2019-6-01 2019-7-01\n",
      "pwuille 2019-6-01 2019-7-01\n",
      "real_vijay 2019-6-01 2019-7-01\n",
      "realDonaldTrump 2019-6-01 2019-7-01\n",
      "reidhoffman 2019-6-01 2019-7-01\n",
      "roasbeef 2019-6-01 2019-7-01\n",
      "robustus 2019-6-01 2019-7-01\n",
      "rogerkver 2019-6-01 2019-7-01\n",
      "ryaneshea 2019-6-01 2019-7-01\n",
      "santisiri 2019-6-01 2019-7-01\n",
      "SatoshiLite 2019-6-01 2019-7-01\n",
      "SDLerner 2019-6-01 2019-7-01\n",
      "ShapeShift_io 2019-6-01 2019-7-01\n",
      "slush 2019-6-01 2019-7-01\n",
      "Snowden 2019-6-01 2019-7-01\n",
      "socrates1024 2019-6-01 2019-7-01\n",
      "spair 2019-6-01 2019-7-01\n",
      "sqcrypto 2019-6-01 2019-7-01\n",
      "starkness 2019-6-01 2019-7-01\n",
      "SunnyRayShow 2019-6-01 2019-7-01\n",
      "sysmannet 2019-6-01 2019-7-01\n",
      "tayvano_ 2019-6-01 2019-7-01\n",
      "TheBlock__ 2019-6-01 2019-7-01\n",
      "TheBlueMatt 2019-6-01 2019-7-01\n",
      "TheStalwart 2019-6-01 2019-7-01\n",
      "TimDraper 2019-6-01 2019-7-01\n",
      "ToneVays 2019-6-01 2019-7-01\n",
      "TraceMayer 2019-6-01 2019-7-01\n",
      "Trezor 2019-6-01 2019-7-01\n",
      "TuurDemeester 2019-6-01 2019-7-01\n",
      "twobitidiot 2019-6-01 2019-7-01\n",
      "tylerwinklevoss 2019-6-01 2019-7-01\n",
      "udiWertheimer 2019-6-01 2019-7-01\n",
      "valkenburgh 2019-6-01 2019-7-01\n",
      "VentureCoinist 2019-6-01 2019-7-01\n",
      "VinnyLingham 2019-6-01 2019-7-01\n",
      "virtuallylaw 2019-6-01 2019-7-01\n",
      "VitalikButerin 2019-6-01 2019-7-01\n",
      "VladZamfir 2019-6-01 2019-7-01\n",
      "WayneVaughan 2019-6-01 2019-7-01\n",
      "wences 2019-6-01 2019-7-01\n",
      "WhalePanda 2019-6-01 2019-7-01\n",
      "wheatpond 2019-6-01 2019-7-01\n",
      "wikileaks 2019-6-01 2019-7-01\n",
      "winklevoss 2019-6-01 2019-7-01\n",
      "winklevosscap 2019-6-01 2019-7-01\n",
      "woonomic 2019-6-01 2019-7-01\n",
      "xapo 2019-6-01 2019-7-01\n",
      "zaoyang 2019-6-01 2019-7-01\n",
      "zcashco 2019-6-01 2019-7-01\n",
      "zooko 2019-6-01 2019-7-01\n",
      "\n",
      "3/3 tweet scraper, scraping complete.\n",
      "Language Finder Stage.\n",
      "1/3 language_finder, initializing.\n",
      "2/3 language_finder, detecting language.\n",
      "3/3 language_finder, process complete.\n",
      "Tweet Cleaner Stage.\n",
      "1/3 tweet_cleaner, initializing.\n",
      "2/3 tweet_cleaner, cleaning text.\n"
     ]
    },
    {
     "data": {
      "application/vnd.jupyter.widget-view+json": {
       "model_id": "130b28e277224891ad319ef5ad5e05ed",
       "version_major": 2,
       "version_minor": 0
      },
      "text/plain": [
       "HBox(children=(IntProgress(value=1, bar_style='info', max=1), HTML(value='')))"
      ]
     },
     "metadata": {},
     "output_type": "display_data"
    },
    {
     "name": "stdout",
     "output_type": "stream",
     "text": [
      "\n",
      "3/3 tweet_cleaner, process complete.\n",
      "Keyword Tokenizer Stage.\n",
      "1/4 keyword_tokenizer, initializing.\n",
      "2/3 keyword_tokenizer, keyword tokenizing.\n"
     ]
    },
    {
     "data": {
      "application/vnd.jupyter.widget-view+json": {
       "model_id": "470e8ae10d1f45628df819f2de603d66",
       "version_major": 2,
       "version_minor": 0
      },
      "text/plain": [
       "HBox(children=(IntProgress(value=1, bar_style='info', max=1), HTML(value='')))"
      ]
     },
     "metadata": {},
     "output_type": "display_data"
    },
    {
     "name": "stdout",
     "output_type": "stream",
     "text": [
      "\n",
      "3/4 keyword_tokenizer, process complete.\n",
      "Sentiment Transformer Stage.\n",
      "1/3 sent_transformer, initializing.\n",
      "2/3 sent_transformer, transforming tweets to sentiments.\n"
     ]
    },
    {
     "data": {
      "application/vnd.jupyter.widget-view+json": {
       "model_id": "2ea0052445d7439a8c3b0919eb334eeb",
       "version_major": 2,
       "version_minor": 0
      },
      "text/plain": [
       "HBox(children=(IntProgress(value=1, bar_style='info', max=1), HTML(value='')))"
      ]
     },
     "metadata": {},
     "output_type": "display_data"
    },
    {
     "name": "stdout",
     "output_type": "stream",
     "text": [
      "\n",
      "3/3 sent_transformer, process complete.\n",
      "Outlier Tagging Stage.\n",
      "1/3 out_tagger, initializing.\n",
      "2/3 out_tagger, tagging data.\n"
     ]
    },
    {
     "data": {
      "application/vnd.jupyter.widget-view+json": {
       "model_id": "b17ceb26e327467ebe9bbe74521e927f",
       "version_major": 2,
       "version_minor": 0
      },
      "text/plain": [
       "HBox(children=(IntProgress(value=1, bar_style='info', max=1), HTML(value='')))"
      ]
     },
     "metadata": {},
     "output_type": "display_data"
    },
    {
     "name": "stdout",
     "output_type": "stream",
     "text": [
      "\n",
      "3/3 out_tagger, process complete.\n",
      "Indicator Build Stage.\n",
      "1/3 tsi_builder, initializing.\n",
      "2/3 tsi_builder, building indicator.\n",
      "file created: tsi_{}_{}_{}.csv\n",
      "3/3 tsi_builder, process complete.\n",
      "ETL Process Complete.\n"
     ]
    }
   ],
   "source": [
    "%run etl.py"
   ]
  },
  {
   "cell_type": "markdown",
   "metadata": {},
   "source": [
    "#### Check Result"
   ]
  },
  {
   "cell_type": "code",
   "execution_count": 3,
   "metadata": {},
   "outputs": [],
   "source": [
    "import pandas as pd\n",
    "import matplotlib.pyplot as plt"
   ]
  },
  {
   "cell_type": "code",
   "execution_count": 5,
   "metadata": {},
   "outputs": [
    {
     "data": {
      "image/png": "[encoded data removed]",
      "text/plain": [
       "<matplotlib.figure.Figure at 0x2216c0194a8>"
      ]
     },
     "metadata": {
      "needs_background": "light"
     },
     "output_type": "display_data"
    }
   ],
   "source": [
    "df_update = pd.read_csv('tsi_6_16_2019.csv')\n",
    "df_update['vad_compound'].plot(figsize=(15,6))\n",
    "plt.show()"
   ]
  },
  {
   "cell_type": "code",
   "execution_count": null,
   "metadata": {},
   "outputs": [],
   "source": []
  }
 ],
 "metadata": {
  "kernelspec": {
   "display_name": "Python 3",
   "language": "python",
   "name": "python3"
  },
  "language_info": {
   "codemirror_mode": {
    "name": "ipython",
    "version": 3
   },
   "file_extension": ".py",
   "mimetype": "text/x-python",
   "name": "python",
   "nbconvert_exporter": "python",
   "pygments_lexer": "ipython3",
   "version": "3.5.4"
  }
 },
 "nbformat": 4,
 "nbformat_minor": 2
}
