{
 "cells": [
  {
   "cell_type": "code",
   "execution_count": 27,
   "metadata": {},
   "outputs": [],
   "source": [
    "from tqdm import tqdm_notebook\n",
    "import pandas as pd\n",
    "import os\n",
    "import pickle\n",
    "import numpy as np\n",
    "from nltk.tokenize import TweetTokenizer\n",
    "from collections import defaultdict, Counter\n",
    "\n",
    "import matplotlib.pyplot as plt\n",
    "% matplotlib inline\n",
    "import seaborn as sns\n",
    "sns.set_style('darkgrid')\n",
    "sns.set(color_codes=True)\n",
    "\n",
    "from scipy.stats import kurtosis\n",
    "from scipy.stats import skew"
   ]
  },
  {
   "cell_type": "code",
   "execution_count": 2,
   "metadata": {},
   "outputs": [],
   "source": [
    "#!pip install vaderSentiment"
   ]
  },
  {
   "cell_type": "code",
   "execution_count": 3,
   "metadata": {},
   "outputs": [],
   "source": [
    "from vaderSentiment.vaderSentiment import SentimentIntensityAnalyzer"
   ]
  },
  {
   "cell_type": "code",
   "execution_count": 4,
   "metadata": {},
   "outputs": [
    {
     "data": {
      "application/vnd.jupyter.widget-view+json": {
       "model_id": "446f549fe9e44672b37f32071afd0b9e",
       "version_major": 2,
       "version_minor": 0
      },
      "text/plain": [
       "HBox(children=(IntProgress(value=0, max=17), HTML(value='')))"
      ]
     },
     "metadata": {},
     "output_type": "display_data"
    },
    {
     "name": "stdout",
     "output_type": "stream",
     "text": [
      "\n",
      "<class 'pandas.core.frame.DataFrame'>\n",
      "RangeIndex: 1373447 entries, 0 to 1373446\n",
      "Data columns (total 11 columns):\n",
      "id           1373447 non-null object\n",
      "date         1373447 non-null datetime64[ns]\n",
      "text         1373447 non-null object\n",
      "author       1373447 non-null object\n",
      "favorite     1373447 non-null int64\n",
      "url          1373447 non-null object\n",
      "lang         1373447 non-null object\n",
      "length       1373447 non-null int64\n",
      "cleantext    1373447 non-null object\n",
      "tokens       1373447 non-null object\n",
      "count        1373447 non-null int64\n",
      "dtypes: datetime64[ns](1), int64(3), object(7)\n",
      "memory usage: 115.3+ MB\n"
     ]
    }
   ],
   "source": [
    "# load clean tweets\n",
    "df_cleanscreen = pd.DataFrame()\n",
    "for i in tqdm_notebook(range(17)):\n",
    "    \n",
    "    with open('tweet_screen{}.pkl'.format(i), 'rb') as filehandle:  \n",
    "    # read the data as binary data stream\n",
    "        df_slice = pickle.load(filehandle)\n",
    "        \n",
    "    df_cleanscreen = pd.concat([df_cleanscreen, df_slice], ignore_index=True)\n",
    "\n",
    "df_cleanscreen.info()"
   ]
  },
  {
   "cell_type": "code",
   "execution_count": 5,
   "metadata": {},
   "outputs": [
    {
     "data": {
      "text/html": [
       "<div>\n",
       "<style scoped>\n",
       "    .dataframe tbody tr th:only-of-type {\n",
       "        vertical-align: middle;\n",
       "    }\n",
       "\n",
       "    .dataframe tbody tr th {\n",
       "        vertical-align: top;\n",
       "    }\n",
       "\n",
       "    .dataframe thead th {\n",
       "        text-align: right;\n",
       "    }\n",
       "</style>\n",
       "<table border=\"1\" class=\"dataframe\">\n",
       "  <thead>\n",
       "    <tr style=\"text-align: right;\">\n",
       "      <th></th>\n",
       "      <th>id</th>\n",
       "      <th>date</th>\n",
       "      <th>text</th>\n",
       "      <th>author</th>\n",
       "      <th>favorite</th>\n",
       "      <th>url</th>\n",
       "      <th>lang</th>\n",
       "      <th>length</th>\n",
       "      <th>cleantext</th>\n",
       "      <th>tokens</th>\n",
       "      <th>count</th>\n",
       "    </tr>\n",
       "  </thead>\n",
       "  <tbody>\n",
       "    <tr>\n",
       "      <th>204553</th>\n",
       "      <td>1022605221120368640</td>\n",
       "      <td>2018-07-26 15:10:58</td>\n",
       "      <td>The markets!</td>\n",
       "      <td>CryptoCred</td>\n",
       "      <td>3</td>\n",
       "      <td>https://twitter.com/CryptoCred/status/10226052...</td>\n",
       "      <td>en</td>\n",
       "      <td>12</td>\n",
       "      <td>The markets!</td>\n",
       "      <td>[The, markets, !]</td>\n",
       "      <td>3</td>\n",
       "    </tr>\n",
       "    <tr>\n",
       "      <th>1049584</th>\n",
       "      <td>454429521664421888</td>\n",
       "      <td>2014-04-10 18:23:35</td>\n",
       "      <td>@ naval @ Wehtam haha, figured but thought it ...</td>\n",
       "      <td>muneeb</td>\n",
       "      <td>0</td>\n",
       "      <td>https://twitter.com/muneeb/status/454429521664...</td>\n",
       "      <td>en</td>\n",
       "      <td>51</td>\n",
       "      <td>haha, figured but thought it still needs to be...</td>\n",
       "      <td>[haha, ,, figured, but, thought, it, still, ne...</td>\n",
       "      <td>11</td>\n",
       "    </tr>\n",
       "    <tr>\n",
       "      <th>904265</th>\n",
       "      <td>615215313211162628</td>\n",
       "      <td>2015-06-28 10:48:55</td>\n",
       "      <td>Best articulation of freedom I've heard: “I'll...</td>\n",
       "      <td>jack</td>\n",
       "      <td>106</td>\n",
       "      <td>https://twitter.com/jack/status/61521531321116...</td>\n",
       "      <td>en</td>\n",
       "      <td>117</td>\n",
       "      <td>Best articulation of freedom I've heard: “I'll...</td>\n",
       "      <td>[Best, articulation, of, freedom, I've, heard,...</td>\n",
       "      <td>28</td>\n",
       "    </tr>\n",
       "    <tr>\n",
       "      <th>465877</th>\n",
       "      <td>955001667434500096</td>\n",
       "      <td>2018-01-21 00:58:35</td>\n",
       "      <td>What if it's centrally issued by a smart contr...</td>\n",
       "      <td>VladZamfir</td>\n",
       "      <td>3</td>\n",
       "      <td>https://twitter.com/VladZamfir/status/95500166...</td>\n",
       "      <td>en</td>\n",
       "      <td>50</td>\n",
       "      <td>What if it's centrally issued by a smart contr...</td>\n",
       "      <td>[What, if, it's, centrally, issued, by, a, sma...</td>\n",
       "      <td>10</td>\n",
       "    </tr>\n",
       "    <tr>\n",
       "      <th>1179933</th>\n",
       "      <td>684580754374840321</td>\n",
       "      <td>2016-01-05 19:42:25</td>\n",
       "      <td>@ hansent Those are important, maybe the most ...</td>\n",
       "      <td>paulg</td>\n",
       "      <td>1</td>\n",
       "      <td>https://twitter.com/paulg/status/6845807543748...</td>\n",
       "      <td>en</td>\n",
       "      <td>107</td>\n",
       "      <td>Those are important, maybe the most important,...</td>\n",
       "      <td>[Those, are, important, ,, maybe, the, most, i...</td>\n",
       "      <td>24</td>\n",
       "    </tr>\n",
       "    <tr>\n",
       "      <th>33723</th>\n",
       "      <td>789003798140248064</td>\n",
       "      <td>2016-10-20 00:22:19</td>\n",
       "      <td>pic.twitter.com/szv7OfKvzV</td>\n",
       "      <td>AlyseKilleen</td>\n",
       "      <td>0</td>\n",
       "      <td>https://twitter.com/AlyseKilleen/status/789003...</td>\n",
       "      <td>en</td>\n",
       "      <td>26</td>\n",
       "      <td>pic.twitter.com/szv7OfKvzV</td>\n",
       "      <td>[pic.twitter.com/szv7OfKvzV]</td>\n",
       "      <td>1</td>\n",
       "    </tr>\n",
       "    <tr>\n",
       "      <th>503914</th>\n",
       "      <td>797578451586838529</td>\n",
       "      <td>2016-11-12 15:14:55</td>\n",
       "      <td>It's very difficult in practice, especially af...</td>\n",
       "      <td>aantonop</td>\n",
       "      <td>0</td>\n",
       "      <td>https://twitter.com/aantonop/status/7975784515...</td>\n",
       "      <td>en</td>\n",
       "      <td>97</td>\n",
       "      <td>It's very difficult in practice, especially af...</td>\n",
       "      <td>[It's, very, difficult, in, practice, ,, espec...</td>\n",
       "      <td>20</td>\n",
       "    </tr>\n",
       "    <tr>\n",
       "      <th>753741</th>\n",
       "      <td>1128709977936416769</td>\n",
       "      <td>2019-05-15 10:13:23</td>\n",
       "      <td>54/ TPS Assuming that current Layer 1 is 20 TP...</td>\n",
       "      <td>danheld</td>\n",
       "      <td>5</td>\n",
       "      <td>https://twitter.com/danheld/status/11287099779...</td>\n",
       "      <td>en</td>\n",
       "      <td>158</td>\n",
       "      <td>54/ TPS Assuming that current Layer 1 is 20 TP...</td>\n",
       "      <td>[54, /, TPS, Assuming, that, current, Layer, 1...</td>\n",
       "      <td>37</td>\n",
       "    </tr>\n",
       "    <tr>\n",
       "      <th>4302</th>\n",
       "      <td>913386429811699712</td>\n",
       "      <td>2017-09-28 05:54:29</td>\n",
       "      <td>Ha! Definitely not advice....merely an observa...</td>\n",
       "      <td>APompliano</td>\n",
       "      <td>2</td>\n",
       "      <td>https://twitter.com/APompliano/status/91338642...</td>\n",
       "      <td>en</td>\n",
       "      <td>53</td>\n",
       "      <td>Ha! Definitely not advice....merely an observa...</td>\n",
       "      <td>[Ha, !, Definitely, not, advice, ..., merely, ...</td>\n",
       "      <td>10</td>\n",
       "    </tr>\n",
       "    <tr>\n",
       "      <th>147731</th>\n",
       "      <td>1071261318961758208</td>\n",
       "      <td>2018-12-07 20:32:56</td>\n",
       "      <td>“Most optimistic experts estimate it will take...</td>\n",
       "      <td>ChristopherA</td>\n",
       "      <td>47</td>\n",
       "      <td>https://twitter.com/ChristopherA/status/107126...</td>\n",
       "      <td>en</td>\n",
       "      <td>255</td>\n",
       "      <td>“Most optimistic experts estimate it will take...</td>\n",
       "      <td>[“, Most, optimistic, experts, estimate, it, w...</td>\n",
       "      <td>58</td>\n",
       "    </tr>\n",
       "  </tbody>\n",
       "</table>\n",
       "</div>"
      ],
      "text/plain": [
       "                          id                date  \\\n",
       "204553   1022605221120368640 2018-07-26 15:10:58   \n",
       "1049584   454429521664421888 2014-04-10 18:23:35   \n",
       "904265    615215313211162628 2015-06-28 10:48:55   \n",
       "465877    955001667434500096 2018-01-21 00:58:35   \n",
       "1179933   684580754374840321 2016-01-05 19:42:25   \n",
       "33723     789003798140248064 2016-10-20 00:22:19   \n",
       "503914    797578451586838529 2016-11-12 15:14:55   \n",
       "753741   1128709977936416769 2019-05-15 10:13:23   \n",
       "4302      913386429811699712 2017-09-28 05:54:29   \n",
       "147731   1071261318961758208 2018-12-07 20:32:56   \n",
       "\n",
       "                                                      text        author  \\\n",
       "204553                                        The markets!    CryptoCred   \n",
       "1049584  @ naval @ Wehtam haha, figured but thought it ...        muneeb   \n",
       "904265   Best articulation of freedom I've heard: “I'll...          jack   \n",
       "465877   What if it's centrally issued by a smart contr...    VladZamfir   \n",
       "1179933  @ hansent Those are important, maybe the most ...         paulg   \n",
       "33723                           pic.twitter.com/szv7OfKvzV  AlyseKilleen   \n",
       "503914   It's very difficult in practice, especially af...      aantonop   \n",
       "753741   54/ TPS Assuming that current Layer 1 is 20 TP...       danheld   \n",
       "4302     Ha! Definitely not advice....merely an observa...    APompliano   \n",
       "147731   “Most optimistic experts estimate it will take...  ChristopherA   \n",
       "\n",
       "         favorite                                                url lang  \\\n",
       "204553          3  https://twitter.com/CryptoCred/status/10226052...   en   \n",
       "1049584         0  https://twitter.com/muneeb/status/454429521664...   en   \n",
       "904265        106  https://twitter.com/jack/status/61521531321116...   en   \n",
       "465877          3  https://twitter.com/VladZamfir/status/95500166...   en   \n",
       "1179933         1  https://twitter.com/paulg/status/6845807543748...   en   \n",
       "33723           0  https://twitter.com/AlyseKilleen/status/789003...   en   \n",
       "503914          0  https://twitter.com/aantonop/status/7975784515...   en   \n",
       "753741          5  https://twitter.com/danheld/status/11287099779...   en   \n",
       "4302            2  https://twitter.com/APompliano/status/91338642...   en   \n",
       "147731         47  https://twitter.com/ChristopherA/status/107126...   en   \n",
       "\n",
       "         length                                          cleantext  \\\n",
       "204553       12                                       The markets!   \n",
       "1049584      51  haha, figured but thought it still needs to be...   \n",
       "904265      117  Best articulation of freedom I've heard: “I'll...   \n",
       "465877       50  What if it's centrally issued by a smart contr...   \n",
       "1179933     107  Those are important, maybe the most important,...   \n",
       "33723        26                         pic.twitter.com/szv7OfKvzV   \n",
       "503914       97  It's very difficult in practice, especially af...   \n",
       "753741      158  54/ TPS Assuming that current Layer 1 is 20 TP...   \n",
       "4302         53  Ha! Definitely not advice....merely an observa...   \n",
       "147731      255  “Most optimistic experts estimate it will take...   \n",
       "\n",
       "                                                    tokens  count  \n",
       "204553                                   [The, markets, !]      3  \n",
       "1049584  [haha, ,, figured, but, thought, it, still, ne...     11  \n",
       "904265   [Best, articulation, of, freedom, I've, heard,...     28  \n",
       "465877   [What, if, it's, centrally, issued, by, a, sma...     10  \n",
       "1179933  [Those, are, important, ,, maybe, the, most, i...     24  \n",
       "33723                         [pic.twitter.com/szv7OfKvzV]      1  \n",
       "503914   [It's, very, difficult, in, practice, ,, espec...     20  \n",
       "753741   [54, /, TPS, Assuming, that, current, Layer, 1...     37  \n",
       "4302     [Ha, !, Definitely, not, advice, ..., merely, ...     10  \n",
       "147731   [“, Most, optimistic, experts, estimate, it, w...     58  "
      ]
     },
     "execution_count": 5,
     "metadata": {},
     "output_type": "execute_result"
    }
   ],
   "source": [
    "df_cleanscreen.sample(10)"
   ]
  },
  {
   "cell_type": "code",
   "execution_count": 6,
   "metadata": {},
   "outputs": [
    {
     "name": "stdout",
     "output_type": "stream",
     "text": [
      "I get my hair cut in Ampthill------------------------------------ {'neg': 0.296, 'pos': 0.0, 'neu': 0.704, 'compound': -0.2732}\n"
     ]
    }
   ],
   "source": [
    "sentence = 'I get my hair cut in Ampthill'\n",
    "analyzer = SentimentIntensityAnalyzer()\n",
    "vs = analyzer.polarity_scores(sentence)\n",
    "print(\"{:-<65} {}\".format(sentence, str(vs)))"
   ]
  },
  {
   "cell_type": "code",
   "execution_count": 7,
   "metadata": {},
   "outputs": [
    {
     "data": {
      "text/plain": [
       "-0.2732"
      ]
     },
     "execution_count": 7,
     "metadata": {},
     "output_type": "execute_result"
    }
   ],
   "source": [
    "vs['compound']"
   ]
  },
  {
   "cell_type": "code",
   "execution_count": 8,
   "metadata": {},
   "outputs": [
    {
     "data": {
      "application/vnd.jupyter.widget-view+json": {
       "model_id": "cdab089293a7484db5fa41da97ca32a1",
       "version_major": 2,
       "version_minor": 0
      },
      "text/plain": [
       "HBox(children=(IntProgress(value=1, bar_style='info', max=1), HTML(value='')))"
      ]
     },
     "metadata": {},
     "output_type": "display_data"
    },
    {
     "name": "stdout",
     "output_type": "stream",
     "text": [
      "\n"
     ]
    }
   ],
   "source": [
    "# transform tweets to sentiment\n",
    "pos_list = []\n",
    "neu_list = []\n",
    "neg_list = []\n",
    "cmp_list = []\n",
    "analyzer = SentimentIntensityAnalyzer()\n",
    "\n",
    "for _,nrows in tqdm_notebook(df_cleanscreen.iterrows()):\n",
    "    vs = analyzer.polarity_scores(nrows['cleantext'])\n",
    "    pos_list.append(vs['pos'])\n",
    "    neu_list.append(vs['neu'])\n",
    "    neg_list.append(vs['neg'])\n",
    "    cmp_list.append(vs['compound'])\n",
    "    \n",
    "df_cleanscreen['vad_positive'] = pos_list\n",
    "df_cleanscreen['vad_neutral'] = neu_list\n",
    "df_cleanscreen['vad_negative'] = neg_list\n",
    "df_cleanscreen['vad_compound'] = cmp_list   "
   ]
  },
  {
   "cell_type": "code",
   "execution_count": 9,
   "metadata": {},
   "outputs": [
    {
     "data": {
      "text/html": [
       "<div>\n",
       "<style scoped>\n",
       "    .dataframe tbody tr th:only-of-type {\n",
       "        vertical-align: middle;\n",
       "    }\n",
       "\n",
       "    .dataframe tbody tr th {\n",
       "        vertical-align: top;\n",
       "    }\n",
       "\n",
       "    .dataframe thead th {\n",
       "        text-align: right;\n",
       "    }\n",
       "</style>\n",
       "<table border=\"1\" class=\"dataframe\">\n",
       "  <thead>\n",
       "    <tr style=\"text-align: right;\">\n",
       "      <th></th>\n",
       "      <th>id</th>\n",
       "      <th>date</th>\n",
       "      <th>text</th>\n",
       "      <th>author</th>\n",
       "      <th>favorite</th>\n",
       "      <th>url</th>\n",
       "      <th>lang</th>\n",
       "      <th>length</th>\n",
       "      <th>cleantext</th>\n",
       "      <th>tokens</th>\n",
       "      <th>count</th>\n",
       "      <th>vad_positive</th>\n",
       "      <th>vad_neutral</th>\n",
       "      <th>vad_negative</th>\n",
       "      <th>vad_compound</th>\n",
       "    </tr>\n",
       "  </thead>\n",
       "  <tbody>\n",
       "    <tr>\n",
       "      <th>76262</th>\n",
       "      <td>517402131297742848</td>\n",
       "      <td>2014-10-01 12:54:15</td>\n",
       "      <td>Day ain't over yet, tune at 5pm for @ CNBCFast...</td>\n",
       "      <td>BKBrianKelly</td>\n",
       "      <td>3</td>\n",
       "      <td>https://twitter.com/BKBrianKelly/status/517402...</td>\n",
       "      <td>en</td>\n",
       "      <td>108</td>\n",
       "      <td>Day ain't over yet, tune at 5pm for we have ex...</td>\n",
       "      <td>[Day, ain't, over, yet, ,, tune, at, 5pm, for,...</td>\n",
       "      <td>18</td>\n",
       "      <td>0.086</td>\n",
       "      <td>0.914</td>\n",
       "      <td>0.000</td>\n",
       "      <td>0.1280</td>\n",
       "    </tr>\n",
       "    <tr>\n",
       "      <th>951076</th>\n",
       "      <td>299177503107448832</td>\n",
       "      <td>2013-02-06 07:27:29</td>\n",
       "      <td>Bring Your Own Device Trend Sparks New Securit...</td>\n",
       "      <td>jonmatonis</td>\n",
       "      <td>0</td>\n",
       "      <td>https://twitter.com/jonmatonis/status/29917750...</td>\n",
       "      <td>en</td>\n",
       "      <td>64</td>\n",
       "      <td>Bring Your Own Device Trend Sparks New Securit...</td>\n",
       "      <td>[Bring, Your, Own, Device, Trend, Sparks, New,...</td>\n",
       "      <td>11</td>\n",
       "      <td>0.211</td>\n",
       "      <td>0.789</td>\n",
       "      <td>0.000</td>\n",
       "      <td>0.3400</td>\n",
       "    </tr>\n",
       "    <tr>\n",
       "      <th>1032809</th>\n",
       "      <td>471711514727297024</td>\n",
       "      <td>2014-05-28 10:56:03</td>\n",
       "      <td>Facebook's Ben Davenport leaves for bitcoin st...</td>\n",
       "      <td>michaelterpin</td>\n",
       "      <td>7</td>\n",
       "      <td>https://twitter.com/michaelterpin/status/47171...</td>\n",
       "      <td>en</td>\n",
       "      <td>72</td>\n",
       "      <td>Facebook's Ben Davenport leaves for bitcoin st...</td>\n",
       "      <td>[Facebook's, Ben, Davenport, leaves, for, bitc...</td>\n",
       "      <td>10</td>\n",
       "      <td>0.000</td>\n",
       "      <td>1.000</td>\n",
       "      <td>0.000</td>\n",
       "      <td>0.0000</td>\n",
       "    </tr>\n",
       "    <tr>\n",
       "      <th>1083153</th>\n",
       "      <td>1029271488656863232</td>\n",
       "      <td>2018-08-14 00:40:20</td>\n",
       "      <td>Learning, because I enjoy it.</td>\n",
       "      <td>naval</td>\n",
       "      <td>227</td>\n",
       "      <td>https://twitter.com/naval/status/1029271488656...</td>\n",
       "      <td>en</td>\n",
       "      <td>29</td>\n",
       "      <td>Learning, because I enjoy it.</td>\n",
       "      <td>[Learning, ,, because, I, enjoy, it, .]</td>\n",
       "      <td>7</td>\n",
       "      <td>0.516</td>\n",
       "      <td>0.484</td>\n",
       "      <td>0.000</td>\n",
       "      <td>0.4939</td>\n",
       "    </tr>\n",
       "    <tr>\n",
       "      <th>1276535</th>\n",
       "      <td>8875411076</td>\n",
       "      <td>2010-02-09 15:09:34</td>\n",
       "      <td>do i cancel class tomorrow? @ yalelawtech</td>\n",
       "      <td>starkness</td>\n",
       "      <td>0</td>\n",
       "      <td>https://twitter.com/starkness/status/8875411076</td>\n",
       "      <td>en</td>\n",
       "      <td>27</td>\n",
       "      <td>do i cancel class tomorrow?</td>\n",
       "      <td>[do, i, cancel, class, tomorrow, ?]</td>\n",
       "      <td>6</td>\n",
       "      <td>0.000</td>\n",
       "      <td>0.600</td>\n",
       "      <td>0.400</td>\n",
       "      <td>-0.2500</td>\n",
       "    </tr>\n",
       "    <tr>\n",
       "      <th>56301</th>\n",
       "      <td>1032760853693493248</td>\n",
       "      <td>2018-08-23 15:45:49</td>\n",
       "      <td>Ripple has no way of getting USD into your che...</td>\n",
       "      <td>AriDavidPaul</td>\n",
       "      <td>1</td>\n",
       "      <td>https://twitter.com/AriDavidPaul/status/103276...</td>\n",
       "      <td>en</td>\n",
       "      <td>169</td>\n",
       "      <td>Ripple has no way of getting USD into your che...</td>\n",
       "      <td>[Ripple, has, no, way, of, getting, USD, into,...</td>\n",
       "      <td>37</td>\n",
       "      <td>0.000</td>\n",
       "      <td>0.841</td>\n",
       "      <td>0.159</td>\n",
       "      <td>-0.6486</td>\n",
       "    </tr>\n",
       "    <tr>\n",
       "      <th>365098</th>\n",
       "      <td>1122829846193811456</td>\n",
       "      <td>2019-04-29 04:47:51</td>\n",
       "      <td>I’m not a BTC maximalist. If you listen to my ...</td>\n",
       "      <td>PeterMcCormack</td>\n",
       "      <td>1</td>\n",
       "      <td>https://twitter.com/PeterMcCormack/status/1122...</td>\n",
       "      <td>en</td>\n",
       "      <td>128</td>\n",
       "      <td>I’m not a BTC maximalist. If you listen to my ...</td>\n",
       "      <td>[I, ’, m, not, a, BTC, maximalist, ., If, you,...</td>\n",
       "      <td>34</td>\n",
       "      <td>0.120</td>\n",
       "      <td>0.880</td>\n",
       "      <td>0.000</td>\n",
       "      <td>0.4588</td>\n",
       "    </tr>\n",
       "    <tr>\n",
       "      <th>942696</th>\n",
       "      <td>23208848802</td>\n",
       "      <td>2010-09-06 21:43:36</td>\n",
       "      <td>RT @ malburns \"Linden Lab loses $100 million s...</td>\n",
       "      <td>jonmatonis</td>\n",
       "      <td>0</td>\n",
       "      <td>https://twitter.com/jonmatonis/status/23208848802</td>\n",
       "      <td>en</td>\n",
       "      <td>45</td>\n",
       "      <td>RT \"Linden Lab loses $100 million since July\"</td>\n",
       "      <td>[RT, \", Linden, Lab, loses, $, 100, million, s...</td>\n",
       "      <td>11</td>\n",
       "      <td>0.000</td>\n",
       "      <td>0.753</td>\n",
       "      <td>0.247</td>\n",
       "      <td>-0.3182</td>\n",
       "    </tr>\n",
       "    <tr>\n",
       "      <th>1133790</th>\n",
       "      <td>857636800013230080</td>\n",
       "      <td>2017-04-27 09:45:21</td>\n",
       "      <td>John McAfee: the why and how of the Privacy Ph...</td>\n",
       "      <td>officialmcafee</td>\n",
       "      <td>75</td>\n",
       "      <td>https://twitter.com/officialmcafee/status/8576...</td>\n",
       "      <td>en</td>\n",
       "      <td>52</td>\n",
       "      <td>John McAfee: the why and how of the Privacy Ph...</td>\n",
       "      <td>[John, McAfee, :, the, why, and, how, of, the,...</td>\n",
       "      <td>13</td>\n",
       "      <td>0.000</td>\n",
       "      <td>1.000</td>\n",
       "      <td>0.000</td>\n",
       "      <td>0.0000</td>\n",
       "    </tr>\n",
       "    <tr>\n",
       "      <th>719047</th>\n",
       "      <td>963772500164468736</td>\n",
       "      <td>2018-02-14 05:50:44</td>\n",
       "      <td>Haha everyone's opinion matters to me</td>\n",
       "      <td>crypto_bobby</td>\n",
       "      <td>5</td>\n",
       "      <td>https://twitter.com/crypto_bobby/status/963772...</td>\n",
       "      <td>en</td>\n",
       "      <td>37</td>\n",
       "      <td>Haha everyone's opinion matters to me</td>\n",
       "      <td>[Haha, everyone's, opinion, matters, to, me]</td>\n",
       "      <td>6</td>\n",
       "      <td>0.506</td>\n",
       "      <td>0.494</td>\n",
       "      <td>0.000</td>\n",
       "      <td>0.4767</td>\n",
       "    </tr>\n",
       "  </tbody>\n",
       "</table>\n",
       "</div>"
      ],
      "text/plain": [
       "                          id                date  \\\n",
       "76262     517402131297742848 2014-10-01 12:54:15   \n",
       "951076    299177503107448832 2013-02-06 07:27:29   \n",
       "1032809   471711514727297024 2014-05-28 10:56:03   \n",
       "1083153  1029271488656863232 2018-08-14 00:40:20   \n",
       "1276535           8875411076 2010-02-09 15:09:34   \n",
       "56301    1032760853693493248 2018-08-23 15:45:49   \n",
       "365098   1122829846193811456 2019-04-29 04:47:51   \n",
       "942696           23208848802 2010-09-06 21:43:36   \n",
       "1133790   857636800013230080 2017-04-27 09:45:21   \n",
       "719047    963772500164468736 2018-02-14 05:50:44   \n",
       "\n",
       "                                                      text          author  \\\n",
       "76262    Day ain't over yet, tune at 5pm for @ CNBCFast...    BKBrianKelly   \n",
       "951076   Bring Your Own Device Trend Sparks New Securit...      jonmatonis   \n",
       "1032809  Facebook's Ben Davenport leaves for bitcoin st...   michaelterpin   \n",
       "1083153                      Learning, because I enjoy it.           naval   \n",
       "1276535          do i cancel class tomorrow? @ yalelawtech       starkness   \n",
       "56301    Ripple has no way of getting USD into your che...    AriDavidPaul   \n",
       "365098   I’m not a BTC maximalist. If you listen to my ...  PeterMcCormack   \n",
       "942696   RT @ malburns \"Linden Lab loses $100 million s...      jonmatonis   \n",
       "1133790  John McAfee: the why and how of the Privacy Ph...  officialmcafee   \n",
       "719047               Haha everyone's opinion matters to me    crypto_bobby   \n",
       "\n",
       "         favorite                                                url lang  \\\n",
       "76262           3  https://twitter.com/BKBrianKelly/status/517402...   en   \n",
       "951076          0  https://twitter.com/jonmatonis/status/29917750...   en   \n",
       "1032809         7  https://twitter.com/michaelterpin/status/47171...   en   \n",
       "1083153       227  https://twitter.com/naval/status/1029271488656...   en   \n",
       "1276535         0    https://twitter.com/starkness/status/8875411076   en   \n",
       "56301           1  https://twitter.com/AriDavidPaul/status/103276...   en   \n",
       "365098          1  https://twitter.com/PeterMcCormack/status/1122...   en   \n",
       "942696          0  https://twitter.com/jonmatonis/status/23208848802   en   \n",
       "1133790        75  https://twitter.com/officialmcafee/status/8576...   en   \n",
       "719047          5  https://twitter.com/crypto_bobby/status/963772...   en   \n",
       "\n",
       "         length                                          cleantext  \\\n",
       "76262       108  Day ain't over yet, tune at 5pm for we have ex...   \n",
       "951076       64  Bring Your Own Device Trend Sparks New Securit...   \n",
       "1032809      72  Facebook's Ben Davenport leaves for bitcoin st...   \n",
       "1083153      29                      Learning, because I enjoy it.   \n",
       "1276535      27                        do i cancel class tomorrow?   \n",
       "56301       169  Ripple has no way of getting USD into your che...   \n",
       "365098      128  I’m not a BTC maximalist. If you listen to my ...   \n",
       "942696       45      RT \"Linden Lab loses $100 million since July\"   \n",
       "1133790      52  John McAfee: the why and how of the Privacy Ph...   \n",
       "719047       37              Haha everyone's opinion matters to me   \n",
       "\n",
       "                                                    tokens  count  \\\n",
       "76262    [Day, ain't, over, yet, ,, tune, at, 5pm, for,...     18   \n",
       "951076   [Bring, Your, Own, Device, Trend, Sparks, New,...     11   \n",
       "1032809  [Facebook's, Ben, Davenport, leaves, for, bitc...     10   \n",
       "1083153            [Learning, ,, because, I, enjoy, it, .]      7   \n",
       "1276535                [do, i, cancel, class, tomorrow, ?]      6   \n",
       "56301    [Ripple, has, no, way, of, getting, USD, into,...     37   \n",
       "365098   [I, ’, m, not, a, BTC, maximalist, ., If, you,...     34   \n",
       "942696   [RT, \", Linden, Lab, loses, $, 100, million, s...     11   \n",
       "1133790  [John, McAfee, :, the, why, and, how, of, the,...     13   \n",
       "719047        [Haha, everyone's, opinion, matters, to, me]      6   \n",
       "\n",
       "         vad_positive  vad_neutral  vad_negative  vad_compound  \n",
       "76262           0.086        0.914         0.000        0.1280  \n",
       "951076          0.211        0.789         0.000        0.3400  \n",
       "1032809         0.000        1.000         0.000        0.0000  \n",
       "1083153         0.516        0.484         0.000        0.4939  \n",
       "1276535         0.000        0.600         0.400       -0.2500  \n",
       "56301           0.000        0.841         0.159       -0.6486  \n",
       "365098          0.120        0.880         0.000        0.4588  \n",
       "942696          0.000        0.753         0.247       -0.3182  \n",
       "1133790         0.000        1.000         0.000        0.0000  \n",
       "719047          0.506        0.494         0.000        0.4767  "
      ]
     },
     "execution_count": 9,
     "metadata": {},
     "output_type": "execute_result"
    }
   ],
   "source": [
    "df_cleanscreen.sample(10)"
   ]
  },
  {
   "cell_type": "code",
   "execution_count": 10,
   "metadata": {},
   "outputs": [],
   "source": [
    "def kurtosis_skewness(data):\n",
    "    print( '      kurtosis=',\"%.1f\" % kurtosis(data), '   skewness=',\"%.1f\" % skew(data), '     sum=',np.sum(data))\n",
    "    print()"
   ]
  },
  {
   "cell_type": "code",
   "execution_count": 11,
   "metadata": {},
   "outputs": [
    {
     "data": {
      "image/png": "[encoded data removed]",
      "text/plain": [
       "<matplotlib.figure.Figure at 0x270a60bc518>"
      ]
     },
     "metadata": {
      "needs_background": "light"
     },
     "output_type": "display_data"
    },
    {
     "name": "stdout",
     "output_type": "stream",
     "text": [
      "mined dataset\n",
      "      kurtosis= 1.6    skewness= 1.2      sum= 25530975\n",
      "\n"
     ]
    }
   ],
   "source": [
    "# initialize list\n",
    "data3 = df_cleanscreen['count'].tolist()\n",
    "\n",
    "# set up a beautiful plot        \n",
    "plt.hist(data3,30,(0,75), color = (.1,.1,.95,.3), label = '2019 study')\n",
    "plt.legend(loc='upper right')\n",
    "plt.title('Words in Tweets')\n",
    "plt.xlabel('# Words')\n",
    "plt.ylabel('Number of Tweets')\n",
    "plt.show()\n",
    "        \n",
    "# after histogram, print out the distribution descriptors\n",
    "print('mined dataset')\n",
    "kurtosis_skewness(data3)"
   ]
  },
  {
   "cell_type": "code",
   "execution_count": 12,
   "metadata": {},
   "outputs": [
    {
     "data": {
      "image/png": "[encoded data removed]",
      "text/plain": [
       "<matplotlib.figure.Figure at 0x2709989ba58>"
      ]
     },
     "metadata": {
      "needs_background": "light"
     },
     "output_type": "display_data"
    },
    {
     "name": "stdout",
     "output_type": "stream",
     "text": [
      "mined dataset\n",
      "      kurtosis= -0.4    skewness= -0.2      sum= 196302.51609999995\n",
      "\n"
     ]
    }
   ],
   "source": [
    "# initialize list\n",
    "data3 = df_cleanscreen['vad_compound'].tolist()\n",
    "\n",
    "# set up a beautiful plot        \n",
    "plt.hist(data3,30,(-1,1), color = (.1,.1,.95,.3), label = '2019 study')\n",
    "plt.legend(loc='upper right')\n",
    "plt.title('Compound Sentiment')\n",
    "plt.xlabel('Sentiment Score')\n",
    "plt.ylabel('Number of Tweets')\n",
    "plt.show()\n",
    "        \n",
    "# after histogram, print out the distribution descriptors\n",
    "print('mined dataset')\n",
    "kurtosis_skewness(data3)"
   ]
  },
  {
   "cell_type": "code",
   "execution_count": 13,
   "metadata": {},
   "outputs": [
    {
     "data": {
      "image/png": "[encoded data removed]",
      "text/plain": [
       "<matplotlib.figure.Figure at 0x270c5f3d2e8>"
      ]
     },
     "metadata": {
      "needs_background": "light"
     },
     "output_type": "display_data"
    },
    {
     "name": "stdout",
     "output_type": "stream",
     "text": [
      "mined dataset\n",
      "      kurtosis= 3.2    skewness= 1.6      sum= 193510.82799999986\n",
      "\n"
     ]
    }
   ],
   "source": [
    "# initialize list\n",
    "data3 = df_cleanscreen['vad_positive'].tolist()\n",
    "\n",
    "# set up a beautiful plot        \n",
    "plt.hist(data3,30,(-1,1), color = (.1,.1,.95,.3), label = '2019 study')\n",
    "plt.legend(loc='upper right')\n",
    "plt.title('Positive Sentiment')\n",
    "plt.xlabel('Sentiment Score')\n",
    "plt.ylabel('Number of Tweets')\n",
    "plt.show()\n",
    "        \n",
    "# after histogram, print out the distribution descriptors\n",
    "print('mined dataset')\n",
    "kurtosis_skewness(data3)"
   ]
  },
  {
   "cell_type": "code",
   "execution_count": 14,
   "metadata": {},
   "outputs": [
    {
     "data": {
      "image/png": "[encoded data removed]",
      "text/plain": [
       "<matplotlib.figure.Figure at 0x270995d5160>"
      ]
     },
     "metadata": {
      "needs_background": "light"
     },
     "output_type": "display_data"
    },
    {
     "name": "stdout",
     "output_type": "stream",
     "text": [
      "mined dataset\n",
      "      kurtosis= 7.5    skewness= 2.4      sum= 84715.91499999996\n",
      "\n"
     ]
    }
   ],
   "source": [
    "# initialize list\n",
    "data3 = df_cleanscreen['vad_negative'].tolist()\n",
    "\n",
    "# set up a beautiful plot        \n",
    "plt.hist(data3,30,(-1,1), color = (.1,.1,.95,.3), label = '2019 study')\n",
    "plt.legend(loc='upper right')\n",
    "plt.title('Negative Sentiment')\n",
    "plt.xlabel('Sentiment Score')\n",
    "plt.ylabel('Number of Tweets')\n",
    "plt.show()\n",
    "        \n",
    "# after histogram, print out the distribution descriptors\n",
    "print('mined dataset')\n",
    "kurtosis_skewness(data3)"
   ]
  },
  {
   "cell_type": "code",
   "execution_count": 15,
   "metadata": {},
   "outputs": [
    {
     "data": {
      "image/png": "[encoded data removed]",
      "text/plain": [
       "<matplotlib.figure.Figure at 0x270aa21b470>"
      ]
     },
     "metadata": {
      "needs_background": "light"
     },
     "output_type": "display_data"
    },
    {
     "name": "stdout",
     "output_type": "stream",
     "text": [
      "mined dataset\n",
      "      kurtosis= 1.4    skewness= -1.1      sum= 1092485.895\n",
      "\n"
     ]
    }
   ],
   "source": [
    "# initialize list\n",
    "data3 = df_cleanscreen['vad_neutral'].tolist()\n",
    "\n",
    "# set up a beautiful plot        \n",
    "plt.hist(data3,30,(-1,1), color = (.1,.1,.95,.3), label = '2019 study')\n",
    "plt.legend(loc='upper right')\n",
    "plt.title('Neutral Sentiment')\n",
    "plt.xlabel('Sentiment Score')\n",
    "plt.ylabel('Number of Tweets')\n",
    "plt.show()\n",
    "        \n",
    "# after histogram, print out the distribution descriptors\n",
    "print('mined dataset')\n",
    "kurtosis_skewness(data3)"
   ]
  },
  {
   "cell_type": "code",
   "execution_count": 20,
   "metadata": {},
   "outputs": [
    {
     "name": "stderr",
     "output_type": "stream",
     "text": [
      "C:\\Users\\Gamer\\Python\\Anaconda3\\envs\\hmm-tagger\\lib\\site-packages\\scipy\\stats\\stats.py:1706: FutureWarning: Using a non-tuple sequence for multidimensional indexing is deprecated; use `arr[tuple(seq)]` instead of `arr[seq]`. In the future this will be interpreted as an array index, `arr[np.array(seq)]`, which will result either in an error or a different result.\n",
      "  return np.add.reduce(sorted[indexer] * weights, axis=axis) / sumval\n"
     ]
    },
    {
     "data": {
      "image/png": "[encoded data removed]",
      "text/plain": [
       "<matplotlib.figure.Figure at 0x270ab7a9438>"
      ]
     },
     "metadata": {
      "needs_background": "light"
     },
     "output_type": "display_data"
    }
   ],
   "source": [
    "dfSample = df_cs.sample(1000)\n",
    "x = dfSample['count']\n",
    "y= dfSample['vad_compound']\n",
    "g = sns.jointplot(x, y, kind=\"reg\")\n",
    "plt.show()                                             "
   ]
  },
  {
   "cell_type": "code",
   "execution_count": 23,
   "metadata": {},
   "outputs": [],
   "source": [
    "# read in the selected poets\n",
    "with open('screened_seeds_06119.pkl', 'rb') as filehandle:  \n",
    "    # read the data as binary data stream\n",
    "        poets = pickle.load(filehandle)"
   ]
  },
  {
   "cell_type": "code",
   "execution_count": 29,
   "metadata": {},
   "outputs": [
    {
     "data": {
      "application/vnd.jupyter.widget-view+json": {
       "model_id": "92ecb03c0a044326ae68a7b82f9d087a",
       "version_major": 2,
       "version_minor": 0
      },
      "text/plain": [
       "HBox(children=(IntProgress(value=0, max=143), HTML(value='')))"
      ]
     },
     "metadata": {},
     "output_type": "display_data"
    },
    {
     "name": "stdout",
     "output_type": "stream",
     "text": [
      "\n"
     ]
    }
   ],
   "source": [
    "# append poet table with sentiments\n",
    "max_sent = []\n",
    "min_sent = []\n",
    "avg_sent = []\n",
    "med_sent = []\n",
    "\n",
    "for poet in tqdm_notebook(poets):\n",
    "    \n",
    "    df_slice = df_cleanscreen[df_cleanscreen['author'] == poet] \n",
    "    max_sent.append(max(df_slice['vad_compound']))\n",
    "    min_sent.append(min(df_slice['vad_compound']))\n",
    "    avg_sent.append(np.mean(df_slice['vad_compound']))\n",
    "    med_sent.append(np.median(df_slice['vad_compound']))\n",
    "    \n",
    "df_poets = pd.DataFrame()\n",
    "df_poets['max_sent'] = max_sent\n",
    "df_poets['min_sent'] = min_sent\n",
    "df_poets['avg_sent'] = avg_sent\n",
    "df_poets['med_sent'] = med_sent"
   ]
  },
  {
   "cell_type": "code",
   "execution_count": 30,
   "metadata": {},
   "outputs": [
    {
     "data": {
      "text/html": [
       "<div>\n",
       "<style scoped>\n",
       "    .dataframe tbody tr th:only-of-type {\n",
       "        vertical-align: middle;\n",
       "    }\n",
       "\n",
       "    .dataframe tbody tr th {\n",
       "        vertical-align: top;\n",
       "    }\n",
       "\n",
       "    .dataframe thead th {\n",
       "        text-align: right;\n",
       "    }\n",
       "</style>\n",
       "<table border=\"1\" class=\"dataframe\">\n",
       "  <thead>\n",
       "    <tr style=\"text-align: right;\">\n",
       "      <th></th>\n",
       "      <th>max_sent</th>\n",
       "      <th>min_sent</th>\n",
       "      <th>avg_sent</th>\n",
       "      <th>med_sent</th>\n",
       "    </tr>\n",
       "  </thead>\n",
       "  <tbody>\n",
       "    <tr>\n",
       "      <th>count</th>\n",
       "      <td>143.000000</td>\n",
       "      <td>143.000000</td>\n",
       "      <td>143.000000</td>\n",
       "      <td>143.000000</td>\n",
       "    </tr>\n",
       "    <tr>\n",
       "      <th>mean</th>\n",
       "      <td>0.971189</td>\n",
       "      <td>-0.948107</td>\n",
       "      <td>0.158802</td>\n",
       "      <td>0.079559</td>\n",
       "    </tr>\n",
       "    <tr>\n",
       "      <th>std</th>\n",
       "      <td>0.010297</td>\n",
       "      <td>0.041992</td>\n",
       "      <td>0.082776</td>\n",
       "      <td>0.135640</td>\n",
       "    </tr>\n",
       "    <tr>\n",
       "      <th>min</th>\n",
       "      <td>0.940300</td>\n",
       "      <td>-0.996200</td>\n",
       "      <td>-0.047208</td>\n",
       "      <td>0.000000</td>\n",
       "    </tr>\n",
       "    <tr>\n",
       "      <th>25%</th>\n",
       "      <td>0.964750</td>\n",
       "      <td>-0.973600</td>\n",
       "      <td>0.098963</td>\n",
       "      <td>0.000000</td>\n",
       "    </tr>\n",
       "    <tr>\n",
       "      <th>50%</th>\n",
       "      <td>0.972300</td>\n",
       "      <td>-0.961700</td>\n",
       "      <td>0.141359</td>\n",
       "      <td>0.000000</td>\n",
       "    </tr>\n",
       "    <tr>\n",
       "      <th>75%</th>\n",
       "      <td>0.978700</td>\n",
       "      <td>-0.941900</td>\n",
       "      <td>0.204052</td>\n",
       "      <td>0.110525</td>\n",
       "    </tr>\n",
       "    <tr>\n",
       "      <th>max</th>\n",
       "      <td>0.991800</td>\n",
       "      <td>-0.740500</td>\n",
       "      <td>0.454344</td>\n",
       "      <td>0.555000</td>\n",
       "    </tr>\n",
       "  </tbody>\n",
       "</table>\n",
       "</div>"
      ],
      "text/plain": [
       "         max_sent    min_sent    avg_sent    med_sent\n",
       "count  143.000000  143.000000  143.000000  143.000000\n",
       "mean     0.971189   -0.948107    0.158802    0.079559\n",
       "std      0.010297    0.041992    0.082776    0.135640\n",
       "min      0.940300   -0.996200   -0.047208    0.000000\n",
       "25%      0.964750   -0.973600    0.098963    0.000000\n",
       "50%      0.972300   -0.961700    0.141359    0.000000\n",
       "75%      0.978700   -0.941900    0.204052    0.110525\n",
       "max      0.991800   -0.740500    0.454344    0.555000"
      ]
     },
     "execution_count": 30,
     "metadata": {},
     "output_type": "execute_result"
    }
   ],
   "source": [
    "# Show Statistics of poets\n",
    "df_poets.describe()"
   ]
  },
  {
   "cell_type": "code",
   "execution_count": 33,
   "metadata": {},
   "outputs": [
    {
     "data": {
      "image/png": "[encoded data removed]",
      "text/plain": [
       "<matplotlib.figure.Figure at 0x2708a84a320>"
      ]
     },
     "metadata": {},
     "output_type": "display_data"
    },
    {
     "name": "stdout",
     "output_type": "stream",
     "text": [
      "mined dataset\n",
      "      kurtosis= -0.2    skewness= -0.4      sum= 138.88\n",
      "\n"
     ]
    }
   ],
   "source": [
    "# initialize list\n",
    "data3 = df_poets['max_sent'].tolist()\n",
    "\n",
    "# set up a beautiful plot        \n",
    "plt.hist(data3,30,(0.93,1.0), color = (.1,.1,.95,.3), label = '2019 study')\n",
    "plt.legend(loc='upper right')\n",
    "plt.title('Poet Max Compound Sentiment')\n",
    "plt.xlabel('Max Score')\n",
    "plt.ylabel('Number of Poets')\n",
    "plt.show()\n",
    "        \n",
    "# after histogram, print out the distribution descriptors\n",
    "print('mined dataset')\n",
    "kurtosis_skewness(data3)"
   ]
  },
  {
   "cell_type": "code",
   "execution_count": 38,
   "metadata": {},
   "outputs": [
    {
     "data": {
      "image/png": "[encoded data removed]",
      "text/plain": [
       "<matplotlib.figure.Figure at 0x270a624b0b8>"
      ]
     },
     "metadata": {},
     "output_type": "display_data"
    },
    {
     "name": "stdout",
     "output_type": "stream",
     "text": [
      "mined dataset\n",
      "      kurtosis= 6.0    skewness= 2.3      sum= -135.57930000000002\n",
      "\n"
     ]
    }
   ],
   "source": [
    "# initialize list\n",
    "data3 = df_poets['min_sent'].tolist()\n",
    "\n",
    "# set up a beautiful plot        \n",
    "plt.hist(data3,30,(-1.0,-0.7), color = (.1,.1,.95,.3), label = '2019 study')\n",
    "plt.legend(loc='upper right')\n",
    "plt.title('Poet Min Compound Sentiment')\n",
    "plt.xlabel('Min Score')\n",
    "plt.ylabel('Number of Poets')\n",
    "plt.show()\n",
    "        \n",
    "# after histogram, print out the distribution descriptors\n",
    "print('mined dataset')\n",
    "kurtosis_skewness(data3)"
   ]
  },
  {
   "cell_type": "code",
   "execution_count": 37,
   "metadata": {},
   "outputs": [
    {
     "data": {
      "image/png": "[encoded data removed]",
      "text/plain": [
       "<matplotlib.figure.Figure at 0x2708a8884e0>"
      ]
     },
     "metadata": {},
     "output_type": "display_data"
    },
    {
     "name": "stdout",
     "output_type": "stream",
     "text": [
      "mined dataset\n",
      "      kurtosis= 1.0    skewness= 0.9      sum= 22.708696885864\n",
      "\n"
     ]
    }
   ],
   "source": [
    "# initialize list\n",
    "data3 = df_poets['avg_sent'].tolist()\n",
    "\n",
    "# set up a beautiful plot        \n",
    "plt.hist(data3,30,(-0.1,0.5), color = (.1,.1,.95,.3), label = '2019 study')\n",
    "plt.legend(loc='upper right')\n",
    "plt.title('Poet Mean Compound Sentiment')\n",
    "plt.xlabel('Avg Score')\n",
    "plt.ylabel('Number of Poets')\n",
    "plt.show()\n",
    "        \n",
    "# after histogram, print out the distribution descriptors\n",
    "print('mined dataset')\n",
    "kurtosis_skewness(data3)"
   ]
  },
  {
   "cell_type": "code",
   "execution_count": 39,
   "metadata": {},
   "outputs": [
    {
     "data": {
      "image/png": "[encoded data removed]",
      "text/plain": [
       "<matplotlib.figure.Figure at 0x270a6225898>"
      ]
     },
     "metadata": {},
     "output_type": "display_data"
    },
    {
     "name": "stdout",
     "output_type": "stream",
     "text": [
      "mined dataset\n",
      "      kurtosis= 1.6    skewness= 1.6      sum= 11.37695\n",
      "\n"
     ]
    }
   ],
   "source": [
    "# initialize list\n",
    "data3 = df_poets['med_sent'].tolist()\n",
    "\n",
    "# set up a beautiful plot        \n",
    "plt.hist(data3,30,(-0.1,0.5), color = (.1,.1,.95,.3), label = '2019 study')\n",
    "plt.legend(loc='upper right')\n",
    "plt.title('Poet Median Compound Sentiment')\n",
    "plt.xlabel('Median Score')\n",
    "plt.ylabel('Number of Poets')\n",
    "plt.show()\n",
    "        \n",
    "# after histogram, print out the distribution descriptors\n",
    "print('mined dataset')\n",
    "kurtosis_skewness(data3)"
   ]
  },
  {
   "cell_type": "code",
   "execution_count": 42,
   "metadata": {},
   "outputs": [
    {
     "data": {
      "image/png": "[encoded data removed]",
      "text/plain": [
       "<matplotlib.figure.Figure at 0x270a6427470>"
      ]
     },
     "metadata": {},
     "output_type": "display_data"
    },
    {
     "name": "stdout",
     "output_type": "stream",
     "text": [
      "mined dataset\n",
      "      kurtosis= 4.8    skewness= -2.0      sum= 274.4593\n",
      "\n"
     ]
    }
   ],
   "source": [
    "# initialize list\n",
    "data3 = (df_poets['max_sent'] - df_poets['min_sent']).tolist()\n",
    "\n",
    "# set up a beautiful plot        \n",
    "plt.hist(data3,30,(1.6,2), color = (.1,.1,.95,.3), label = '2019 study')\n",
    "plt.legend(loc='upper right')\n",
    "plt.title('Poet Compound Sentiment Range')\n",
    "plt.xlabel('Score Span as Max - Min')\n",
    "plt.ylabel('Number of Poets')\n",
    "plt.show()\n",
    "        \n",
    "# after histogram, print out the distribution descriptors\n",
    "print('mined dataset')\n",
    "kurtosis_skewness(data3)"
   ]
  },
  {
   "cell_type": "code",
   "execution_count": 44,
   "metadata": {},
   "outputs": [
    {
     "data": {
      "text/plain": [
       "432638"
      ]
     },
     "execution_count": 44,
     "metadata": {},
     "output_type": "execute_result"
    }
   ],
   "source": [
    "len(df_cleanscreen[df_cleanscreen['vad_compound']==0])"
   ]
  },
  {
   "cell_type": "code",
   "execution_count": 46,
   "metadata": {},
   "outputs": [
    {
     "data": {
      "text/plain": [
       "426292"
      ]
     },
     "execution_count": 46,
     "metadata": {},
     "output_type": "execute_result"
    }
   ],
   "source": [
    "len(df_cleanscreen[df_cleanscreen['vad_neutral']==1])"
   ]
  },
  {
   "cell_type": "code",
   "execution_count": 45,
   "metadata": {},
   "outputs": [],
   "source": [
    "# save for study\n",
    "df_poets.to_csv('poet_sentiments_061219.csv', index=False)"
   ]
  },
  {
   "cell_type": "code",
   "execution_count": 47,
   "metadata": {},
   "outputs": [
    {
     "name": "stdout",
     "output_type": "stream",
     "text": [
      "<class 'pandas.core.frame.DataFrame'>\n",
      "Int64Index: 940809 entries, 0 to 1373446\n",
      "Data columns (total 15 columns):\n",
      "id              940809 non-null object\n",
      "date            940809 non-null datetime64[ns]\n",
      "text            940809 non-null object\n",
      "author          940809 non-null object\n",
      "favorite        940809 non-null int64\n",
      "url             940809 non-null object\n",
      "lang            940809 non-null object\n",
      "length          940809 non-null int64\n",
      "cleantext       940809 non-null object\n",
      "tokens          940809 non-null object\n",
      "count           940809 non-null int64\n",
      "vad_positive    940809 non-null float64\n",
      "vad_neutral     940809 non-null float64\n",
      "vad_negative    940809 non-null float64\n",
      "vad_compound    940809 non-null float64\n",
      "dtypes: datetime64[ns](1), float64(4), int64(3), object(7)\n",
      "memory usage: 114.8+ MB\n"
     ]
    }
   ],
   "source": [
    "# screen the zeros out\n",
    "df_in = df_cleanscreen[(df_cleanscreen['vad_compound']!=0) & (df_cleanscreen['vad_neutral']!=1)].copy()\n",
    "df_in.info()"
   ]
  },
  {
   "cell_type": "code",
   "execution_count": 48,
   "metadata": {},
   "outputs": [
    {
     "data": {
      "image/png": "[encoded data removed]",
      "text/plain": [
       "<matplotlib.figure.Figure at 0x270a6462630>"
      ]
     },
     "metadata": {},
     "output_type": "display_data"
    },
    {
     "name": "stdout",
     "output_type": "stream",
     "text": [
      "mined dataset\n",
      "      kurtosis= -0.8    skewness= -0.6      sum= 196302.5161\n",
      "\n"
     ]
    }
   ],
   "source": [
    "# initialize list\n",
    "data3 = df_in['vad_compound'].tolist()\n",
    "\n",
    "# set up a beautiful plot        \n",
    "plt.hist(data3,30,(-1,1), color = (.1,.1,.95,.3), label = '2019 study')\n",
    "plt.legend(loc='upper right')\n",
    "plt.title('Compound Sentiment')\n",
    "plt.xlabel('Sentiment Score')\n",
    "plt.ylabel('Number of Tweets')\n",
    "plt.show()\n",
    "        \n",
    "# after histogram, print out the distribution descriptors\n",
    "print('mined dataset')\n",
    "kurtosis_skewness(data3)"
   ]
  },
  {
   "cell_type": "code",
   "execution_count": 50,
   "metadata": {},
   "outputs": [
    {
     "data": {
      "application/vnd.jupyter.widget-view+json": {
       "model_id": "eb9bc8e0c9b5444d8e0ca121c20f80ae",
       "version_major": 2,
       "version_minor": 0
      },
      "text/plain": [
       "HBox(children=(IntProgress(value=0, max=35), HTML(value='')))"
      ]
     },
     "metadata": {},
     "output_type": "display_data"
    },
    {
     "name": "stdout",
     "output_type": "stream",
     "text": [
      "\n"
     ]
    }
   ],
   "source": [
    "# split giant dataframe into 35 pieces having 80791 rows each\n",
    "df_io = df_in.copy()\n",
    "df_split = np.array_split(df_io, 35, axis=0)\n",
    "\n",
    "# clean the dataframes, filter out the non-English entries\n",
    "for i in tqdm_notebook(range(35)):\n",
    "    \n",
    "    # output to pickle\n",
    "    with open('tweet_sent{}.pkl'.format(i), 'wb') as filehandle:  \n",
    "        # store the data\n",
    "        pickle.dump(df_split[i], filehandle)"
   ]
  },
  {
   "cell_type": "code",
   "execution_count": null,
   "metadata": {},
   "outputs": [],
   "source": []
  }
 ],
 "metadata": {
  "kernelspec": {
   "display_name": "Python 3",
   "language": "python",
   "name": "python3"
  },
  "language_info": {
   "codemirror_mode": {
    "name": "ipython",
    "version": 3
   },
   "file_extension": ".py",
   "mimetype": "text/x-python",
   "name": "python",
   "nbconvert_exporter": "python",
   "pygments_lexer": "ipython3",
   "version": "3.5.4"
  }
 },
 "nbformat": 4,
 "nbformat_minor": 2
}
