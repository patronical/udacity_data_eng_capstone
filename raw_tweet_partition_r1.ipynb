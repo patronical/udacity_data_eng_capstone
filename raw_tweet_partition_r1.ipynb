{
 "cells": [
  {
   "cell_type": "markdown",
   "metadata": {},
   "source": [
    "### Raw Tweets Size Partition Worksheet"
   ]
  },
  {
   "cell_type": "code",
   "execution_count": 12,
   "metadata": {},
   "outputs": [],
   "source": [
    "import pandas as pd\n",
    "import pickle\n",
    "import matplotlib.pyplot as plt\n",
    "import os\n",
    "from tqdm import tqdm_notebook"
   ]
  },
  {
   "cell_type": "code",
   "execution_count": 2,
   "metadata": {},
   "outputs": [
    {
     "data": {
      "text/html": [
       "<div>\n",
       "<style scoped>\n",
       "    .dataframe tbody tr th:only-of-type {\n",
       "        vertical-align: middle;\n",
       "    }\n",
       "\n",
       "    .dataframe tbody tr th {\n",
       "        vertical-align: top;\n",
       "    }\n",
       "\n",
       "    .dataframe thead th {\n",
       "        text-align: right;\n",
       "    }\n",
       "</style>\n",
       "<table border=\"1\" class=\"dataframe\">\n",
       "  <thead>\n",
       "    <tr style=\"text-align: right;\">\n",
       "      <th></th>\n",
       "      <th>id</th>\n",
       "      <th>date</th>\n",
       "      <th>text</th>\n",
       "      <th>author</th>\n",
       "      <th>favorite</th>\n",
       "      <th>url</th>\n",
       "    </tr>\n",
       "  </thead>\n",
       "  <tbody>\n",
       "    <tr>\n",
       "      <th>0</th>\n",
       "      <td>340609093125423104</td>\n",
       "      <td>2013-05-31 16:21:50</td>\n",
       "      <td>Paper wallets are the best way to store # bitc...</td>\n",
       "      <td>aantonop</td>\n",
       "      <td>0</td>\n",
       "      <td>https://twitter.com/aantonop/status/3406090931...</td>\n",
       "    </tr>\n",
       "    <tr>\n",
       "      <th>1</th>\n",
       "      <td>340578313456218112</td>\n",
       "      <td>2013-05-31 14:19:32</td>\n",
       "      <td>@ LetsTalkBitcoin Thank you. So new to twitter...</td>\n",
       "      <td>aantonop</td>\n",
       "      <td>0</td>\n",
       "      <td>https://twitter.com/aantonop/status/3405783134...</td>\n",
       "    </tr>\n",
       "    <tr>\n",
       "      <th>2</th>\n",
       "      <td>340552331110273024</td>\n",
       "      <td>2013-05-31 12:36:17</td>\n",
       "      <td>@ edla @ BLOUIN_NEWS @ swardley @ Archimedius ...</td>\n",
       "      <td>aantonop</td>\n",
       "      <td>0</td>\n",
       "      <td>https://twitter.com/aantonop/status/3405523311...</td>\n",
       "    </tr>\n",
       "    <tr>\n",
       "      <th>3</th>\n",
       "      <td>340551805593329667</td>\n",
       "      <td>2013-05-31 12:34:12</td>\n",
       "      <td>@ edla @ BLOUIN_NEWS @ swardley @ Archimedius ...</td>\n",
       "      <td>aantonop</td>\n",
       "      <td>0</td>\n",
       "      <td>https://twitter.com/aantonop/status/3405518055...</td>\n",
       "    </tr>\n",
       "    <tr>\n",
       "      <th>4</th>\n",
       "      <td>340541494295404545</td>\n",
       "      <td>2013-05-31 11:53:13</td>\n",
       "      <td>@ BLOUIN_NEWS @ edla @ swardley @ Archimedius ...</td>\n",
       "      <td>aantonop</td>\n",
       "      <td>0</td>\n",
       "      <td>https://twitter.com/aantonop/status/3405414942...</td>\n",
       "    </tr>\n",
       "  </tbody>\n",
       "</table>\n",
       "</div>"
      ],
      "text/plain": [
       "                   id                date  \\\n",
       "0  340609093125423104 2013-05-31 16:21:50   \n",
       "1  340578313456218112 2013-05-31 14:19:32   \n",
       "2  340552331110273024 2013-05-31 12:36:17   \n",
       "3  340551805593329667 2013-05-31 12:34:12   \n",
       "4  340541494295404545 2013-05-31 11:53:13   \n",
       "\n",
       "                                                text    author  favorite  \\\n",
       "0  Paper wallets are the best way to store # bitc...  aantonop         0   \n",
       "1  @ LetsTalkBitcoin Thank you. So new to twitter...  aantonop         0   \n",
       "2  @ edla @ BLOUIN_NEWS @ swardley @ Archimedius ...  aantonop         0   \n",
       "3  @ edla @ BLOUIN_NEWS @ swardley @ Archimedius ...  aantonop         0   \n",
       "4  @ BLOUIN_NEWS @ edla @ swardley @ Archimedius ...  aantonop         0   \n",
       "\n",
       "                                                 url  \n",
       "0  https://twitter.com/aantonop/status/3406090931...  \n",
       "1  https://twitter.com/aantonop/status/3405783134...  \n",
       "2  https://twitter.com/aantonop/status/3405523311...  \n",
       "3  https://twitter.com/aantonop/status/3405518055...  \n",
       "4  https://twitter.com/aantonop/status/3405414942...  "
      ]
     },
     "execution_count": 2,
     "metadata": {},
     "output_type": "execute_result"
    }
   ],
   "source": [
    "with open('tweet_df.pkl', 'rb') as filehandle:  \n",
    "    # read the data as binary data stream\n",
    "    df_tweets = pickle.load(filehandle)\n",
    "df_tweets.head()"
   ]
  },
  {
   "cell_type": "code",
   "execution_count": 3,
   "metadata": {},
   "outputs": [
    {
     "name": "stdout",
     "output_type": "stream",
     "text": [
      "<class 'pandas.core.frame.DataFrame'>\n",
      "Int64Index: 2563803 entries, 0 to 70\n",
      "Data columns (total 6 columns):\n",
      "id          object\n",
      "date        datetime64[ns]\n",
      "text        object\n",
      "author      object\n",
      "favorite    int64\n",
      "url         object\n",
      "dtypes: datetime64[ns](1), int64(1), object(4)\n",
      "memory usage: 136.9+ MB\n"
     ]
    }
   ],
   "source": [
    "df_tweets.info()"
   ]
  },
  {
   "cell_type": "code",
   "execution_count": 4,
   "metadata": {},
   "outputs": [
    {
     "data": {
      "text/html": [
       "<div>\n",
       "<style scoped>\n",
       "    .dataframe tbody tr th:only-of-type {\n",
       "        vertical-align: middle;\n",
       "    }\n",
       "\n",
       "    .dataframe tbody tr th {\n",
       "        vertical-align: top;\n",
       "    }\n",
       "\n",
       "    .dataframe thead th {\n",
       "        text-align: right;\n",
       "    }\n",
       "</style>\n",
       "<table border=\"1\" class=\"dataframe\">\n",
       "  <thead>\n",
       "    <tr style=\"text-align: right;\">\n",
       "      <th></th>\n",
       "      <th>id</th>\n",
       "      <th>date</th>\n",
       "      <th>text</th>\n",
       "      <th>author</th>\n",
       "      <th>favorite</th>\n",
       "      <th>url</th>\n",
       "    </tr>\n",
       "  </thead>\n",
       "  <tbody>\n",
       "    <tr>\n",
       "      <th>0</th>\n",
       "      <td>1089186195</td>\n",
       "      <td>2008-12-31 17:48:08</td>\n",
       "      <td>I just finished doing Wii Fit Yoga and really ...</td>\n",
       "      <td>billbarhydt</td>\n",
       "      <td>0</td>\n",
       "      <td>https://twitter.com/billbarhydt/status/1089186195</td>\n",
       "    </tr>\n",
       "    <tr>\n",
       "      <th>1</th>\n",
       "      <td>1089432998</td>\n",
       "      <td>2008-12-31 20:52:39</td>\n",
       "      <td>Champagne tasting on the roof</td>\n",
       "      <td>jack</td>\n",
       "      <td>0</td>\n",
       "      <td>https://twitter.com/jack/status/1089432998</td>\n",
       "    </tr>\n",
       "    <tr>\n",
       "      <th>2</th>\n",
       "      <td>1089472226</td>\n",
       "      <td>2008-12-31 21:11:51</td>\n",
       "      <td>happy new years nycers.</td>\n",
       "      <td>TheStalwart</td>\n",
       "      <td>0</td>\n",
       "      <td>https://twitter.com/TheStalwart/status/1089472226</td>\n",
       "    </tr>\n",
       "    <tr>\n",
       "      <th>3</th>\n",
       "      <td>1089486321</td>\n",
       "      <td>2008-12-31 21:20:26</td>\n",
       "      <td>Happy New Year east coast peeps!</td>\n",
       "      <td>billbarhydt</td>\n",
       "      <td>0</td>\n",
       "      <td>https://twitter.com/billbarhydt/status/1089486321</td>\n",
       "    </tr>\n",
       "    <tr>\n",
       "      <th>4</th>\n",
       "      <td>1089486628</td>\n",
       "      <td>2008-12-31 21:20:39</td>\n",
       "      <td>Happy new year! Prime rib was an utter success!</td>\n",
       "      <td>garrytan</td>\n",
       "      <td>0</td>\n",
       "      <td>https://twitter.com/garrytan/status/1089486628</td>\n",
       "    </tr>\n",
       "  </tbody>\n",
       "</table>\n",
       "</div>"
      ],
      "text/plain": [
       "           id                date  \\\n",
       "0  1089186195 2008-12-31 17:48:08   \n",
       "1  1089432998 2008-12-31 20:52:39   \n",
       "2  1089472226 2008-12-31 21:11:51   \n",
       "3  1089486321 2008-12-31 21:20:26   \n",
       "4  1089486628 2008-12-31 21:20:39   \n",
       "\n",
       "                                                text       author  favorite  \\\n",
       "0  I just finished doing Wii Fit Yoga and really ...  billbarhydt         0   \n",
       "1                      Champagne tasting on the roof         jack         0   \n",
       "2                            happy new years nycers.  TheStalwart         0   \n",
       "3                   Happy New Year east coast peeps!  billbarhydt         0   \n",
       "4    Happy new year! Prime rib was an utter success!     garrytan         0   \n",
       "\n",
       "                                                 url  \n",
       "0  https://twitter.com/billbarhydt/status/1089186195  \n",
       "1         https://twitter.com/jack/status/1089432998  \n",
       "2  https://twitter.com/TheStalwart/status/1089472226  \n",
       "3  https://twitter.com/billbarhydt/status/1089486321  \n",
       "4     https://twitter.com/garrytan/status/1089486628  "
      ]
     },
     "execution_count": 4,
     "metadata": {},
     "output_type": "execute_result"
    }
   ],
   "source": [
    "df_tweets = df_tweets.sort_values(by='date')\n",
    "df_tweets = df_tweets.reset_index(drop=True)\n",
    "df_tweets.head()"
   ]
  },
  {
   "cell_type": "code",
   "execution_count": 5,
   "metadata": {},
   "outputs": [
    {
     "name": "stdout",
     "output_type": "stream",
     "text": [
      "<class 'pandas.core.frame.DataFrame'>\n",
      "Int64Index: 2563803 entries, 0 to 2563802\n",
      "Data columns (total 6 columns):\n",
      "id          object\n",
      "date        datetime64[ns]\n",
      "text        object\n",
      "author      object\n",
      "favorite    int64\n",
      "url         object\n",
      "dtypes: datetime64[ns](1), int64(1), object(4)\n",
      "memory usage: 136.9+ MB\n"
     ]
    }
   ],
   "source": [
    "# clear any duplicate rows\n",
    "df_tweets = df_tweets.drop_duplicates()\n",
    "df_tweets.info()"
   ]
  },
  {
   "cell_type": "code",
   "execution_count": 6,
   "metadata": {},
   "outputs": [
    {
     "name": "stdout",
     "output_type": "stream",
     "text": [
      "<class 'pandas.core.frame.DataFrame'>\n",
      "Index: 2563803 entries, 0 to 2563802\n",
      "Data columns (total 6 columns):\n",
      "tweet_id       object\n",
      "date           datetime64[ns]\n",
      "text           object\n",
      "screen_name    object\n",
      "favorite       int64\n",
      "url            object\n",
      "dtypes: datetime64[ns](1), int64(1), object(4)\n",
      "memory usage: 136.9+ MB\n"
     ]
    }
   ],
   "source": [
    "# clean up column names\n",
    "df_t2 = df_tweets.rename(index=str, columns={\"id\": \"tweet_id\", \"author\": \"screen_name\"}).copy()\n",
    "df_t2.info()"
   ]
  },
  {
   "cell_type": "code",
   "execution_count": 18,
   "metadata": {},
   "outputs": [
    {
     "name": "stdout",
     "output_type": "stream",
     "text": [
      "<class 'pandas.core.frame.DataFrame'>\n",
      "Index: 2563803 entries, 0 to 2563802\n",
      "Data columns (total 8 columns):\n",
      "tweet_id       object\n",
      "date           datetime64[ns]\n",
      "text           object\n",
      "screen_name    object\n",
      "favorite       int64\n",
      "url            object\n",
      "year           int64\n",
      "month          int64\n",
      "dtypes: datetime64[ns](1), int64(3), object(4)\n",
      "memory usage: 256.0+ MB\n"
     ]
    }
   ],
   "source": [
    "# add year and month fields for storage\n",
    "df_t2['year'] = df_t2['date'].dt.year\n",
    "df_t2['month'] = df_t2['date'].dt.month\n",
    "df_t2.info()"
   ]
  },
  {
   "cell_type": "code",
   "execution_count": 19,
   "metadata": {},
   "outputs": [
    {
     "data": {
      "application/vnd.jupyter.widget-view+json": {
       "model_id": "b4fde5d83bf64ef19e4c5a11f7b71392",
       "version_major": 2,
       "version_minor": 0
      },
      "text/plain": [
       "HBox(children=(IntProgress(value=0, max=12), HTML(value='')))"
      ]
     },
     "metadata": {},
     "output_type": "display_data"
    },
    {
     "name": "stdout",
     "output_type": "stream",
     "text": [
      "\n"
     ]
    }
   ],
   "source": [
    "# partition data by year and month and store\n",
    "root = 'raw_data'\n",
    "for y in tqdm_notebook(range(2008,2020)):\n",
    "    for m in range(1,13):\n",
    "        \n",
    "        df_slice = df_t2[(df_t2['year'] == y)&(df_t2['month'] == m)].copy()\n",
    "        df_slice = df_slice.drop(['year', 'month'], axis=1)\n",
    "        \n",
    "        filename = 'raw_tweets_{}_{}.pkl'.format(y,m)\n",
    "        filestring = os.path.join(root, filename)\n",
    "        with open(filestring, 'wb') as filehandle:  \n",
    "            # store the data\n",
    "            pickle.dump(df_slice, filehandle)\n",
    "        "
   ]
  },
  {
   "cell_type": "code",
   "execution_count": 20,
   "metadata": {},
   "outputs": [
    {
     "data": {
      "application/vnd.jupyter.widget-view+json": {
       "model_id": "0b131a98663742fea655b4aea83189ae",
       "version_major": 2,
       "version_minor": 0
      },
      "text/plain": [
       "HBox(children=(IntProgress(value=0, max=12), HTML(value='')))"
      ]
     },
     "metadata": {},
     "output_type": "display_data"
    },
    {
     "name": "stdout",
     "output_type": "stream",
     "text": [
      "\n",
      "<class 'pandas.core.frame.DataFrame'>\n",
      "RangeIndex: 2563803 entries, 0 to 2563802\n",
      "Data columns (total 6 columns):\n",
      "tweet_id       object\n",
      "date           datetime64[ns]\n",
      "text           object\n",
      "screen_name    object\n",
      "favorite       int64\n",
      "url            object\n",
      "dtypes: datetime64[ns](1), int64(1), object(4)\n",
      "memory usage: 117.4+ MB\n"
     ]
    }
   ],
   "source": [
    "# reload dataframe as data quality check\n",
    "df_reload = pd.DataFrame()\n",
    "\n",
    "root = 'raw_data'\n",
    "for y in tqdm_notebook(range(2008,2020)):\n",
    "    for m in range(1,13):\n",
    "        \n",
    "        filename = 'raw_tweets_{}_{}.pkl'.format(y,m)\n",
    "        filestring = os.path.join(root, filename)\n",
    "        \n",
    "        with open(filestring, 'rb') as filehandle:  \n",
    "            # read the data as binary data stream\n",
    "            df_slice = pickle.load(filehandle)\n",
    "            \n",
    "        df_reload = pd.concat([df_reload, df_slice], ignore_index=True)\n",
    "\n",
    "df_reload.info()"
   ]
  },
  {
   "cell_type": "code",
   "execution_count": 21,
   "metadata": {},
   "outputs": [
    {
     "data": {
      "text/html": [
       "<div>\n",
       "<style scoped>\n",
       "    .dataframe tbody tr th:only-of-type {\n",
       "        vertical-align: middle;\n",
       "    }\n",
       "\n",
       "    .dataframe tbody tr th {\n",
       "        vertical-align: top;\n",
       "    }\n",
       "\n",
       "    .dataframe thead th {\n",
       "        text-align: right;\n",
       "    }\n",
       "</style>\n",
       "<table border=\"1\" class=\"dataframe\">\n",
       "  <thead>\n",
       "    <tr style=\"text-align: right;\">\n",
       "      <th></th>\n",
       "      <th>tweet_id</th>\n",
       "      <th>date</th>\n",
       "      <th>text</th>\n",
       "      <th>screen_name</th>\n",
       "      <th>favorite</th>\n",
       "      <th>url</th>\n",
       "    </tr>\n",
       "  </thead>\n",
       "  <tbody>\n",
       "    <tr>\n",
       "      <th>21557</th>\n",
       "      <td>1985026127</td>\n",
       "      <td>2009-05-31 16:16:47</td>\n",
       "      <td>@ mmilian ha!</td>\n",
       "      <td>jack</td>\n",
       "      <td>1</td>\n",
       "      <td>https://twitter.com/jack/status/1985026127</td>\n",
       "    </tr>\n",
       "    <tr>\n",
       "      <th>1297812</th>\n",
       "      <td>813631496863019008</td>\n",
       "      <td>2016-12-26 22:24:00</td>\n",
       "      <td>I've been feeling quite sad about the crash of...</td>\n",
       "      <td>el33th4xor</td>\n",
       "      <td>14</td>\n",
       "      <td>https://twitter.com/el33th4xor/status/81363149...</td>\n",
       "    </tr>\n",
       "    <tr>\n",
       "      <th>511069</th>\n",
       "      <td>385855053782740992</td>\n",
       "      <td>2013-10-03 12:53:08</td>\n",
       "      <td>@ BitcoinSteve @ shapeways I just wanted to re...</td>\n",
       "      <td>BitPay</td>\n",
       "      <td>0</td>\n",
       "      <td>https://twitter.com/BitPay/status/385855053782...</td>\n",
       "    </tr>\n",
       "    <tr>\n",
       "      <th>1013927</th>\n",
       "      <td>661305566967562240</td>\n",
       "      <td>2015-11-02 14:15:08</td>\n",
       "      <td>Are your readers having trouble understanding ...</td>\n",
       "      <td>Snowden</td>\n",
       "      <td>4428</td>\n",
       "      <td>https://twitter.com/Snowden/status/66130556696...</td>\n",
       "    </tr>\n",
       "    <tr>\n",
       "      <th>91481</th>\n",
       "      <td>15875634050</td>\n",
       "      <td>2010-06-10 13:16:46</td>\n",
       "      <td>Hey! Maria Bartiromo just asked Angelides abou...</td>\n",
       "      <td>TheStalwart</td>\n",
       "      <td>0</td>\n",
       "      <td>https://twitter.com/TheStalwart/status/1587563...</td>\n",
       "    </tr>\n",
       "    <tr>\n",
       "      <th>251892</th>\n",
       "      <td>159681513796018176</td>\n",
       "      <td>2012-01-18 09:00:14</td>\n",
       "      <td>Unified's social operating platform brings ent...</td>\n",
       "      <td>michaelterpin</td>\n",
       "      <td>0</td>\n",
       "      <td>https://twitter.com/michaelterpin/status/15968...</td>\n",
       "    </tr>\n",
       "    <tr>\n",
       "      <th>223925</th>\n",
       "      <td>131056744263712768</td>\n",
       "      <td>2011-10-31 10:15:37</td>\n",
       "      <td>@ javierota @ mmustapic alcanza con leer los a...</td>\n",
       "      <td>santisiri</td>\n",
       "      <td>0</td>\n",
       "      <td>https://twitter.com/santisiri/status/131056744...</td>\n",
       "    </tr>\n",
       "    <tr>\n",
       "      <th>2375146</th>\n",
       "      <td>1094983350396293120</td>\n",
       "      <td>2019-02-11 07:35:49</td>\n",
       "      <td>sorry then if i wasn’t clear. hoped the parent...</td>\n",
       "      <td>santisiri</td>\n",
       "      <td>1</td>\n",
       "      <td>https://twitter.com/santisiri/status/109498335...</td>\n",
       "    </tr>\n",
       "    <tr>\n",
       "      <th>147814</th>\n",
       "      <td>40894300644442112</td>\n",
       "      <td>2011-02-24 14:02:15</td>\n",
       "      <td>RT @ dashb0t: EXCLUSIVE: MUST CREDIT SPORTS PA...</td>\n",
       "      <td>TheStalwart</td>\n",
       "      <td>0</td>\n",
       "      <td>https://twitter.com/TheStalwart/status/4089430...</td>\n",
       "    </tr>\n",
       "    <tr>\n",
       "      <th>185480</th>\n",
       "      <td>92541648453640192</td>\n",
       "      <td>2011-07-17 03:30:22</td>\n",
       "      <td>Freedom of speech in the age of WikiLeaks http...</td>\n",
       "      <td>wikileaks</td>\n",
       "      <td>34</td>\n",
       "      <td>https://twitter.com/wikileaks/status/925416484...</td>\n",
       "    </tr>\n",
       "  </tbody>\n",
       "</table>\n",
       "</div>"
      ],
      "text/plain": [
       "                    tweet_id                date  \\\n",
       "21557             1985026127 2009-05-31 16:16:47   \n",
       "1297812   813631496863019008 2016-12-26 22:24:00   \n",
       "511069    385855053782740992 2013-10-03 12:53:08   \n",
       "1013927   661305566967562240 2015-11-02 14:15:08   \n",
       "91481            15875634050 2010-06-10 13:16:46   \n",
       "251892    159681513796018176 2012-01-18 09:00:14   \n",
       "223925    131056744263712768 2011-10-31 10:15:37   \n",
       "2375146  1094983350396293120 2019-02-11 07:35:49   \n",
       "147814     40894300644442112 2011-02-24 14:02:15   \n",
       "185480     92541648453640192 2011-07-17 03:30:22   \n",
       "\n",
       "                                                      text    screen_name  \\\n",
       "21557                                        @ mmilian ha!           jack   \n",
       "1297812  I've been feeling quite sad about the crash of...     el33th4xor   \n",
       "511069   @ BitcoinSteve @ shapeways I just wanted to re...         BitPay   \n",
       "1013927  Are your readers having trouble understanding ...        Snowden   \n",
       "91481    Hey! Maria Bartiromo just asked Angelides abou...    TheStalwart   \n",
       "251892   Unified's social operating platform brings ent...  michaelterpin   \n",
       "223925   @ javierota @ mmustapic alcanza con leer los a...      santisiri   \n",
       "2375146  sorry then if i wasn’t clear. hoped the parent...      santisiri   \n",
       "147814   RT @ dashb0t: EXCLUSIVE: MUST CREDIT SPORTS PA...    TheStalwart   \n",
       "185480   Freedom of speech in the age of WikiLeaks http...      wikileaks   \n",
       "\n",
       "         favorite                                                url  \n",
       "21557           1         https://twitter.com/jack/status/1985026127  \n",
       "1297812        14  https://twitter.com/el33th4xor/status/81363149...  \n",
       "511069          0  https://twitter.com/BitPay/status/385855053782...  \n",
       "1013927      4428  https://twitter.com/Snowden/status/66130556696...  \n",
       "91481           0  https://twitter.com/TheStalwart/status/1587563...  \n",
       "251892          0  https://twitter.com/michaelterpin/status/15968...  \n",
       "223925          0  https://twitter.com/santisiri/status/131056744...  \n",
       "2375146         1  https://twitter.com/santisiri/status/109498335...  \n",
       "147814          0  https://twitter.com/TheStalwart/status/4089430...  \n",
       "185480         34  https://twitter.com/wikileaks/status/925416484...  "
      ]
     },
     "execution_count": 21,
     "metadata": {},
     "output_type": "execute_result"
    }
   ],
   "source": [
    "df_reload.sample(10)"
   ]
  },
  {
   "cell_type": "code",
   "execution_count": null,
   "metadata": {},
   "outputs": [],
   "source": []
  }
 ],
 "metadata": {
  "kernelspec": {
   "display_name": "Python 3",
   "language": "python",
   "name": "python3"
  },
  "language_info": {
   "codemirror_mode": {
    "name": "ipython",
    "version": 3
   },
   "file_extension": ".py",
   "mimetype": "text/x-python",
   "name": "python",
   "nbconvert_exporter": "python",
   "pygments_lexer": "ipython3",
   "version": "3.5.4"
  }
 },
 "nbformat": 4,
 "nbformat_minor": 2
}
