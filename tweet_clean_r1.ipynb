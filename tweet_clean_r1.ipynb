{
 "cells": [
  {
   "cell_type": "markdown",
   "metadata": {},
   "source": [
    "### Tweet Cleaner"
   ]
  },
  {
   "cell_type": "code",
   "execution_count": 1,
   "metadata": {},
   "outputs": [],
   "source": [
    "#import sys\n",
    "#!{sys.executable} -m pip install langdetect"
   ]
  },
  {
   "cell_type": "code",
   "execution_count": 2,
   "metadata": {},
   "outputs": [
    {
     "data": {
      "text/plain": [
       "'C:\\\\Users\\\\Gamer\\\\Desktop\\\\hist_tweets\\\\GetOldTweets-python'"
      ]
     },
     "execution_count": 2,
     "metadata": {},
     "output_type": "execute_result"
    }
   ],
   "source": [
    "from tqdm import tqdm_notebook\n",
    "import pandas as pd\n",
    "import os\n",
    "import pickle\n",
    "import re\n",
    "import numpy as np\n",
    "from langdetect import detect\n",
    "from langdetect import DetectorFactory\n",
    "DetectorFactory.seed = 0\n",
    "os.getcwd()"
   ]
  },
  {
   "cell_type": "code",
   "execution_count": 23,
   "metadata": {},
   "outputs": [
    {
     "name": "stdout",
     "output_type": "stream",
     "text": [
      "Number of processors:  8\n"
     ]
    }
   ],
   "source": [
    "import multiprocessing as mp\n",
    "cores=mp.cpu_count()\n",
    "print(\"Number of processors: \", cores)"
   ]
  },
  {
   "cell_type": "code",
   "execution_count": 4,
   "metadata": {},
   "outputs": [],
   "source": [
    "with open('tweety_060919.pkl', 'rb') as filehandle:  \n",
    "    # read the data as binary data stream\n",
    "    df_tweet = pickle.load(filehandle)"
   ]
  },
  {
   "cell_type": "code",
   "execution_count": 5,
   "metadata": {},
   "outputs": [
    {
     "name": "stdout",
     "output_type": "stream",
     "text": [
      "<class 'pandas.core.frame.DataFrame'>\n",
      "Int64Index: 2563803 entries, 0 to 2563802\n",
      "Data columns (total 6 columns):\n",
      "id          object\n",
      "date        datetime64[ns]\n",
      "text        object\n",
      "author      object\n",
      "favorite    int64\n",
      "url         object\n",
      "dtypes: datetime64[ns](1), int64(1), object(4)\n",
      "memory usage: 136.9+ MB\n"
     ]
    }
   ],
   "source": [
    "df_tweet.info()"
   ]
  },
  {
   "cell_type": "code",
   "execution_count": 6,
   "metadata": {},
   "outputs": [
    {
     "data": {
      "text/plain": [
       "0"
      ]
     },
     "execution_count": 6,
     "metadata": {},
     "output_type": "execute_result"
    }
   ],
   "source": [
    "# check for NaN's\n",
    "df_tweet.isnull().sum().sum()"
   ]
  },
  {
   "cell_type": "code",
   "execution_count": 7,
   "metadata": {},
   "outputs": [
    {
     "name": "stdout",
     "output_type": "stream",
     "text": [
      "Duplicate Rows based on a all column are:\n",
      "Empty DataFrame\n",
      "Columns: [id, date, text, author, favorite, url]\n",
      "Index: []\n"
     ]
    }
   ],
   "source": [
    "# check for duplicated rows\n",
    "duplicateRowsDF = df_tweet[df_tweet.duplicated()]\n",
    "print(\"Duplicate Rows based on a all column are:\", duplicateRowsDF, sep='\\n')"
   ]
  },
  {
   "cell_type": "code",
   "execution_count": 8,
   "metadata": {},
   "outputs": [
    {
     "data": {
      "text/html": [
       "<div>\n",
       "<style scoped>\n",
       "    .dataframe tbody tr th:only-of-type {\n",
       "        vertical-align: middle;\n",
       "    }\n",
       "\n",
       "    .dataframe tbody tr th {\n",
       "        vertical-align: top;\n",
       "    }\n",
       "\n",
       "    .dataframe thead th {\n",
       "        text-align: right;\n",
       "    }\n",
       "</style>\n",
       "<table border=\"1\" class=\"dataframe\">\n",
       "  <thead>\n",
       "    <tr style=\"text-align: right;\">\n",
       "      <th></th>\n",
       "      <th>id</th>\n",
       "      <th>date</th>\n",
       "      <th>text</th>\n",
       "      <th>author</th>\n",
       "      <th>favorite</th>\n",
       "      <th>url</th>\n",
       "    </tr>\n",
       "  </thead>\n",
       "  <tbody>\n",
       "    <tr>\n",
       "      <th>890420</th>\n",
       "      <td>328542186620727297</td>\n",
       "      <td>2013-04-28 09:12:15</td>\n",
       "      <td>@ kristiano drink the Euro-blues away</td>\n",
       "      <td>joonian</td>\n",
       "      <td>0</td>\n",
       "      <td>https://twitter.com/joonian/status/32854218662...</td>\n",
       "    </tr>\n",
       "    <tr>\n",
       "      <th>698751</th>\n",
       "      <td>1093167484343967744</td>\n",
       "      <td>2019-02-06 07:20:12</td>\n",
       "      <td>Prospective issuance says: looks bad for Pink ...</td>\n",
       "      <td>zooko</td>\n",
       "      <td>17</td>\n",
       "      <td>https://twitter.com/zooko/status/1093167484343...</td>\n",
       "    </tr>\n",
       "    <tr>\n",
       "      <th>681984</th>\n",
       "      <td>795037840774144002</td>\n",
       "      <td>2016-11-05 15:59:26</td>\n",
       "      <td>… Perhaps contrary to intuition, being obvious...</td>\n",
       "      <td>zooko</td>\n",
       "      <td>7</td>\n",
       "      <td>https://twitter.com/zooko/status/7950378407741...</td>\n",
       "    </tr>\n",
       "    <tr>\n",
       "      <th>1825145</th>\n",
       "      <td>66553899515002880</td>\n",
       "      <td>2011-05-06 10:24:20</td>\n",
       "      <td>I'm at Live Fit (969 Valencia St, 21st, San Fr...</td>\n",
       "      <td>nlw</td>\n",
       "      <td>0</td>\n",
       "      <td>https://twitter.com/nlw/status/66553899515002880</td>\n",
       "    </tr>\n",
       "    <tr>\n",
       "      <th>554540</th>\n",
       "      <td>897516354743545856</td>\n",
       "      <td>2017-08-15 10:52:28</td>\n",
       "      <td>I hope Bitcoin will evolve into Snack Man when...</td>\n",
       "      <td>TuurDemeester</td>\n",
       "      <td>139</td>\n",
       "      <td>https://twitter.com/TuurDemeester/status/89751...</td>\n",
       "    </tr>\n",
       "    <tr>\n",
       "      <th>793273</th>\n",
       "      <td>907271288816893955</td>\n",
       "      <td>2017-09-11 08:55:06</td>\n",
       "      <td>e.g. they don't have a clear business model, o...</td>\n",
       "      <td>VladZamfir</td>\n",
       "      <td>1</td>\n",
       "      <td>https://twitter.com/VladZamfir/status/90727128...</td>\n",
       "    </tr>\n",
       "    <tr>\n",
       "      <th>1477393</th>\n",
       "      <td>828255692943421440</td>\n",
       "      <td>2017-02-05 06:55:20</td>\n",
       "      <td>Funny, but relative potential for getting hack...</td>\n",
       "      <td>jonmatonis</td>\n",
       "      <td>2</td>\n",
       "      <td>https://twitter.com/jonmatonis/status/82825569...</td>\n",
       "    </tr>\n",
       "    <tr>\n",
       "      <th>1552478</th>\n",
       "      <td>935221109380743168</td>\n",
       "      <td>2017-11-27 10:57:42</td>\n",
       "      <td>Super high HODL ratio distorts things</td>\n",
       "      <td>KyleSamani</td>\n",
       "      <td>0</td>\n",
       "      <td>https://twitter.com/KyleSamani/status/93522110...</td>\n",
       "    </tr>\n",
       "    <tr>\n",
       "      <th>1005314</th>\n",
       "      <td>1073312972162777088</td>\n",
       "      <td>2018-12-13 12:25:28</td>\n",
       "      <td>Maybe! But that conversation is quite a while ...</td>\n",
       "      <td>danheld</td>\n",
       "      <td>1</td>\n",
       "      <td>https://twitter.com/danheld/status/10733129721...</td>\n",
       "    </tr>\n",
       "    <tr>\n",
       "      <th>1268757</th>\n",
       "      <td>456047087873163264</td>\n",
       "      <td>2014-04-15 05:31:13</td>\n",
       "      <td>@ kentindell Ha.</td>\n",
       "      <td>TheStalwart</td>\n",
       "      <td>0</td>\n",
       "      <td>https://twitter.com/TheStalwart/status/4560470...</td>\n",
       "    </tr>\n",
       "  </tbody>\n",
       "</table>\n",
       "</div>"
      ],
      "text/plain": [
       "                          id                date  \\\n",
       "890420    328542186620727297 2013-04-28 09:12:15   \n",
       "698751   1093167484343967744 2019-02-06 07:20:12   \n",
       "681984    795037840774144002 2016-11-05 15:59:26   \n",
       "1825145    66553899515002880 2011-05-06 10:24:20   \n",
       "554540    897516354743545856 2017-08-15 10:52:28   \n",
       "793273    907271288816893955 2017-09-11 08:55:06   \n",
       "1477393   828255692943421440 2017-02-05 06:55:20   \n",
       "1552478   935221109380743168 2017-11-27 10:57:42   \n",
       "1005314  1073312972162777088 2018-12-13 12:25:28   \n",
       "1268757   456047087873163264 2014-04-15 05:31:13   \n",
       "\n",
       "                                                      text         author  \\\n",
       "890420               @ kristiano drink the Euro-blues away        joonian   \n",
       "698751   Prospective issuance says: looks bad for Pink ...          zooko   \n",
       "681984   … Perhaps contrary to intuition, being obvious...          zooko   \n",
       "1825145  I'm at Live Fit (969 Valencia St, 21st, San Fr...            nlw   \n",
       "554540   I hope Bitcoin will evolve into Snack Man when...  TuurDemeester   \n",
       "793273   e.g. they don't have a clear business model, o...     VladZamfir   \n",
       "1477393  Funny, but relative potential for getting hack...     jonmatonis   \n",
       "1552478              Super high HODL ratio distorts things     KyleSamani   \n",
       "1005314  Maybe! But that conversation is quite a while ...        danheld   \n",
       "1268757                                   @ kentindell Ha.    TheStalwart   \n",
       "\n",
       "         favorite                                                url  \n",
       "890420          0  https://twitter.com/joonian/status/32854218662...  \n",
       "698751         17  https://twitter.com/zooko/status/1093167484343...  \n",
       "681984          7  https://twitter.com/zooko/status/7950378407741...  \n",
       "1825145         0   https://twitter.com/nlw/status/66553899515002880  \n",
       "554540        139  https://twitter.com/TuurDemeester/status/89751...  \n",
       "793273          1  https://twitter.com/VladZamfir/status/90727128...  \n",
       "1477393         2  https://twitter.com/jonmatonis/status/82825569...  \n",
       "1552478         0  https://twitter.com/KyleSamani/status/93522110...  \n",
       "1005314         1  https://twitter.com/danheld/status/10733129721...  \n",
       "1268757         0  https://twitter.com/TheStalwart/status/4560470...  "
      ]
     },
     "execution_count": 8,
     "metadata": {},
     "output_type": "execute_result"
    }
   ],
   "source": [
    "#sample dataframe\n",
    "df_tweet.sample(10)"
   ]
  },
  {
   "cell_type": "markdown",
   "metadata": {},
   "source": [
    "### Determine Text Language"
   ]
  },
  {
   "cell_type": "code",
   "execution_count": 9,
   "metadata": {},
   "outputs": [
    {
     "data": {
      "text/plain": [
       "'es'"
      ]
     },
     "execution_count": 9,
     "metadata": {},
     "output_type": "execute_result"
    }
   ],
   "source": [
    "# check a non-English sample\n",
    "detect(df_tweet['text'][730228])"
   ]
  },
  {
   "cell_type": "code",
   "execution_count": 10,
   "metadata": {},
   "outputs": [
    {
     "data": {
      "text/plain": [
       "'en'"
      ]
     },
     "execution_count": 10,
     "metadata": {},
     "output_type": "execute_result"
    }
   ],
   "source": [
    "# check an English sample\n",
    "detect(df_tweet['text'][2466811])"
   ]
  },
  {
   "cell_type": "code",
   "execution_count": 11,
   "metadata": {},
   "outputs": [
    {
     "data": {
      "text/html": [
       "<div>\n",
       "<style scoped>\n",
       "    .dataframe tbody tr th:only-of-type {\n",
       "        vertical-align: middle;\n",
       "    }\n",
       "\n",
       "    .dataframe tbody tr th {\n",
       "        vertical-align: top;\n",
       "    }\n",
       "\n",
       "    .dataframe thead th {\n",
       "        text-align: right;\n",
       "    }\n",
       "</style>\n",
       "<table border=\"1\" class=\"dataframe\">\n",
       "  <thead>\n",
       "    <tr style=\"text-align: right;\">\n",
       "      <th></th>\n",
       "      <th>id</th>\n",
       "      <th>date</th>\n",
       "      <th>text</th>\n",
       "      <th>author</th>\n",
       "      <th>favorite</th>\n",
       "      <th>url</th>\n",
       "    </tr>\n",
       "  </thead>\n",
       "  <tbody>\n",
       "    <tr>\n",
       "      <th>155</th>\n",
       "      <td>824673564599189507</td>\n",
       "      <td>2017-01-26 09:41:14</td>\n",
       "      <td>I like it a lot, further improvements are on t...</td>\n",
       "      <td>TuurDemeester</td>\n",
       "      <td>1</td>\n",
       "      <td>https://twitter.com/TuurDemeester/status/82467...</td>\n",
       "    </tr>\n",
       "    <tr>\n",
       "      <th>156</th>\n",
       "      <td>1097395703100379138</td>\n",
       "      <td>2019-02-17 23:21:38</td>\n",
       "      <td>pic.twitter.com/0ssj7vvONc</td>\n",
       "      <td>CarpeNoctom</td>\n",
       "      <td>11</td>\n",
       "      <td>https://twitter.com/CarpeNoctom/status/1097395...</td>\n",
       "    </tr>\n",
       "    <tr>\n",
       "      <th>157</th>\n",
       "      <td>466200508689309696</td>\n",
       "      <td>2014-05-13 05:57:17</td>\n",
       "      <td>@ TylerManiac One shop makes brand new frames,...</td>\n",
       "      <td>jgarzik</td>\n",
       "      <td>0</td>\n",
       "      <td>https://twitter.com/jgarzik/status/46620050868...</td>\n",
       "    </tr>\n",
       "    <tr>\n",
       "      <th>158</th>\n",
       "      <td>1037748428573429760</td>\n",
       "      <td>2018-09-06 10:04:40</td>\n",
       "      <td>CIV is Castle Island Ventures (http://castleis...</td>\n",
       "      <td>nic__carter</td>\n",
       "      <td>9</td>\n",
       "      <td>https://twitter.com/nic__carter/status/1037748...</td>\n",
       "    </tr>\n",
       "    <tr>\n",
       "      <th>159</th>\n",
       "      <td>915878610866769920</td>\n",
       "      <td>2017-10-05 02:57:31</td>\n",
       "      <td>But the cool thing is, if we’re all wrong and ...</td>\n",
       "      <td>udiWertheimer</td>\n",
       "      <td>0</td>\n",
       "      <td>https://twitter.com/udiWertheimer/status/91587...</td>\n",
       "    </tr>\n",
       "  </tbody>\n",
       "</table>\n",
       "</div>"
      ],
      "text/plain": [
       "                      id                date  \\\n",
       "155   824673564599189507 2017-01-26 09:41:14   \n",
       "156  1097395703100379138 2019-02-17 23:21:38   \n",
       "157   466200508689309696 2014-05-13 05:57:17   \n",
       "158  1037748428573429760 2018-09-06 10:04:40   \n",
       "159   915878610866769920 2017-10-05 02:57:31   \n",
       "\n",
       "                                                  text         author  \\\n",
       "155  I like it a lot, further improvements are on t...  TuurDemeester   \n",
       "156                         pic.twitter.com/0ssj7vvONc    CarpeNoctom   \n",
       "157  @ TylerManiac One shop makes brand new frames,...        jgarzik   \n",
       "158  CIV is Castle Island Ventures (http://castleis...    nic__carter   \n",
       "159  But the cool thing is, if we’re all wrong and ...  udiWertheimer   \n",
       "\n",
       "     favorite                                                url  \n",
       "155         1  https://twitter.com/TuurDemeester/status/82467...  \n",
       "156        11  https://twitter.com/CarpeNoctom/status/1097395...  \n",
       "157         0  https://twitter.com/jgarzik/status/46620050868...  \n",
       "158         9  https://twitter.com/nic__carter/status/1037748...  \n",
       "159         0  https://twitter.com/udiWertheimer/status/91587...  "
      ]
     },
     "execution_count": 11,
     "metadata": {},
     "output_type": "execute_result"
    }
   ],
   "source": [
    "df_test = df_tweet.sample(160).copy()\n",
    "df_test.index = np.arange(len(df_test))\n",
    "df_test.tail()"
   ]
  },
  {
   "cell_type": "code",
   "execution_count": 16,
   "metadata": {},
   "outputs": [],
   "source": [
    "# define language find function\n",
    "def langfind(text):\n",
    "    try:\n",
    "        lang = detect(text[1])\n",
    "    except:\n",
    "        lang = 'unknown'\n",
    "    return lang"
   ]
  },
  {
   "cell_type": "code",
   "execution_count": 17,
   "metadata": {},
   "outputs": [],
   "source": [
    "# import exported function for multiprocessing\n",
    "import langdet"
   ]
  },
  {
   "cell_type": "code",
   "execution_count": 21,
   "metadata": {},
   "outputs": [],
   "source": [
    "# create the multiprocessing pool\n",
    "pool = mp.Pool(cores)\n",
    "\n",
    "# process the tweet text\n",
    "with mp.Pool(cores) as pool:\n",
    "    result = pool.map(langdet.langfind, df_test['text'].iteritems())\n",
    "\n",
    "# close down the pool\n",
    "pool.close()"
   ]
  },
  {
   "cell_type": "code",
   "execution_count": 24,
   "metadata": {},
   "outputs": [
    {
     "name": "stdout",
     "output_type": "stream",
     "text": [
      "160\n"
     ]
    }
   ],
   "source": [
    "print(len(result))"
   ]
  },
  {
   "cell_type": "code",
   "execution_count": 25,
   "metadata": {},
   "outputs": [
    {
     "data": {
      "text/plain": [
       "29"
      ]
     },
     "execution_count": 25,
     "metadata": {},
     "output_type": "execute_result"
    }
   ],
   "source": [
    "# split giant dataframe into 29 with 88407 rows each\n",
    "df_tw = df_tweet.copy()\n",
    "df_split = np.array_split(df_tw, 29, axis=0)\n",
    "len(df_split)"
   ]
  },
  {
   "cell_type": "code",
   "execution_count": 26,
   "metadata": {},
   "outputs": [
    {
     "name": "stdout",
     "output_type": "stream",
     "text": [
      "<class 'pandas.core.frame.DataFrame'>\n",
      "Int64Index: 88407 entries, 0 to 88406\n",
      "Data columns (total 6 columns):\n",
      "id          88407 non-null object\n",
      "date        88407 non-null datetime64[ns]\n",
      "text        88407 non-null object\n",
      "author      88407 non-null object\n",
      "favorite    88407 non-null int64\n",
      "url         88407 non-null object\n",
      "dtypes: datetime64[ns](1), int64(1), object(4)\n",
      "memory usage: 4.7+ MB\n"
     ]
    }
   ],
   "source": [
    "df_split[0].info()"
   ]
  },
  {
   "cell_type": "code",
   "execution_count": 27,
   "metadata": {},
   "outputs": [
    {
     "data": {
      "application/vnd.jupyter.widget-view+json": {
       "model_id": "6b16ac55101e44669e8ab8af0a208220",
       "version_major": 2,
       "version_minor": 0
      },
      "text/plain": [
       "HBox(children=(IntProgress(value=0, max=29), HTML(value='')))"
      ]
     },
     "metadata": {},
     "output_type": "display_data"
    },
    {
     "name": "stdout",
     "output_type": "stream",
     "text": [
      "\n"
     ]
    }
   ],
   "source": [
    "# detect languages and partition into github friendly file sizes\n",
    "for i in tqdm_notebook(range(29)):\n",
    "    \n",
    "    df_proc = df_split[i]\n",
    "    \n",
    "    # create the multiprocessing pool\n",
    "    pool = mp.Pool(cores)\n",
    "\n",
    "    # process the tweet text\n",
    "    with mp.Pool(cores) as pool:\n",
    "        result = pool.map(langdet.langfind, df_proc['text'].iteritems())\n",
    "\n",
    "    # close down the pool\n",
    "    pool.close()\n",
    "    \n",
    "    # write result to column\n",
    "    df_proc['lang'] = result\n",
    "    \n",
    "    # output to pickle\n",
    "    with open('twit_lang{}.pkl'.format(i), 'wb') as filehandle:  \n",
    "        # store the data\n",
    "        pickle.dump(df_proc, filehandle)     "
   ]
  },
  {
   "cell_type": "code",
   "execution_count": 59,
   "metadata": {},
   "outputs": [
    {
     "data": {
      "text/html": [
       "<div>\n",
       "<style scoped>\n",
       "    .dataframe tbody tr th:only-of-type {\n",
       "        vertical-align: middle;\n",
       "    }\n",
       "\n",
       "    .dataframe tbody tr th {\n",
       "        vertical-align: top;\n",
       "    }\n",
       "\n",
       "    .dataframe thead th {\n",
       "        text-align: right;\n",
       "    }\n",
       "</style>\n",
       "<table border=\"1\" class=\"dataframe\">\n",
       "  <thead>\n",
       "    <tr style=\"text-align: right;\">\n",
       "      <th></th>\n",
       "      <th>id</th>\n",
       "      <th>date</th>\n",
       "      <th>text</th>\n",
       "      <th>author</th>\n",
       "      <th>favorite</th>\n",
       "      <th>url</th>\n",
       "      <th>lang</th>\n",
       "    </tr>\n",
       "  </thead>\n",
       "  <tbody>\n",
       "    <tr>\n",
       "      <th>2563793</th>\n",
       "      <td>1134837107996803072</td>\n",
       "      <td>2019-06-01 08:00:25</td>\n",
       "      <td>I remember being poor at times as a kid so tha...</td>\n",
       "      <td>garrytan</td>\n",
       "      <td>4</td>\n",
       "      <td>https://twitter.com/garrytan/status/1134837107...</td>\n",
       "      <td>en</td>\n",
       "    </tr>\n",
       "    <tr>\n",
       "      <th>2563794</th>\n",
       "      <td>1134834740937105408</td>\n",
       "      <td>2019-06-01 07:51:01</td>\n",
       "      <td>I fund teams when they are two or three people...</td>\n",
       "      <td>garrytan</td>\n",
       "      <td>3</td>\n",
       "      <td>https://twitter.com/garrytan/status/1134834740...</td>\n",
       "      <td>en</td>\n",
       "    </tr>\n",
       "    <tr>\n",
       "      <th>2563795</th>\n",
       "      <td>1134833351783661569</td>\n",
       "      <td>2019-06-01 07:45:29</td>\n",
       "      <td>Bitcoin in that respect is a real directional ...</td>\n",
       "      <td>garrytan</td>\n",
       "      <td>3</td>\n",
       "      <td>https://twitter.com/garrytan/status/1134833351...</td>\n",
       "      <td>en</td>\n",
       "    </tr>\n",
       "    <tr>\n",
       "      <th>2563796</th>\n",
       "      <td>1134829187003326464</td>\n",
       "      <td>2019-06-01 07:28:56</td>\n",
       "      <td>It’s a matter of degrees. We are really far of...</td>\n",
       "      <td>garrytan</td>\n",
       "      <td>0</td>\n",
       "      <td>https://twitter.com/garrytan/status/1134829187...</td>\n",
       "      <td>en</td>\n",
       "    </tr>\n",
       "    <tr>\n",
       "      <th>2563797</th>\n",
       "      <td>1134685080880680961</td>\n",
       "      <td>2019-05-31 21:56:19</td>\n",
       "      <td>You don’t mistakenly become great. Before you ...</td>\n",
       "      <td>garrytan</td>\n",
       "      <td>155</td>\n",
       "      <td>https://twitter.com/garrytan/status/1134685080...</td>\n",
       "      <td>en</td>\n",
       "    </tr>\n",
       "    <tr>\n",
       "      <th>2563798</th>\n",
       "      <td>1134657131561476097</td>\n",
       "      <td>2019-05-31 20:05:15</td>\n",
       "      <td>pic.twitter.com/Hoqk6XMkgn</td>\n",
       "      <td>garrytan</td>\n",
       "      <td>9</td>\n",
       "      <td>https://twitter.com/garrytan/status/1134657131...</td>\n",
       "      <td>en</td>\n",
       "    </tr>\n",
       "    <tr>\n",
       "      <th>2563799</th>\n",
       "      <td>1134647983180410883</td>\n",
       "      <td>2019-05-31 19:28:54</td>\n",
       "      <td>It’s not totally clear to me what Microsoft wo...</td>\n",
       "      <td>garrytan</td>\n",
       "      <td>11</td>\n",
       "      <td>https://twitter.com/garrytan/status/1134647983...</td>\n",
       "      <td>en</td>\n",
       "    </tr>\n",
       "    <tr>\n",
       "      <th>2563800</th>\n",
       "      <td>1134647724425375744</td>\n",
       "      <td>2019-05-31 19:27:52</td>\n",
       "      <td>Yeah Microsoft under Gates was rightly feared....</td>\n",
       "      <td>garrytan</td>\n",
       "      <td>0</td>\n",
       "      <td>https://twitter.com/garrytan/status/1134647724...</td>\n",
       "      <td>en</td>\n",
       "    </tr>\n",
       "    <tr>\n",
       "      <th>2563801</th>\n",
       "      <td>1134633988985778177</td>\n",
       "      <td>2019-05-31 18:33:18</td>\n",
       "      <td>Aw man</td>\n",
       "      <td>garrytan</td>\n",
       "      <td>5</td>\n",
       "      <td>https://twitter.com/garrytan/status/1134633988...</td>\n",
       "      <td>tl</td>\n",
       "    </tr>\n",
       "    <tr>\n",
       "      <th>2563802</th>\n",
       "      <td>1134620998047739904</td>\n",
       "      <td>2019-05-31 17:41:40</td>\n",
       "      <td>Microsoft underperformed for more than 17 year...</td>\n",
       "      <td>garrytan</td>\n",
       "      <td>175</td>\n",
       "      <td>https://twitter.com/garrytan/status/1134620998...</td>\n",
       "      <td>en</td>\n",
       "    </tr>\n",
       "  </tbody>\n",
       "</table>\n",
       "</div>"
      ],
      "text/plain": [
       "                          id                date  \\\n",
       "2563793  1134837107996803072 2019-06-01 08:00:25   \n",
       "2563794  1134834740937105408 2019-06-01 07:51:01   \n",
       "2563795  1134833351783661569 2019-06-01 07:45:29   \n",
       "2563796  1134829187003326464 2019-06-01 07:28:56   \n",
       "2563797  1134685080880680961 2019-05-31 21:56:19   \n",
       "2563798  1134657131561476097 2019-05-31 20:05:15   \n",
       "2563799  1134647983180410883 2019-05-31 19:28:54   \n",
       "2563800  1134647724425375744 2019-05-31 19:27:52   \n",
       "2563801  1134633988985778177 2019-05-31 18:33:18   \n",
       "2563802  1134620998047739904 2019-05-31 17:41:40   \n",
       "\n",
       "                                                      text    author  \\\n",
       "2563793  I remember being poor at times as a kid so tha...  garrytan   \n",
       "2563794  I fund teams when they are two or three people...  garrytan   \n",
       "2563795  Bitcoin in that respect is a real directional ...  garrytan   \n",
       "2563796  It’s a matter of degrees. We are really far of...  garrytan   \n",
       "2563797  You don’t mistakenly become great. Before you ...  garrytan   \n",
       "2563798                         pic.twitter.com/Hoqk6XMkgn  garrytan   \n",
       "2563799  It’s not totally clear to me what Microsoft wo...  garrytan   \n",
       "2563800  Yeah Microsoft under Gates was rightly feared....  garrytan   \n",
       "2563801                                             Aw man  garrytan   \n",
       "2563802  Microsoft underperformed for more than 17 year...  garrytan   \n",
       "\n",
       "         favorite                                                url lang  \n",
       "2563793         4  https://twitter.com/garrytan/status/1134837107...   en  \n",
       "2563794         3  https://twitter.com/garrytan/status/1134834740...   en  \n",
       "2563795         3  https://twitter.com/garrytan/status/1134833351...   en  \n",
       "2563796         0  https://twitter.com/garrytan/status/1134829187...   en  \n",
       "2563797       155  https://twitter.com/garrytan/status/1134685080...   en  \n",
       "2563798         9  https://twitter.com/garrytan/status/1134657131...   en  \n",
       "2563799        11  https://twitter.com/garrytan/status/1134647983...   en  \n",
       "2563800         0  https://twitter.com/garrytan/status/1134647724...   en  \n",
       "2563801         5  https://twitter.com/garrytan/status/1134633988...   tl  \n",
       "2563802       175  https://twitter.com/garrytan/status/1134620998...   en  "
      ]
     },
     "execution_count": 59,
     "metadata": {},
     "output_type": "execute_result"
    }
   ],
   "source": [
    "df_proc.tail(10)"
   ]
  },
  {
   "cell_type": "markdown",
   "metadata": {},
   "source": [
    "### Clean the Text"
   ]
  },
  {
   "cell_type": "code",
   "execution_count": 93,
   "metadata": {},
   "outputs": [],
   "source": [
    "def cleaner(text):\n",
    "    # take out space after @ symbol\n",
    "    clear = re.sub(r'@\\s+',r'@', text)\n",
    "    # take out usernames\n",
    "    clear = re.sub(r'@([A-Za-z0-9_]+)','', clear)\n",
    "    # take out space after # symbol\n",
    "    clear = re.sub(r'#\\s+',r'#', clear)\n",
    "    # take out space after $ symbol\n",
    "    clear = re.sub(r'$\\s+',r'$', clear)\n",
    "    # take out url\n",
    "    clear = re.sub(r'http[s]?://(?:[a-zA-Z]|[0-9]|[$-_@.&+]|[!*\\(\\), ]|(?:%[0-9a-fA-F][0-9a-fA-F]))+','', clear) \n",
    "    # take out pics\n",
    "    clear = re.sub(r'pic.twitter?://(?:[a-zA-Z]|[0-9]|[$-_@.&+]|[!*\\(\\), ]|(?:%[0-9a-fA-F][0-9a-fA-F]))+','', clear)\n",
    "    # take out the extra white spaces\n",
    "    clear = re.sub(r' +', ' ', clear.strip())\n",
    "    return clear"
   ]
  },
  {
   "cell_type": "code",
   "execution_count": 94,
   "metadata": {},
   "outputs": [
    {
     "data": {
      "text/plain": [
       "'unraveled message #CourageAward'"
      ]
     },
     "execution_count": 94,
     "metadata": {},
     "output_type": "execute_result"
    }
   ],
   "source": [
    "# test the cleaner\n",
    "cleaner('@ threadreaderapp unraveled  message https://www.google.co.uk/amp/s/ ...pic.twitter.com/Hoqk6XMkgn # CourageAward')"
   ]
  },
  {
   "cell_type": "code",
   "execution_count": 98,
   "metadata": {},
   "outputs": [
    {
     "data": {
      "application/vnd.jupyter.widget-view+json": {
       "model_id": "72ba9e65407e46b1b91731a1ccbe6ef4",
       "version_major": 2,
       "version_minor": 0
      },
      "text/plain": [
       "HBox(children=(IntProgress(value=0, max=29), HTML(value='')))"
      ]
     },
     "metadata": {},
     "output_type": "display_data"
    },
    {
     "data": {
      "application/vnd.jupyter.widget-view+json": {
       "model_id": "f62bd5ac017442ca9bc1286df5771ad3",
       "version_major": 2,
       "version_minor": 0
      },
      "text/plain": [
       "HBox(children=(IntProgress(value=1, bar_style='info', max=1), HTML(value='')))"
      ]
     },
     "metadata": {},
     "output_type": "display_data"
    },
    {
     "data": {
      "application/vnd.jupyter.widget-view+json": {
       "model_id": "c709ae63472c4fb1a10e6a2fcea7b9be",
       "version_major": 2,
       "version_minor": 0
      },
      "text/plain": [
       "HBox(children=(IntProgress(value=1, bar_style='info', max=1), HTML(value='')))"
      ]
     },
     "metadata": {},
     "output_type": "display_data"
    },
    {
     "data": {
      "application/vnd.jupyter.widget-view+json": {
       "model_id": "78833edf3d994541b963fc1e0db133b6",
       "version_major": 2,
       "version_minor": 0
      },
      "text/plain": [
       "HBox(children=(IntProgress(value=1, bar_style='info', max=1), HTML(value='')))"
      ]
     },
     "metadata": {},
     "output_type": "display_data"
    },
    {
     "data": {
      "application/vnd.jupyter.widget-view+json": {
       "model_id": "6da7e1d11b94402d85ca1953a50362c8",
       "version_major": 2,
       "version_minor": 0
      },
      "text/plain": [
       "HBox(children=(IntProgress(value=1, bar_style='info', max=1), HTML(value='')))"
      ]
     },
     "metadata": {},
     "output_type": "display_data"
    },
    {
     "data": {
      "application/vnd.jupyter.widget-view+json": {
       "model_id": "f33d3ffdcc324fe08e3ed289cd372bff",
       "version_major": 2,
       "version_minor": 0
      },
      "text/plain": [
       "HBox(children=(IntProgress(value=1, bar_style='info', max=1), HTML(value='')))"
      ]
     },
     "metadata": {},
     "output_type": "display_data"
    },
    {
     "data": {
      "application/vnd.jupyter.widget-view+json": {
       "model_id": "09302eb9a72a4f58adf0744040dcc678",
       "version_major": 2,
       "version_minor": 0
      },
      "text/plain": [
       "HBox(children=(IntProgress(value=1, bar_style='info', max=1), HTML(value='')))"
      ]
     },
     "metadata": {},
     "output_type": "display_data"
    },
    {
     "data": {
      "application/vnd.jupyter.widget-view+json": {
       "model_id": "0f9ed49552f349079ee703005186253e",
       "version_major": 2,
       "version_minor": 0
      },
      "text/plain": [
       "HBox(children=(IntProgress(value=1, bar_style='info', max=1), HTML(value='')))"
      ]
     },
     "metadata": {},
     "output_type": "display_data"
    },
    {
     "data": {
      "application/vnd.jupyter.widget-view+json": {
       "model_id": "cf123c68e7f247c7986269a51102d2f7",
       "version_major": 2,
       "version_minor": 0
      },
      "text/plain": [
       "HBox(children=(IntProgress(value=1, bar_style='info', max=1), HTML(value='')))"
      ]
     },
     "metadata": {},
     "output_type": "display_data"
    },
    {
     "data": {
      "application/vnd.jupyter.widget-view+json": {
       "model_id": "d5bb0b51bcfc4428ae235dd8ed495454",
       "version_major": 2,
       "version_minor": 0
      },
      "text/plain": [
       "HBox(children=(IntProgress(value=1, bar_style='info', max=1), HTML(value='')))"
      ]
     },
     "metadata": {},
     "output_type": "display_data"
    },
    {
     "data": {
      "application/vnd.jupyter.widget-view+json": {
       "model_id": "b7888a73badf40e28d3522bf12c161f8",
       "version_major": 2,
       "version_minor": 0
      },
      "text/plain": [
       "HBox(children=(IntProgress(value=1, bar_style='info', max=1), HTML(value='')))"
      ]
     },
     "metadata": {},
     "output_type": "display_data"
    },
    {
     "data": {
      "application/vnd.jupyter.widget-view+json": {
       "model_id": "50aa467bd141481eb3cee8a6c40a21a5",
       "version_major": 2,
       "version_minor": 0
      },
      "text/plain": [
       "HBox(children=(IntProgress(value=1, bar_style='info', max=1), HTML(value='')))"
      ]
     },
     "metadata": {},
     "output_type": "display_data"
    },
    {
     "data": {
      "application/vnd.jupyter.widget-view+json": {
       "model_id": "d6b93b63bc584744a872eed2b4ce5078",
       "version_major": 2,
       "version_minor": 0
      },
      "text/plain": [
       "HBox(children=(IntProgress(value=1, bar_style='info', max=1), HTML(value='')))"
      ]
     },
     "metadata": {},
     "output_type": "display_data"
    },
    {
     "data": {
      "application/vnd.jupyter.widget-view+json": {
       "model_id": "e2a08d9692934333b78022bf077a684d",
       "version_major": 2,
       "version_minor": 0
      },
      "text/plain": [
       "HBox(children=(IntProgress(value=1, bar_style='info', max=1), HTML(value='')))"
      ]
     },
     "metadata": {},
     "output_type": "display_data"
    },
    {
     "data": {
      "application/vnd.jupyter.widget-view+json": {
       "model_id": "acba62ba0f234dc089c023865f1e3d78",
       "version_major": 2,
       "version_minor": 0
      },
      "text/plain": [
       "HBox(children=(IntProgress(value=1, bar_style='info', max=1), HTML(value='')))"
      ]
     },
     "metadata": {},
     "output_type": "display_data"
    },
    {
     "data": {
      "application/vnd.jupyter.widget-view+json": {
       "model_id": "916c8c5d53d54e7081398eefb1dd38db",
       "version_major": 2,
       "version_minor": 0
      },
      "text/plain": [
       "HBox(children=(IntProgress(value=1, bar_style='info', max=1), HTML(value='')))"
      ]
     },
     "metadata": {},
     "output_type": "display_data"
    },
    {
     "data": {
      "application/vnd.jupyter.widget-view+json": {
       "model_id": "78fb015ba04c446ebeb783dc5d0a0d5c",
       "version_major": 2,
       "version_minor": 0
      },
      "text/plain": [
       "HBox(children=(IntProgress(value=1, bar_style='info', max=1), HTML(value='')))"
      ]
     },
     "metadata": {},
     "output_type": "display_data"
    },
    {
     "data": {
      "application/vnd.jupyter.widget-view+json": {
       "model_id": "48e15424c70c4db08b2b5e9b3ca2659b",
       "version_major": 2,
       "version_minor": 0
      },
      "text/plain": [
       "HBox(children=(IntProgress(value=1, bar_style='info', max=1), HTML(value='')))"
      ]
     },
     "metadata": {},
     "output_type": "display_data"
    },
    {
     "data": {
      "application/vnd.jupyter.widget-view+json": {
       "model_id": "7d9e8a287b944c7b85fd25b16c464fbd",
       "version_major": 2,
       "version_minor": 0
      },
      "text/plain": [
       "HBox(children=(IntProgress(value=1, bar_style='info', max=1), HTML(value='')))"
      ]
     },
     "metadata": {},
     "output_type": "display_data"
    },
    {
     "data": {
      "application/vnd.jupyter.widget-view+json": {
       "model_id": "c3a25f889b154a85af4b0f86fd3481e4",
       "version_major": 2,
       "version_minor": 0
      },
      "text/plain": [
       "HBox(children=(IntProgress(value=1, bar_style='info', max=1), HTML(value='')))"
      ]
     },
     "metadata": {},
     "output_type": "display_data"
    },
    {
     "data": {
      "application/vnd.jupyter.widget-view+json": {
       "model_id": "fd7045b5aa4d4a65ae537f6b7a0bac9d",
       "version_major": 2,
       "version_minor": 0
      },
      "text/plain": [
       "HBox(children=(IntProgress(value=1, bar_style='info', max=1), HTML(value='')))"
      ]
     },
     "metadata": {},
     "output_type": "display_data"
    },
    {
     "data": {
      "application/vnd.jupyter.widget-view+json": {
       "model_id": "0e4056e90ba84a3fba7655dbe47ba715",
       "version_major": 2,
       "version_minor": 0
      },
      "text/plain": [
       "HBox(children=(IntProgress(value=1, bar_style='info', max=1), HTML(value='')))"
      ]
     },
     "metadata": {},
     "output_type": "display_data"
    },
    {
     "data": {
      "application/vnd.jupyter.widget-view+json": {
       "model_id": "d7b13d93d2414f0f99d6f5b85cc0679f",
       "version_major": 2,
       "version_minor": 0
      },
      "text/plain": [
       "HBox(children=(IntProgress(value=1, bar_style='info', max=1), HTML(value='')))"
      ]
     },
     "metadata": {},
     "output_type": "display_data"
    },
    {
     "data": {
      "application/vnd.jupyter.widget-view+json": {
       "model_id": "030db42c6afb450f873151793b673571",
       "version_major": 2,
       "version_minor": 0
      },
      "text/plain": [
       "HBox(children=(IntProgress(value=1, bar_style='info', max=1), HTML(value='')))"
      ]
     },
     "metadata": {},
     "output_type": "display_data"
    },
    {
     "data": {
      "application/vnd.jupyter.widget-view+json": {
       "model_id": "59b74fd86be84fc39904ad6c54ce4e10",
       "version_major": 2,
       "version_minor": 0
      },
      "text/plain": [
       "HBox(children=(IntProgress(value=1, bar_style='info', max=1), HTML(value='')))"
      ]
     },
     "metadata": {},
     "output_type": "display_data"
    },
    {
     "data": {
      "application/vnd.jupyter.widget-view+json": {
       "model_id": "d9edbf24fb9e485b8a716dc7ef7ffe0e",
       "version_major": 2,
       "version_minor": 0
      },
      "text/plain": [
       "HBox(children=(IntProgress(value=1, bar_style='info', max=1), HTML(value='')))"
      ]
     },
     "metadata": {},
     "output_type": "display_data"
    },
    {
     "data": {
      "application/vnd.jupyter.widget-view+json": {
       "model_id": "825cc087aa024036aebc922e879e566e",
       "version_major": 2,
       "version_minor": 0
      },
      "text/plain": [
       "HBox(children=(IntProgress(value=1, bar_style='info', max=1), HTML(value='')))"
      ]
     },
     "metadata": {},
     "output_type": "display_data"
    },
    {
     "data": {
      "application/vnd.jupyter.widget-view+json": {
       "model_id": "0094ccd091704adcbd7f10d489709885",
       "version_major": 2,
       "version_minor": 0
      },
      "text/plain": [
       "HBox(children=(IntProgress(value=1, bar_style='info', max=1), HTML(value='')))"
      ]
     },
     "metadata": {},
     "output_type": "display_data"
    },
    {
     "data": {
      "application/vnd.jupyter.widget-view+json": {
       "model_id": "1064a1914fa84e01bbfb9cfeb94fbb56",
       "version_major": 2,
       "version_minor": 0
      },
      "text/plain": [
       "HBox(children=(IntProgress(value=1, bar_style='info', max=1), HTML(value='')))"
      ]
     },
     "metadata": {},
     "output_type": "display_data"
    },
    {
     "data": {
      "application/vnd.jupyter.widget-view+json": {
       "model_id": "068aea237a484e05a689eb54d7a778f3",
       "version_major": 2,
       "version_minor": 0
      },
      "text/plain": [
       "HBox(children=(IntProgress(value=1, bar_style='info', max=1), HTML(value='')))"
      ]
     },
     "metadata": {},
     "output_type": "display_data"
    },
    {
     "name": "stdout",
     "output_type": "stream",
     "text": [
      "\n"
     ]
    }
   ],
   "source": [
    "# clean the dataframes, filter out the non-English entries\n",
    "for i in tqdm_notebook(range(29)):\n",
    "    \n",
    "    with open('twit_lang{}.pkl'.format(i), 'rb') as filehandle:  \n",
    "    # read the data as binary data stream\n",
    "        df_proc = pickle.load(filehandle)\n",
    "        \n",
    "    # subset by English\n",
    "    df_eng = df_proc[df_proc['lang']=='en'].copy()\n",
    "    # clean each text block\n",
    "    length = []\n",
    "    cleantext = []\n",
    "    for j,nrows in tqdm_notebook(df_eng.iterrows()):\n",
    "        clean = cleaner(nrows['text'])\n",
    "        length.append(len(clean))\n",
    "        cleantext.append(clean)\n",
    "    \n",
    "    df_eng['length'] = length\n",
    "    df_eng['cleantext'] = cleantext\n",
    "    \n",
    "    # output to pickle\n",
    "    with open('tweet_clean{}.pkl'.format(i), 'wb') as filehandle:  \n",
    "        # store the data\n",
    "        pickle.dump(df_eng, filehandle)"
   ]
  },
  {
   "cell_type": "code",
   "execution_count": 99,
   "metadata": {},
   "outputs": [
    {
     "data": {
      "text/plain": [
       "2494449      The possible prosecution of WikiLeaks | Antiwar\n",
       "2510572    Snowden, Greenwald and Wikileaks are winning |...\n",
       "2553930    Let's not get greedy with these bubblicious se...\n",
       "2556035    Eponym lets any brand sell their own line of e...\n",
       "2531188    Far worse than that. Assange is a political pr...\n",
       "2484733    2/The smaller the margin you have, the more co...\n",
       "2508913      #Assange works to be healthy in embassy | AAP …\n",
       "2554081    If you're a fan of 2001, you will be blown awa...\n",
       "2538134    I really enjoyed this conversation \"weedwizard...\n",
       "2535470    This deep epiphany came to me on a $ unny $ un...\n",
       "2479833    Noah: A LO is an object in an OC cache. Demo f...\n",
       "2523370    False dichotomy. An informed public and free m...\n",
       "2531268    No wired. It's not an open question. The tape ...\n",
       "2538739    I started contributing to Bitcoin Core a few m...\n",
       "2505347    ..continue to pump up the insitutional \"meant ...\n",
       "2508289    WikiLeaks leaks film script about WikiLeaks - ...\n",
       "2497580    ANNOUNCE: Use a \"magnet\" compatible Bit Torren...\n",
       "2508977    You mean, why has AP and NYT avoided reporting...\n",
       "2491102    Interview with and video of our conversation a...\n",
       "2518858    LIVE In 30 minutes (2.45 GMT): PRESS CONFERENC...\n",
       "Name: cleantext, dtype: object"
      ]
     },
     "execution_count": 99,
     "metadata": {},
     "output_type": "execute_result"
    }
   ],
   "source": [
    "df_eng['cleantext'].sample(20)"
   ]
  },
  {
   "cell_type": "code",
   "execution_count": 100,
   "metadata": {},
   "outputs": [
    {
     "data": {
      "text/html": [
       "<div>\n",
       "<style scoped>\n",
       "    .dataframe tbody tr th:only-of-type {\n",
       "        vertical-align: middle;\n",
       "    }\n",
       "\n",
       "    .dataframe tbody tr th {\n",
       "        vertical-align: top;\n",
       "    }\n",
       "\n",
       "    .dataframe thead th {\n",
       "        text-align: right;\n",
       "    }\n",
       "</style>\n",
       "<table border=\"1\" class=\"dataframe\">\n",
       "  <thead>\n",
       "    <tr style=\"text-align: right;\">\n",
       "      <th></th>\n",
       "      <th>id</th>\n",
       "      <th>date</th>\n",
       "      <th>text</th>\n",
       "      <th>author</th>\n",
       "      <th>favorite</th>\n",
       "      <th>url</th>\n",
       "      <th>lang</th>\n",
       "      <th>length</th>\n",
       "      <th>cleantext</th>\n",
       "    </tr>\n",
       "  </thead>\n",
       "  <tbody>\n",
       "    <tr>\n",
       "      <th>2548837</th>\n",
       "      <td>1174575258</td>\n",
       "      <td>2009-02-03 15:22:12</td>\n",
       "      <td>RT: @ SFBART: BART rider Zoe for sharing a ver...</td>\n",
       "      <td>garrytan</td>\n",
       "      <td>0</td>\n",
       "      <td>https://twitter.com/garrytan/status/1174575258</td>\n",
       "      <td>en</td>\n",
       "      <td>95</td>\n",
       "      <td>RT: : BART rider Zoe for sharing a very cool p...</td>\n",
       "    </tr>\n",
       "    <tr>\n",
       "      <th>2549711</th>\n",
       "      <td>1675368691</td>\n",
       "      <td>2009-05-01 19:22:59</td>\n",
       "      <td>Things you learn from customer support emails:...</td>\n",
       "      <td>garrytan</td>\n",
       "      <td>1</td>\n",
       "      <td>https://twitter.com/garrytan/status/1675368691</td>\n",
       "      <td>en</td>\n",
       "      <td>106</td>\n",
       "      <td>Things you learn from customer support emails:...</td>\n",
       "    </tr>\n",
       "    <tr>\n",
       "      <th>2478834</th>\n",
       "      <td>1116038330305732608</td>\n",
       "      <td>2019-04-10 11:00:47</td>\n",
       "      <td>Mondragon, all the Second Industrial Divide st...</td>\n",
       "      <td>leashless</td>\n",
       "      <td>1</td>\n",
       "      <td>https://twitter.com/leashless/status/111603833...</td>\n",
       "      <td>en</td>\n",
       "      <td>133</td>\n",
       "      <td>Mondragon, all the Second Industrial Divide st...</td>\n",
       "    </tr>\n",
       "    <tr>\n",
       "      <th>2532374</th>\n",
       "      <td>633348250418970625</td>\n",
       "      <td>2015-08-17 11:42:44</td>\n",
       "      <td>Here's why fibonacci retracements are my favou...</td>\n",
       "      <td>CryptoHustle</td>\n",
       "      <td>4</td>\n",
       "      <td>https://twitter.com/CryptoHustle/status/633348...</td>\n",
       "      <td>en</td>\n",
       "      <td>102</td>\n",
       "      <td>Here's why fibonacci retracements are my favou...</td>\n",
       "    </tr>\n",
       "    <tr>\n",
       "      <th>2504577</th>\n",
       "      <td>254085492063227904</td>\n",
       "      <td>2012-10-04 22:07:56</td>\n",
       "      <td>Sweden's intelligence service, SÄPO, 'accident...</td>\n",
       "      <td>wikileaks</td>\n",
       "      <td>12</td>\n",
       "      <td>https://twitter.com/wikileaks/status/254085492...</td>\n",
       "      <td>en</td>\n",
       "      <td>85</td>\n",
       "      <td>Sweden's intelligence service, SÄPO, 'accident...</td>\n",
       "    </tr>\n",
       "    <tr>\n",
       "      <th>2551711</th>\n",
       "      <td>10400071558</td>\n",
       "      <td>2010-03-12 17:26:56</td>\n",
       "      <td>No SXSW for me. I'm at HXHW -&gt; hack by hack we...</td>\n",
       "      <td>garrytan</td>\n",
       "      <td>0</td>\n",
       "      <td>https://twitter.com/garrytan/status/10400071558</td>\n",
       "      <td>en</td>\n",
       "      <td>95</td>\n",
       "      <td>No SXSW for me. I'm at HXHW -&gt; hack by hack we...</td>\n",
       "    </tr>\n",
       "    <tr>\n",
       "      <th>2524197</th>\n",
       "      <td>710131795556175872</td>\n",
       "      <td>2016-03-16 08:53:08</td>\n",
       "      <td>Stand by for the launch of a new search system...</td>\n",
       "      <td>wikileaks</td>\n",
       "      <td>97</td>\n",
       "      <td>https://twitter.com/wikileaks/status/710131795...</td>\n",
       "      <td>en</td>\n",
       "      <td>123</td>\n",
       "      <td>Stand by for the launch of a new search system...</td>\n",
       "    </tr>\n",
       "    <tr>\n",
       "      <th>2536327</th>\n",
       "      <td>894607253671743489</td>\n",
       "      <td>2017-08-07 10:12:44</td>\n",
       "      <td>If you're running or planning on running a $ C...</td>\n",
       "      <td>CryptoHustle</td>\n",
       "      <td>107</td>\n",
       "      <td>https://twitter.com/CryptoHustle/status/894607...</td>\n",
       "      <td>en</td>\n",
       "      <td>139</td>\n",
       "      <td>If you're running or planning on running a $ C...</td>\n",
       "    </tr>\n",
       "    <tr>\n",
       "      <th>2503770</th>\n",
       "      <td>235382666751533056</td>\n",
       "      <td>2012-08-14 07:29:35</td>\n",
       "      <td>Bradley # Manning suffered unprecedented pretr...</td>\n",
       "      <td>wikileaks</td>\n",
       "      <td>8</td>\n",
       "      <td>https://twitter.com/wikileaks/status/235382666...</td>\n",
       "      <td>en</td>\n",
       "      <td>95</td>\n",
       "      <td>Bradley #Manning suffered unprecedented pretri...</td>\n",
       "    </tr>\n",
       "    <tr>\n",
       "      <th>2547227</th>\n",
       "      <td>1055531336331640833</td>\n",
       "      <td>2018-10-25 11:47:36</td>\n",
       "      <td>Thanks for following up. This does sound like ...</td>\n",
       "      <td>Poloniex</td>\n",
       "      <td>0</td>\n",
       "      <td>https://twitter.com/Poloniex/status/1055531336...</td>\n",
       "      <td>en</td>\n",
       "      <td>226</td>\n",
       "      <td>Thanks for following up. This does sound like ...</td>\n",
       "    </tr>\n",
       "  </tbody>\n",
       "</table>\n",
       "</div>"
      ],
      "text/plain": [
       "                          id                date  \\\n",
       "2548837           1174575258 2009-02-03 15:22:12   \n",
       "2549711           1675368691 2009-05-01 19:22:59   \n",
       "2478834  1116038330305732608 2019-04-10 11:00:47   \n",
       "2532374   633348250418970625 2015-08-17 11:42:44   \n",
       "2504577   254085492063227904 2012-10-04 22:07:56   \n",
       "2551711          10400071558 2010-03-12 17:26:56   \n",
       "2524197   710131795556175872 2016-03-16 08:53:08   \n",
       "2536327   894607253671743489 2017-08-07 10:12:44   \n",
       "2503770   235382666751533056 2012-08-14 07:29:35   \n",
       "2547227  1055531336331640833 2018-10-25 11:47:36   \n",
       "\n",
       "                                                      text        author  \\\n",
       "2548837  RT: @ SFBART: BART rider Zoe for sharing a ver...      garrytan   \n",
       "2549711  Things you learn from customer support emails:...      garrytan   \n",
       "2478834  Mondragon, all the Second Industrial Divide st...     leashless   \n",
       "2532374  Here's why fibonacci retracements are my favou...  CryptoHustle   \n",
       "2504577  Sweden's intelligence service, SÄPO, 'accident...     wikileaks   \n",
       "2551711  No SXSW for me. I'm at HXHW -> hack by hack we...      garrytan   \n",
       "2524197  Stand by for the launch of a new search system...     wikileaks   \n",
       "2536327  If you're running or planning on running a $ C...  CryptoHustle   \n",
       "2503770  Bradley # Manning suffered unprecedented pretr...     wikileaks   \n",
       "2547227  Thanks for following up. This does sound like ...      Poloniex   \n",
       "\n",
       "         favorite                                                url lang  \\\n",
       "2548837         0     https://twitter.com/garrytan/status/1174575258   en   \n",
       "2549711         1     https://twitter.com/garrytan/status/1675368691   en   \n",
       "2478834         1  https://twitter.com/leashless/status/111603833...   en   \n",
       "2532374         4  https://twitter.com/CryptoHustle/status/633348...   en   \n",
       "2504577        12  https://twitter.com/wikileaks/status/254085492...   en   \n",
       "2551711         0    https://twitter.com/garrytan/status/10400071558   en   \n",
       "2524197        97  https://twitter.com/wikileaks/status/710131795...   en   \n",
       "2536327       107  https://twitter.com/CryptoHustle/status/894607...   en   \n",
       "2503770         8  https://twitter.com/wikileaks/status/235382666...   en   \n",
       "2547227         0  https://twitter.com/Poloniex/status/1055531336...   en   \n",
       "\n",
       "         length                                          cleantext  \n",
       "2548837      95  RT: : BART rider Zoe for sharing a very cool p...  \n",
       "2549711     106  Things you learn from customer support emails:...  \n",
       "2478834     133  Mondragon, all the Second Industrial Divide st...  \n",
       "2532374     102  Here's why fibonacci retracements are my favou...  \n",
       "2504577      85  Sweden's intelligence service, SÄPO, 'accident...  \n",
       "2551711      95  No SXSW for me. I'm at HXHW -> hack by hack we...  \n",
       "2524197     123  Stand by for the launch of a new search system...  \n",
       "2536327     139  If you're running or planning on running a $ C...  \n",
       "2503770      95  Bradley #Manning suffered unprecedented pretri...  \n",
       "2547227     226  Thanks for following up. This does sound like ...  "
      ]
     },
     "execution_count": 100,
     "metadata": {},
     "output_type": "execute_result"
    }
   ],
   "source": [
    "df_eng.sample(10)"
   ]
  },
  {
   "cell_type": "code",
   "execution_count": null,
   "metadata": {},
   "outputs": [],
   "source": []
  },
  {
   "cell_type": "code",
   "execution_count": null,
   "metadata": {},
   "outputs": [],
   "source": []
  }
 ],
 "metadata": {
  "kernelspec": {
   "display_name": "Python 3",
   "language": "python",
   "name": "python3"
  },
  "language_info": {
   "codemirror_mode": {
    "name": "ipython",
    "version": 3
   },
   "file_extension": ".py",
   "mimetype": "text/x-python",
   "name": "python",
   "nbconvert_exporter": "python",
   "pygments_lexer": "ipython3",
   "version": "3.5.4"
  }
 },
 "nbformat": 4,
 "nbformat_minor": 2
}
