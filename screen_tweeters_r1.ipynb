{
 "cells": [
  {
   "cell_type": "markdown",
   "metadata": {},
   "source": [
    "### Screen Cleaned Twitter Data by Poet Features"
   ]
  },
  {
   "cell_type": "code",
   "execution_count": 16,
   "metadata": {},
   "outputs": [],
   "source": [
    "from tqdm import tqdm_notebook\n",
    "import pandas as pd\n",
    "import os\n",
    "import pickle\n",
    "import numpy as np\n",
    "from nltk.tokenize import TweetTokenizer\n",
    "from collections import defaultdict, Counter\n",
    "\n",
    "import matplotlib.pyplot as plt\n",
    "% matplotlib inline\n",
    "import seaborn as sns\n",
    "sns.set_style('darkgrid')\n",
    "sns.set(color_codes=True)\n",
    "\n",
    "from scipy.stats import kurtosis\n",
    "from scipy.stats import skew"
   ]
  },
  {
   "cell_type": "code",
   "execution_count": 2,
   "metadata": {},
   "outputs": [
    {
     "data": {
      "application/vnd.jupyter.widget-view+json": {
       "model_id": "6c4bf0726613425c8f63708889a3b7c0",
       "version_major": 2,
       "version_minor": 0
      },
      "text/plain": [
       "HBox(children=(IntProgress(value=0, max=29), HTML(value='')))"
      ]
     },
     "metadata": {},
     "output_type": "display_data"
    },
    {
     "name": "stdout",
     "output_type": "stream",
     "text": [
      "\n",
      "<class 'pandas.core.frame.DataFrame'>\n",
      "RangeIndex: 2293881 entries, 0 to 2293880\n",
      "Data columns (total 9 columns):\n",
      "id           object\n",
      "date         datetime64[ns]\n",
      "text         object\n",
      "author       object\n",
      "favorite     int64\n",
      "url          object\n",
      "lang         object\n",
      "length       int64\n",
      "cleantext    object\n",
      "dtypes: datetime64[ns](1), int64(2), object(6)\n",
      "memory usage: 157.5+ MB\n"
     ]
    }
   ],
   "source": [
    "# load clean tweets\n",
    "df_clean = pd.DataFrame()\n",
    "for i in tqdm_notebook(range(29)):\n",
    "    \n",
    "    with open('tweet_clean{}.pkl'.format(i), 'rb') as filehandle:  \n",
    "    # read the data as binary data stream\n",
    "        df_slice = pickle.load(filehandle)\n",
    "        \n",
    "    df_clean = pd.concat([df_clean, df_slice], ignore_index=True)\n",
    "\n",
    "df_clean.info()"
   ]
  },
  {
   "cell_type": "code",
   "execution_count": 3,
   "metadata": {},
   "outputs": [
    {
     "data": {
      "text/plain": [
       "262"
      ]
     },
     "execution_count": 3,
     "metadata": {},
     "output_type": "execute_result"
    }
   ],
   "source": [
    "# List of Poets\n",
    "poets = list(set(df_clean['author'].tolist()))\n",
    "len(poets)"
   ]
  },
  {
   "cell_type": "code",
   "execution_count": 4,
   "metadata": {},
   "outputs": [
    {
     "data": {
      "application/vnd.jupyter.widget-view+json": {
       "model_id": "f22b90e07e904a04a2deaac04deb8dd6",
       "version_major": 2,
       "version_minor": 0
      },
      "text/plain": [
       "HBox(children=(IntProgress(value=1, bar_style='info', max=1), HTML(value='')))"
      ]
     },
     "metadata": {},
     "output_type": "display_data"
    },
    {
     "name": "stdout",
     "output_type": "stream",
     "text": [
      "\n"
     ]
    }
   ],
   "source": [
    "tknzr = TweetTokenizer()\n",
    "tok_list = []\n",
    "len_list = []\n",
    "\n",
    "for i,nrows in tqdm_notebook(df_clean.iterrows()):\n",
    "    word_list = tknzr.tokenize(nrows['cleantext'])\n",
    "    tok_list.append(word_list)\n",
    "    len_list.append(len(word_list))\n",
    "                    \n",
    "df_clean['tokens'] = tok_list\n",
    "df_clean['count'] = len_list"
   ]
  },
  {
   "cell_type": "code",
   "execution_count": 5,
   "metadata": {},
   "outputs": [
    {
     "data": {
      "text/html": [
       "<div>\n",
       "<style scoped>\n",
       "    .dataframe tbody tr th:only-of-type {\n",
       "        vertical-align: middle;\n",
       "    }\n",
       "\n",
       "    .dataframe tbody tr th {\n",
       "        vertical-align: top;\n",
       "    }\n",
       "\n",
       "    .dataframe thead th {\n",
       "        text-align: right;\n",
       "    }\n",
       "</style>\n",
       "<table border=\"1\" class=\"dataframe\">\n",
       "  <thead>\n",
       "    <tr style=\"text-align: right;\">\n",
       "      <th></th>\n",
       "      <th>id</th>\n",
       "      <th>date</th>\n",
       "      <th>text</th>\n",
       "      <th>author</th>\n",
       "      <th>favorite</th>\n",
       "      <th>url</th>\n",
       "      <th>lang</th>\n",
       "      <th>length</th>\n",
       "      <th>cleantext</th>\n",
       "      <th>tokens</th>\n",
       "      <th>count</th>\n",
       "    </tr>\n",
       "  </thead>\n",
       "  <tbody>\n",
       "    <tr>\n",
       "      <th>2142609</th>\n",
       "      <td>62935874526134273</td>\n",
       "      <td>2011-04-26 10:47:36</td>\n",
       "      <td>@ theplayethic By the way, if any of this is u...</td>\n",
       "      <td>leashless</td>\n",
       "      <td>1</td>\n",
       "      <td>https://twitter.com/leashless/status/629358745...</td>\n",
       "      <td>en</td>\n",
       "      <td>71</td>\n",
       "      <td>By the way, if any of this is useful, please d...</td>\n",
       "      <td>[By, the, way, ,, if, any, of, this, is, usefu...</td>\n",
       "      <td>17</td>\n",
       "    </tr>\n",
       "    <tr>\n",
       "      <th>2255195</th>\n",
       "      <td>628635047336280064</td>\n",
       "      <td>2015-08-04 11:34:09</td>\n",
       "      <td>Sony's plan for music industry: \"International...</td>\n",
       "      <td>wikileaks</td>\n",
       "      <td>59</td>\n",
       "      <td>https://twitter.com/wikileaks/status/628635047...</td>\n",
       "      <td>en</td>\n",
       "      <td>111</td>\n",
       "      <td>Sony's plan for music industry: \"International...</td>\n",
       "      <td>[Sony's, plan, for, music, industry, :, \", Int...</td>\n",
       "      <td>21</td>\n",
       "    </tr>\n",
       "    <tr>\n",
       "      <th>1002433</th>\n",
       "      <td>905827228214214656</td>\n",
       "      <td>2017-09-07 09:16:55</td>\n",
       "      <td>I guarantee it was a Carl Cargill headfake -- ...</td>\n",
       "      <td>BrendanEich</td>\n",
       "      <td>4</td>\n",
       "      <td>https://twitter.com/BrendanEich/status/9058272...</td>\n",
       "      <td>en</td>\n",
       "      <td>78</td>\n",
       "      <td>I guarantee it was a Carl Cargill headfake -- ...</td>\n",
       "      <td>[I, guarantee, it, was, a, Carl, Cargill, head...</td>\n",
       "      <td>17</td>\n",
       "    </tr>\n",
       "    <tr>\n",
       "      <th>107264</th>\n",
       "      <td>1059415208773513216</td>\n",
       "      <td>2018-11-05 04:00:43</td>\n",
       "      <td>Related: I accuse @ jihanwu @ AntPoolofficial ...</td>\n",
       "      <td>CarpeNoctom</td>\n",
       "      <td>2</td>\n",
       "      <td>https://twitter.com/CarpeNoctom/status/1059415...</td>\n",
       "      <td>en</td>\n",
       "      <td>48</td>\n",
       "      <td>Related: I accuse and of using covert ASICboost…</td>\n",
       "      <td>[Related, :, I, accuse, and, of, using, covert...</td>\n",
       "      <td>10</td>\n",
       "    </tr>\n",
       "    <tr>\n",
       "      <th>366458</th>\n",
       "      <td>875070429970530304</td>\n",
       "      <td>2017-06-14 12:20:23</td>\n",
       "      <td>HAHAHAHAHA. i am full of inspirational quotes ...</td>\n",
       "      <td>Melt_Dem</td>\n",
       "      <td>11</td>\n",
       "      <td>https://twitter.com/Melt_Dem/status/8750704299...</td>\n",
       "      <td>en</td>\n",
       "      <td>139</td>\n",
       "      <td>HAHAHAHAHA. i am full of inspirational quotes ...</td>\n",
       "      <td>[HAHAHAHAHA, ., i, am, full, of, inspirational...</td>\n",
       "      <td>33</td>\n",
       "    </tr>\n",
       "    <tr>\n",
       "      <th>1637202</th>\n",
       "      <td>586629479897833472</td>\n",
       "      <td>2015-04-10 13:39:01</td>\n",
       "      <td>California Senate Committee Votes to End Vacci...</td>\n",
       "      <td>zaoyang</td>\n",
       "      <td>0</td>\n",
       "      <td>https://twitter.com/zaoyang/status/58662947989...</td>\n",
       "      <td>en</td>\n",
       "      <td>74</td>\n",
       "      <td>California Senate Committee Votes to End Vacci...</td>\n",
       "      <td>[California, Senate, Committee, Votes, to, End...</td>\n",
       "      <td>10</td>\n",
       "    </tr>\n",
       "    <tr>\n",
       "      <th>1505405</th>\n",
       "      <td>572805008808398849</td>\n",
       "      <td>2015-03-03 09:05:30</td>\n",
       "      <td>How I did on Twitter this week: 192 New Follow...</td>\n",
       "      <td>BKBrianKelly</td>\n",
       "      <td>3</td>\n",
       "      <td>https://twitter.com/BKBrianKelly/status/572805...</td>\n",
       "      <td>en</td>\n",
       "      <td>108</td>\n",
       "      <td>How I did on Twitter this week: 192 New Follow...</td>\n",
       "      <td>[How, I, did, on, Twitter, this, week, :, 192,...</td>\n",
       "      <td>25</td>\n",
       "    </tr>\n",
       "    <tr>\n",
       "      <th>337397</th>\n",
       "      <td>476657531805114369</td>\n",
       "      <td>2014-06-11 02:29:46</td>\n",
       "      <td>'The People's Water Cannon' is now the 'staff ...</td>\n",
       "      <td>maxkeiser</td>\n",
       "      <td>4</td>\n",
       "      <td>https://twitter.com/maxkeiser/status/476657531...</td>\n",
       "      <td>en</td>\n",
       "      <td>104</td>\n",
       "      <td>'The People's Water Cannon' is now the 'staff ...</td>\n",
       "      <td>[', The, People's, Water, Cannon, ', is, now, ...</td>\n",
       "      <td>21</td>\n",
       "    </tr>\n",
       "    <tr>\n",
       "      <th>1762518</th>\n",
       "      <td>1132102524398387200</td>\n",
       "      <td>2019-05-24 18:54:09</td>\n",
       "      <td>Great article by @ ferdousbhai !</td>\n",
       "      <td>notsofast</td>\n",
       "      <td>7</td>\n",
       "      <td>https://twitter.com/notsofast/status/113210252...</td>\n",
       "      <td>en</td>\n",
       "      <td>18</td>\n",
       "      <td>Great article by !</td>\n",
       "      <td>[Great, article, by, !]</td>\n",
       "      <td>4</td>\n",
       "    </tr>\n",
       "    <tr>\n",
       "      <th>88403</th>\n",
       "      <td>806492820114735104</td>\n",
       "      <td>2016-12-07 05:37:26</td>\n",
       "      <td>they prob use that to eat cereal too</td>\n",
       "      <td>CarpeNoctom</td>\n",
       "      <td>0</td>\n",
       "      <td>https://twitter.com/CarpeNoctom/status/8064928...</td>\n",
       "      <td>en</td>\n",
       "      <td>36</td>\n",
       "      <td>they prob use that to eat cereal too</td>\n",
       "      <td>[they, prob, use, that, to, eat, cereal, too]</td>\n",
       "      <td>8</td>\n",
       "    </tr>\n",
       "  </tbody>\n",
       "</table>\n",
       "</div>"
      ],
      "text/plain": [
       "                          id                date  \\\n",
       "2142609    62935874526134273 2011-04-26 10:47:36   \n",
       "2255195   628635047336280064 2015-08-04 11:34:09   \n",
       "1002433   905827228214214656 2017-09-07 09:16:55   \n",
       "107264   1059415208773513216 2018-11-05 04:00:43   \n",
       "366458    875070429970530304 2017-06-14 12:20:23   \n",
       "1637202   586629479897833472 2015-04-10 13:39:01   \n",
       "1505405   572805008808398849 2015-03-03 09:05:30   \n",
       "337397    476657531805114369 2014-06-11 02:29:46   \n",
       "1762518  1132102524398387200 2019-05-24 18:54:09   \n",
       "88403     806492820114735104 2016-12-07 05:37:26   \n",
       "\n",
       "                                                      text        author  \\\n",
       "2142609  @ theplayethic By the way, if any of this is u...     leashless   \n",
       "2255195  Sony's plan for music industry: \"International...     wikileaks   \n",
       "1002433  I guarantee it was a Carl Cargill headfake -- ...   BrendanEich   \n",
       "107264   Related: I accuse @ jihanwu @ AntPoolofficial ...   CarpeNoctom   \n",
       "366458   HAHAHAHAHA. i am full of inspirational quotes ...      Melt_Dem   \n",
       "1637202  California Senate Committee Votes to End Vacci...       zaoyang   \n",
       "1505405  How I did on Twitter this week: 192 New Follow...  BKBrianKelly   \n",
       "337397   'The People's Water Cannon' is now the 'staff ...     maxkeiser   \n",
       "1762518                   Great article by @ ferdousbhai !     notsofast   \n",
       "88403                 they prob use that to eat cereal too   CarpeNoctom   \n",
       "\n",
       "         favorite                                                url lang  \\\n",
       "2142609         1  https://twitter.com/leashless/status/629358745...   en   \n",
       "2255195        59  https://twitter.com/wikileaks/status/628635047...   en   \n",
       "1002433         4  https://twitter.com/BrendanEich/status/9058272...   en   \n",
       "107264          2  https://twitter.com/CarpeNoctom/status/1059415...   en   \n",
       "366458         11  https://twitter.com/Melt_Dem/status/8750704299...   en   \n",
       "1637202         0  https://twitter.com/zaoyang/status/58662947989...   en   \n",
       "1505405         3  https://twitter.com/BKBrianKelly/status/572805...   en   \n",
       "337397          4  https://twitter.com/maxkeiser/status/476657531...   en   \n",
       "1762518         7  https://twitter.com/notsofast/status/113210252...   en   \n",
       "88403           0  https://twitter.com/CarpeNoctom/status/8064928...   en   \n",
       "\n",
       "         length                                          cleantext  \\\n",
       "2142609      71  By the way, if any of this is useful, please d...   \n",
       "2255195     111  Sony's plan for music industry: \"International...   \n",
       "1002433      78  I guarantee it was a Carl Cargill headfake -- ...   \n",
       "107264       48   Related: I accuse and of using covert ASICboost…   \n",
       "366458      139  HAHAHAHAHA. i am full of inspirational quotes ...   \n",
       "1637202      74  California Senate Committee Votes to End Vacci...   \n",
       "1505405     108  How I did on Twitter this week: 192 New Follow...   \n",
       "337397      104  'The People's Water Cannon' is now the 'staff ...   \n",
       "1762518      18                                 Great article by !   \n",
       "88403        36               they prob use that to eat cereal too   \n",
       "\n",
       "                                                    tokens  count  \n",
       "2142609  [By, the, way, ,, if, any, of, this, is, usefu...     17  \n",
       "2255195  [Sony's, plan, for, music, industry, :, \", Int...     21  \n",
       "1002433  [I, guarantee, it, was, a, Carl, Cargill, head...     17  \n",
       "107264   [Related, :, I, accuse, and, of, using, covert...     10  \n",
       "366458   [HAHAHAHAHA, ., i, am, full, of, inspirational...     33  \n",
       "1637202  [California, Senate, Committee, Votes, to, End...     10  \n",
       "1505405  [How, I, did, on, Twitter, this, week, :, 192,...     25  \n",
       "337397   [', The, People's, Water, Cannon, ', is, now, ...     21  \n",
       "1762518                            [Great, article, by, !]      4  \n",
       "88403        [they, prob, use, that, to, eat, cereal, too]      8  "
      ]
     },
     "execution_count": 5,
     "metadata": {},
     "output_type": "execute_result"
    }
   ],
   "source": [
    "df_clean.sample(10)"
   ]
  },
  {
   "cell_type": "code",
   "execution_count": 8,
   "metadata": {},
   "outputs": [
    {
     "data": {
      "application/vnd.jupyter.widget-view+json": {
       "model_id": "2e3d7674faa74fbf9a9558fc1eda6ff0",
       "version_major": 2,
       "version_minor": 0
      },
      "text/plain": [
       "HBox(children=(IntProgress(value=0, max=262), HTML(value='')))"
      ]
     },
     "metadata": {},
     "output_type": "display_data"
    },
    {
     "name": "stdout",
     "output_type": "stream",
     "text": [
      "\n"
     ]
    }
   ],
   "source": [
    "# build a poet table for screening\n",
    "p_counters = []\n",
    "starts = []\n",
    "stops = []\n",
    "num_tweets = []\n",
    "wrd_counts = []\n",
    "vocabs = []\n",
    "\n",
    "for poet in tqdm_notebook(poets):\n",
    "    \n",
    "    df_slice = df_clean[df_clean['author'] == poet]\n",
    "    \n",
    "    dates = df_slice['date'].tolist()\n",
    "    starts.append(min(dates))\n",
    "    stops.append(max(dates))\n",
    "    num_tweets.append(len(df_slice))\n",
    "    \n",
    "    wtc = Counter()\n",
    "    for _,nrows in df_slice.iterrows():\n",
    "        for token in nrows['tokens']:\n",
    "            wtc[token] += 1  \n",
    "            \n",
    "    p_counters.append(wtc) \n",
    "    wrd_counts.append(sum(wtc.values()))\n",
    "    vocabs.append(len(wtc))\n",
    "    \n",
    "df_poets = pd.DataFrame()\n",
    "df_poets['author'] = poets\n",
    "df_poets['start'] = starts\n",
    "df_poets['stop'] = stops\n",
    "df_poets['num_tweets'] = num_tweets\n",
    "df_poets['total_words'] = wrd_counts\n",
    "df_poets['vocab_size'] = vocabs"
   ]
  },
  {
   "cell_type": "code",
   "execution_count": 9,
   "metadata": {},
   "outputs": [
    {
     "data": {
      "text/html": [
       "<div>\n",
       "<style scoped>\n",
       "    .dataframe tbody tr th:only-of-type {\n",
       "        vertical-align: middle;\n",
       "    }\n",
       "\n",
       "    .dataframe tbody tr th {\n",
       "        vertical-align: top;\n",
       "    }\n",
       "\n",
       "    .dataframe thead th {\n",
       "        text-align: right;\n",
       "    }\n",
       "</style>\n",
       "<table border=\"1\" class=\"dataframe\">\n",
       "  <thead>\n",
       "    <tr style=\"text-align: right;\">\n",
       "      <th></th>\n",
       "      <th>author</th>\n",
       "      <th>start</th>\n",
       "      <th>stop</th>\n",
       "      <th>num_tweets</th>\n",
       "      <th>total_words</th>\n",
       "      <th>vocab_size</th>\n",
       "    </tr>\n",
       "  </thead>\n",
       "  <tbody>\n",
       "    <tr>\n",
       "      <th>182</th>\n",
       "      <td>oleganza</td>\n",
       "      <td>2009-07-01 14:51:44</td>\n",
       "      <td>2019-05-26 23:52:14</td>\n",
       "      <td>11996</td>\n",
       "      <td>217289</td>\n",
       "      <td>18657</td>\n",
       "    </tr>\n",
       "    <tr>\n",
       "      <th>61</th>\n",
       "      <td>starkness</td>\n",
       "      <td>2009-01-05 11:32:41</td>\n",
       "      <td>2019-05-25 13:41:36</td>\n",
       "      <td>8680</td>\n",
       "      <td>130477</td>\n",
       "      <td>11534</td>\n",
       "    </tr>\n",
       "    <tr>\n",
       "      <th>255</th>\n",
       "      <td>BITMAINtech</td>\n",
       "      <td>2013-11-16 02:46:50</td>\n",
       "      <td>2019-05-18 03:07:21</td>\n",
       "      <td>783</td>\n",
       "      <td>15585</td>\n",
       "      <td>2581</td>\n",
       "    </tr>\n",
       "    <tr>\n",
       "      <th>69</th>\n",
       "      <td>KyleSamani</td>\n",
       "      <td>2009-06-10 23:45:36</td>\n",
       "      <td>2019-06-04 14:41:06</td>\n",
       "      <td>8391</td>\n",
       "      <td>148051</td>\n",
       "      <td>14831</td>\n",
       "    </tr>\n",
       "    <tr>\n",
       "      <th>172</th>\n",
       "      <td>ryaneshea</td>\n",
       "      <td>2010-06-25 11:30:40</td>\n",
       "      <td>2019-06-03 11:25:22</td>\n",
       "      <td>4845</td>\n",
       "      <td>91163</td>\n",
       "      <td>10808</td>\n",
       "    </tr>\n",
       "    <tr>\n",
       "      <th>70</th>\n",
       "      <td>santisiri</td>\n",
       "      <td>2009-01-03 22:54:18</td>\n",
       "      <td>2019-05-27 11:04:03</td>\n",
       "      <td>19079</td>\n",
       "      <td>295110</td>\n",
       "      <td>21451</td>\n",
       "    </tr>\n",
       "    <tr>\n",
       "      <th>77</th>\n",
       "      <td>MatthewRoszak</td>\n",
       "      <td>2011-07-26 20:25:01</td>\n",
       "      <td>2019-05-14 21:49:08</td>\n",
       "      <td>122</td>\n",
       "      <td>1745</td>\n",
       "      <td>798</td>\n",
       "    </tr>\n",
       "    <tr>\n",
       "      <th>59</th>\n",
       "      <td>xapo</td>\n",
       "      <td>2013-11-14 08:50:29</td>\n",
       "      <td>2019-06-05 02:06:16</td>\n",
       "      <td>23189</td>\n",
       "      <td>329172</td>\n",
       "      <td>2010</td>\n",
       "    </tr>\n",
       "    <tr>\n",
       "      <th>13</th>\n",
       "      <td>BTCVIX</td>\n",
       "      <td>2011-08-02 10:05:15</td>\n",
       "      <td>2019-05-30 09:29:17</td>\n",
       "      <td>12665</td>\n",
       "      <td>238460</td>\n",
       "      <td>16089</td>\n",
       "    </tr>\n",
       "    <tr>\n",
       "      <th>25</th>\n",
       "      <td>Poloniex</td>\n",
       "      <td>2014-01-18 19:44:16</td>\n",
       "      <td>2019-06-05 08:29:02</td>\n",
       "      <td>2660</td>\n",
       "      <td>70081</td>\n",
       "      <td>3934</td>\n",
       "    </tr>\n",
       "  </tbody>\n",
       "</table>\n",
       "</div>"
      ],
      "text/plain": [
       "            author               start                stop  num_tweets  \\\n",
       "182       oleganza 2009-07-01 14:51:44 2019-05-26 23:52:14       11996   \n",
       "61       starkness 2009-01-05 11:32:41 2019-05-25 13:41:36        8680   \n",
       "255    BITMAINtech 2013-11-16 02:46:50 2019-05-18 03:07:21         783   \n",
       "69      KyleSamani 2009-06-10 23:45:36 2019-06-04 14:41:06        8391   \n",
       "172      ryaneshea 2010-06-25 11:30:40 2019-06-03 11:25:22        4845   \n",
       "70       santisiri 2009-01-03 22:54:18 2019-05-27 11:04:03       19079   \n",
       "77   MatthewRoszak 2011-07-26 20:25:01 2019-05-14 21:49:08         122   \n",
       "59            xapo 2013-11-14 08:50:29 2019-06-05 02:06:16       23189   \n",
       "13          BTCVIX 2011-08-02 10:05:15 2019-05-30 09:29:17       12665   \n",
       "25        Poloniex 2014-01-18 19:44:16 2019-06-05 08:29:02        2660   \n",
       "\n",
       "     total_words  vocab_size  \n",
       "182       217289       18657  \n",
       "61        130477       11534  \n",
       "255        15585        2581  \n",
       "69        148051       14831  \n",
       "172        91163       10808  \n",
       "70        295110       21451  \n",
       "77          1745         798  \n",
       "59        329172        2010  \n",
       "13        238460       16089  \n",
       "25         70081        3934  "
      ]
     },
     "execution_count": 9,
     "metadata": {},
     "output_type": "execute_result"
    }
   ],
   "source": [
    "df_poets.sample(10)"
   ]
  },
  {
   "cell_type": "code",
   "execution_count": 47,
   "metadata": {},
   "outputs": [],
   "source": [
    "# save for study\n",
    "df_poets.to_csv('poet_table_061219.csv', index=False)"
   ]
  },
  {
   "cell_type": "code",
   "execution_count": 17,
   "metadata": {},
   "outputs": [],
   "source": [
    "def kurtosis_skewness(data):\n",
    "    print( '      kurtosis=',\"%.1f\" % kurtosis(data), '   skewness=',\"%.1f\" % skew(data), '     sum=',np.sum(data))\n",
    "    print()"
   ]
  },
  {
   "cell_type": "code",
   "execution_count": 27,
   "metadata": {},
   "outputs": [
    {
     "data": {
      "image/png": "[encoded data removed]",
      "text/plain": [
       "<matplotlib.figure.Figure at 0x19960f221d0>"
      ]
     },
     "metadata": {},
     "output_type": "display_data"
    },
    {
     "name": "stdout",
     "output_type": "stream",
     "text": [
      "mined dataset\n",
      "      kurtosis= 13.8    skewness= 2.8      sum= 3344991\n",
      "\n"
     ]
    }
   ],
   "source": [
    "# initialize list\n",
    "data1 = df_poets['vocab_size'].tolist()\n",
    "\n",
    "# set up a beautiful plot        \n",
    "plt.hist(data1,30,(0,50000), color = (.1,.1,.95,.3), label = '2019 study')\n",
    "plt.legend(loc='upper right')\n",
    "plt.title('Twitter Poet Vocabularies')\n",
    "plt.xlabel('# Words')\n",
    "plt.ylabel('Number of Poets')\n",
    "plt.show()\n",
    "        \n",
    "# after histogram, print out the distribution descriptors\n",
    "print('mined dataset')\n",
    "kurtosis_skewness(data1)"
   ]
  },
  {
   "cell_type": "code",
   "execution_count": 20,
   "metadata": {},
   "outputs": [
    {
     "data": {
      "text/html": [
       "<div>\n",
       "<style scoped>\n",
       "    .dataframe tbody tr th:only-of-type {\n",
       "        vertical-align: middle;\n",
       "    }\n",
       "\n",
       "    .dataframe tbody tr th {\n",
       "        vertical-align: top;\n",
       "    }\n",
       "\n",
       "    .dataframe thead th {\n",
       "        text-align: right;\n",
       "    }\n",
       "</style>\n",
       "<table border=\"1\" class=\"dataframe\">\n",
       "  <thead>\n",
       "    <tr style=\"text-align: right;\">\n",
       "      <th></th>\n",
       "      <th>favorite</th>\n",
       "      <th>length</th>\n",
       "      <th>count</th>\n",
       "    </tr>\n",
       "  </thead>\n",
       "  <tbody>\n",
       "    <tr>\n",
       "      <th>count</th>\n",
       "      <td>2.293881e+06</td>\n",
       "      <td>2.293881e+06</td>\n",
       "      <td>2.293881e+06</td>\n",
       "    </tr>\n",
       "    <tr>\n",
       "      <th>mean</th>\n",
       "      <td>3.591162e+02</td>\n",
       "      <td>8.999038e+01</td>\n",
       "      <td>1.814827e+01</td>\n",
       "    </tr>\n",
       "    <tr>\n",
       "      <th>std</th>\n",
       "      <td>5.691165e+03</td>\n",
       "      <td>5.817453e+01</td>\n",
       "      <td>1.181011e+01</td>\n",
       "    </tr>\n",
       "    <tr>\n",
       "      <th>min</th>\n",
       "      <td>0.000000e+00</td>\n",
       "      <td>0.000000e+00</td>\n",
       "      <td>0.000000e+00</td>\n",
       "    </tr>\n",
       "    <tr>\n",
       "      <th>25%</th>\n",
       "      <td>0.000000e+00</td>\n",
       "      <td>4.800000e+01</td>\n",
       "      <td>1.000000e+01</td>\n",
       "    </tr>\n",
       "    <tr>\n",
       "      <th>50%</th>\n",
       "      <td>2.000000e+00</td>\n",
       "      <td>8.100000e+01</td>\n",
       "      <td>1.600000e+01</td>\n",
       "    </tr>\n",
       "    <tr>\n",
       "      <th>75%</th>\n",
       "      <td>9.000000e+00</td>\n",
       "      <td>1.170000e+02</td>\n",
       "      <td>2.400000e+01</td>\n",
       "    </tr>\n",
       "    <tr>\n",
       "      <th>max</th>\n",
       "      <td>1.197117e+06</td>\n",
       "      <td>1.554000e+03</td>\n",
       "      <td>4.140000e+02</td>\n",
       "    </tr>\n",
       "  </tbody>\n",
       "</table>\n",
       "</div>"
      ],
      "text/plain": [
       "           favorite        length         count\n",
       "count  2.293881e+06  2.293881e+06  2.293881e+06\n",
       "mean   3.591162e+02  8.999038e+01  1.814827e+01\n",
       "std    5.691165e+03  5.817453e+01  1.181011e+01\n",
       "min    0.000000e+00  0.000000e+00  0.000000e+00\n",
       "25%    0.000000e+00  4.800000e+01  1.000000e+01\n",
       "50%    2.000000e+00  8.100000e+01  1.600000e+01\n",
       "75%    9.000000e+00  1.170000e+02  2.400000e+01\n",
       "max    1.197117e+06  1.554000e+03  4.140000e+02"
      ]
     },
     "execution_count": 20,
     "metadata": {},
     "output_type": "execute_result"
    }
   ],
   "source": [
    "# Show Statistics of tweets\n",
    "df_clean.describe()"
   ]
  },
  {
   "cell_type": "code",
   "execution_count": 21,
   "metadata": {},
   "outputs": [
    {
     "data": {
      "text/html": [
       "<div>\n",
       "<style scoped>\n",
       "    .dataframe tbody tr th:only-of-type {\n",
       "        vertical-align: middle;\n",
       "    }\n",
       "\n",
       "    .dataframe tbody tr th {\n",
       "        vertical-align: top;\n",
       "    }\n",
       "\n",
       "    .dataframe thead th {\n",
       "        text-align: right;\n",
       "    }\n",
       "</style>\n",
       "<table border=\"1\" class=\"dataframe\">\n",
       "  <thead>\n",
       "    <tr style=\"text-align: right;\">\n",
       "      <th></th>\n",
       "      <th>num_tweets</th>\n",
       "      <th>total_words</th>\n",
       "      <th>vocab_size</th>\n",
       "    </tr>\n",
       "  </thead>\n",
       "  <tbody>\n",
       "    <tr>\n",
       "      <th>count</th>\n",
       "      <td>262.000000</td>\n",
       "      <td>2.620000e+02</td>\n",
       "      <td>262.000000</td>\n",
       "    </tr>\n",
       "    <tr>\n",
       "      <th>mean</th>\n",
       "      <td>8755.270992</td>\n",
       "      <td>1.588930e+05</td>\n",
       "      <td>12767.141221</td>\n",
       "    </tr>\n",
       "    <tr>\n",
       "      <th>std</th>\n",
       "      <td>14673.939902</td>\n",
       "      <td>2.429460e+05</td>\n",
       "      <td>11105.632250</td>\n",
       "    </tr>\n",
       "    <tr>\n",
       "      <th>min</th>\n",
       "      <td>18.000000</td>\n",
       "      <td>3.920000e+02</td>\n",
       "      <td>235.000000</td>\n",
       "    </tr>\n",
       "    <tr>\n",
       "      <th>25%</th>\n",
       "      <td>1726.250000</td>\n",
       "      <td>3.524425e+04</td>\n",
       "      <td>5384.000000</td>\n",
       "    </tr>\n",
       "    <tr>\n",
       "      <th>50%</th>\n",
       "      <td>4623.000000</td>\n",
       "      <td>9.044000e+04</td>\n",
       "      <td>10092.500000</td>\n",
       "    </tr>\n",
       "    <tr>\n",
       "      <th>75%</th>\n",
       "      <td>10677.250000</td>\n",
       "      <td>1.815368e+05</td>\n",
       "      <td>16715.250000</td>\n",
       "    </tr>\n",
       "    <tr>\n",
       "      <th>max</th>\n",
       "      <td>174184.000000</td>\n",
       "      <td>2.447514e+06</td>\n",
       "      <td>96069.000000</td>\n",
       "    </tr>\n",
       "  </tbody>\n",
       "</table>\n",
       "</div>"
      ],
      "text/plain": [
       "          num_tweets   total_words    vocab_size\n",
       "count     262.000000  2.620000e+02    262.000000\n",
       "mean     8755.270992  1.588930e+05  12767.141221\n",
       "std     14673.939902  2.429460e+05  11105.632250\n",
       "min        18.000000  3.920000e+02    235.000000\n",
       "25%      1726.250000  3.524425e+04   5384.000000\n",
       "50%      4623.000000  9.044000e+04  10092.500000\n",
       "75%     10677.250000  1.815368e+05  16715.250000\n",
       "max    174184.000000  2.447514e+06  96069.000000"
      ]
     },
     "execution_count": 21,
     "metadata": {},
     "output_type": "execute_result"
    }
   ],
   "source": [
    "# Show Statistics of poets\n",
    "df_poets.describe()"
   ]
  },
  {
   "cell_type": "code",
   "execution_count": 28,
   "metadata": {},
   "outputs": [
    {
     "data": {
      "image/png": "[encoded data removed]",
      "text/plain": [
       "<matplotlib.figure.Figure at 0x1995fd6d5c0>"
      ]
     },
     "metadata": {},
     "output_type": "display_data"
    },
    {
     "name": "stdout",
     "output_type": "stream",
     "text": [
      "mined dataset\n",
      "      kurtosis= 13.8    skewness= 2.8      sum= 3344991\n",
      "\n"
     ]
    }
   ],
   "source": [
    "# initialize list\n",
    "data2 = df_poets['num_tweets'].tolist()\n",
    "\n",
    "# set up a beautiful plot        \n",
    "plt.hist(data2,30,(0,30000), color = (.1,.1,.95,.3), label = '2019 study')\n",
    "plt.legend(loc='upper right')\n",
    "plt.title('Poet Tweet Count')\n",
    "plt.xlabel('# Tweets')\n",
    "plt.ylabel('Number of Poets')\n",
    "plt.show()\n",
    "        \n",
    "# after histogram, print out the distribution descriptors\n",
    "print('mined dataset')\n",
    "kurtosis_skewness(data1)"
   ]
  },
  {
   "cell_type": "code",
   "execution_count": 23,
   "metadata": {},
   "outputs": [
    {
     "data": {
      "text/plain": [
       "181    TheStalwart\n",
       "Name: author, dtype: object"
      ]
     },
     "execution_count": 23,
     "metadata": {},
     "output_type": "execute_result"
    }
   ],
   "source": [
    "# who tweets the most?\n",
    "df_poets[df_poets['num_tweets']==174184]['author']"
   ]
  },
  {
   "cell_type": "code",
   "execution_count": 24,
   "metadata": {},
   "outputs": [
    {
     "data": {
      "text/plain": [
       "9    jeremyrwelch\n",
       "Name: author, dtype: object"
      ]
     },
     "execution_count": 24,
     "metadata": {},
     "output_type": "execute_result"
    }
   ],
   "source": [
    "# who tweets the least in English?\n",
    "df_poets[df_poets['num_tweets']==18]['author']"
   ]
  },
  {
   "cell_type": "code",
   "execution_count": 30,
   "metadata": {},
   "outputs": [
    {
     "data": {
      "image/png": "[encoded data removed]",
      "text/plain": [
       "<matplotlib.figure.Figure at 0x199622b2e80>"
      ]
     },
     "metadata": {},
     "output_type": "display_data"
    },
    {
     "name": "stdout",
     "output_type": "stream",
     "text": [
      "mined dataset\n",
      "      kurtosis= 13.8    skewness= 2.8      sum= 3344991\n",
      "\n"
     ]
    }
   ],
   "source": [
    "# initialize list\n",
    "data3 = df_poets['total_words'].tolist()\n",
    "\n",
    "# set up a beautiful plot        \n",
    "plt.hist(data3,30,(0,1e6), color = (.1,.1,.95,.3), label = '2019 study')\n",
    "plt.legend(loc='upper right')\n",
    "plt.title('Poet Total Words Shared')\n",
    "plt.xlabel('# Words')\n",
    "plt.ylabel('Number of Poets')\n",
    "plt.show()\n",
    "        \n",
    "# after histogram, print out the distribution descriptors\n",
    "print('mined dataset')\n",
    "kurtosis_skewness(data1)"
   ]
  },
  {
   "cell_type": "code",
   "execution_count": 35,
   "metadata": {},
   "outputs": [
    {
     "name": "stdout",
     "output_type": "stream",
     "text": [
      "<class 'pandas.core.frame.DataFrame'>\n",
      "Int64Index: 143 entries, 0 to 261\n",
      "Data columns (total 6 columns):\n",
      "author         143 non-null object\n",
      "start          143 non-null datetime64[ns]\n",
      "stop           143 non-null datetime64[ns]\n",
      "num_tweets     143 non-null int64\n",
      "total_words    143 non-null int64\n",
      "vocab_size     143 non-null int64\n",
      "dtypes: datetime64[ns](2), int64(3), object(1)\n",
      "memory usage: 7.8+ KB\n"
     ]
    }
   ],
   "source": [
    "# Screen Poets\n",
    "# vocab < 30,000\n",
    "# tweets > 3,000\n",
    "# words < 1M\n",
    "\n",
    "df_screen = df_poets[(df_poets['vocab_size']<=30000) & (df_poets['num_tweets']>=3000) & (df_poets['total_words']<=1e6)]\n",
    "df_screen.info()"
   ]
  },
  {
   "cell_type": "code",
   "execution_count": 40,
   "metadata": {},
   "outputs": [
    {
     "name": "stdout",
     "output_type": "stream",
     "text": [
      "['APompliano', 'AaronvanW', 'AdamDraper', 'AlenaSatoshi', 'AlyseKilleen', 'AmberBaldet', 'AriDavidPaul', 'AriannaSimpson', 'BKBrianKelly', 'BTCFoundation', 'BTCVIX', 'BitCoinSusan', 'BitPay', 'Bitcoin', 'BitcoinMagazine', 'BitfuryGeorge', 'BittrexExchange', 'CharlieShrem', 'ChristopherA', 'CoinMarketCap', 'CollinCrypto', 'CryptOrca', 'CryptoBull', 'CryptoCobain', 'CryptoCred', 'CryptoHustle', 'DelRayMan', 'Disruptepreneur', 'ErikVoorhees', 'Excellion', 'Gemini', 'IOHK_Charles', 'JeremyRubin', 'Joi', 'KyleSamani', 'LukeDashjr', 'Melt_Dem', 'MustStopMurad', 'NeerajKA', 'NickSzabo4', 'PeterLBrandt', 'PeterMcCormack', 'SatoshiLite', 'ShapeShift_io', 'SunnyRayShow', 'TheBlock__', 'TheBlueMatt', 'ToneVays ', 'Trezor', 'VentureCoinist', 'VinnyLingham', 'VitalikButerin', 'VladZamfir', 'WayneVaughan', 'WhalePanda', '_jillruth', 'aantonop', 'adam3us ', 'adamludwin', 'alansilbert', 'albertwenger', 'alexbosworth', 'alistairmilne', 'arjunblj', 'arrington', 'austinhill', 'barrysilbert ', 'billbarhydt', 'bitstein', 'blockchain', 'bramcohen', 'brianchoffman', 'brockpierce', 'brucefenton', 'cburniske', 'cdixon ', 'coin_artist', 'coincenter', 'cointradernik ', 'conniegallippi', 'crypto_bobby', 'crypto_rand', 'cryptograffiti', 'cryptomanran', 'danheld', 'dickerson_des', 'dwr', 'eiaine', 'el33th4xor', 'elonmusk', 'ercwl', 'eric_lombrozo', 'eth_classic', 'fintechfrank', 'fluffypony', 'francispouliot_', 'fredwilson ', 'gaborgurbacs', 'garrytan', 'jack', 'jbrukh', 'jerrybrito', 'jgarzik', 'jimmysong', 'jonmatonis', 'kyletorpey', 'laurashin', 'lopp', 'maraoz', 'matt_odell', 'mdudas', 'michaelterpin', 'mikejcasey', 'mir_btc', 'muneeb', 'myetherwallet', 'naomibrockwell', 'naval', 'neha', 'nic__carter', 'nlw', 'nvk', 'officialmcafee', 'oleganza', 'openbazaar', 'parabolictrav', 'patrickc', 'paulg', 'peterktodd', 'pierre_rochard', 'real_vijay', 'robustus', 'ryaneshea', 'santisiri', 'socrates1024', 'starkness', 'tayvano_', 'twobitidiot', 'udiWertheimer', 'valkenburgh', 'wheatpond', 'xapo', 'zaoyang']\n"
     ]
    }
   ],
   "source": [
    "selected = sorted(df_screen['author'].tolist())\n",
    "print(selected)"
   ]
  },
  {
   "cell_type": "code",
   "execution_count": 37,
   "metadata": {},
   "outputs": [
    {
     "data": {
      "text/html": [
       "<div>\n",
       "<style scoped>\n",
       "    .dataframe tbody tr th:only-of-type {\n",
       "        vertical-align: middle;\n",
       "    }\n",
       "\n",
       "    .dataframe tbody tr th {\n",
       "        vertical-align: top;\n",
       "    }\n",
       "\n",
       "    .dataframe thead th {\n",
       "        text-align: right;\n",
       "    }\n",
       "</style>\n",
       "<table border=\"1\" class=\"dataframe\">\n",
       "  <thead>\n",
       "    <tr style=\"text-align: right;\">\n",
       "      <th></th>\n",
       "      <th>num_tweets</th>\n",
       "      <th>total_words</th>\n",
       "      <th>vocab_size</th>\n",
       "    </tr>\n",
       "  </thead>\n",
       "  <tbody>\n",
       "    <tr>\n",
       "      <th>count</th>\n",
       "      <td>143.000000</td>\n",
       "      <td>143.000000</td>\n",
       "      <td>143.000000</td>\n",
       "    </tr>\n",
       "    <tr>\n",
       "      <th>mean</th>\n",
       "      <td>9604.524476</td>\n",
       "      <td>178538.286713</td>\n",
       "      <td>14954.727273</td>\n",
       "    </tr>\n",
       "    <tr>\n",
       "      <th>std</th>\n",
       "      <td>5535.568397</td>\n",
       "      <td>117498.148189</td>\n",
       "      <td>5592.487233</td>\n",
       "    </tr>\n",
       "    <tr>\n",
       "      <th>min</th>\n",
       "      <td>3032.000000</td>\n",
       "      <td>35983.000000</td>\n",
       "      <td>2010.000000</td>\n",
       "    </tr>\n",
       "    <tr>\n",
       "      <th>25%</th>\n",
       "      <td>5172.000000</td>\n",
       "      <td>101147.000000</td>\n",
       "      <td>10925.000000</td>\n",
       "    </tr>\n",
       "    <tr>\n",
       "      <th>50%</th>\n",
       "      <td>8448.000000</td>\n",
       "      <td>136780.000000</td>\n",
       "      <td>14531.000000</td>\n",
       "    </tr>\n",
       "    <tr>\n",
       "      <th>75%</th>\n",
       "      <td>12217.500000</td>\n",
       "      <td>224813.500000</td>\n",
       "      <td>18294.000000</td>\n",
       "    </tr>\n",
       "    <tr>\n",
       "      <th>max</th>\n",
       "      <td>25337.000000</td>\n",
       "      <td>678595.000000</td>\n",
       "      <td>29240.000000</td>\n",
       "    </tr>\n",
       "  </tbody>\n",
       "</table>\n",
       "</div>"
      ],
      "text/plain": [
       "         num_tweets    total_words    vocab_size\n",
       "count    143.000000     143.000000    143.000000\n",
       "mean    9604.524476  178538.286713  14954.727273\n",
       "std     5535.568397  117498.148189   5592.487233\n",
       "min     3032.000000   35983.000000   2010.000000\n",
       "25%     5172.000000  101147.000000  10925.000000\n",
       "50%     8448.000000  136780.000000  14531.000000\n",
       "75%    12217.500000  224813.500000  18294.000000\n",
       "max    25337.000000  678595.000000  29240.000000"
      ]
     },
     "execution_count": 37,
     "metadata": {},
     "output_type": "execute_result"
    }
   ],
   "source": [
    "# Show Statistics of poets\n",
    "df_screen.describe()"
   ]
  },
  {
   "cell_type": "code",
   "execution_count": 42,
   "metadata": {},
   "outputs": [],
   "source": [
    "# save for maintenance mining later\n",
    "with open('screened_seeds_06119.pkl', 'wb') as filehandle:  \n",
    "    # store the data as binary data stream\n",
    "    pickle.dump(selected, filehandle)"
   ]
  },
  {
   "cell_type": "code",
   "execution_count": 43,
   "metadata": {},
   "outputs": [
    {
     "data": {
      "application/vnd.jupyter.widget-view+json": {
       "model_id": "d3891e0439e8439eae287af00d618094",
       "version_major": 2,
       "version_minor": 0
      },
      "text/plain": [
       "HBox(children=(IntProgress(value=0, max=143), HTML(value='')))"
      ]
     },
     "metadata": {},
     "output_type": "display_data"
    },
    {
     "name": "stdout",
     "output_type": "stream",
     "text": [
      "\n",
      "<class 'pandas.core.frame.DataFrame'>\n",
      "RangeIndex: 1373447 entries, 0 to 1373446\n",
      "Data columns (total 11 columns):\n",
      "id           1373447 non-null object\n",
      "date         1373447 non-null datetime64[ns]\n",
      "text         1373447 non-null object\n",
      "author       1373447 non-null object\n",
      "favorite     1373447 non-null int64\n",
      "url          1373447 non-null object\n",
      "lang         1373447 non-null object\n",
      "length       1373447 non-null int64\n",
      "cleantext    1373447 non-null object\n",
      "tokens       1373447 non-null object\n",
      "count        1373447 non-null int64\n",
      "dtypes: datetime64[ns](1), int64(3), object(7)\n",
      "memory usage: 115.3+ MB\n"
     ]
    }
   ],
   "source": [
    "# build screened dataframe\n",
    "\n",
    "df_cleanscreen = pd.DataFrame()\n",
    "\n",
    "for poet in tqdm_notebook(selected):\n",
    "    \n",
    "    df_slice = df_clean[df_clean['author'] == poet]\n",
    "    df_cleanscreen = pd.concat([df_cleanscreen, df_slice], ignore_index=True)\n",
    "\n",
    "df_cleanscreen.info()"
   ]
  },
  {
   "cell_type": "code",
   "execution_count": 44,
   "metadata": {},
   "outputs": [
    {
     "data": {
      "text/plain": [
       "<function matplotlib.pyplot.show(*args, **kw)>"
      ]
     },
     "execution_count": 44,
     "metadata": {},
     "output_type": "execute_result"
    },
    {
     "data": {
      "image/png": "[encoded data removed]",
      "text/plain": [
       "<matplotlib.figure.Figure at 0x1990d92ee80>"
      ]
     },
     "metadata": {},
     "output_type": "display_data"
    }
   ],
   "source": [
    "# plot cleaned and screened tweets per day over 10 years\n",
    "df_copytime = df_cleanscreen.copy()\n",
    "df_copytime.set_index('date', inplace=True)\n",
    "df = df_copytime.groupby(df_copytime.index.date).count()\n",
    "plt.plot(df.index, df['id'])\n",
    "plt.show"
   ]
  },
  {
   "cell_type": "code",
   "execution_count": 45,
   "metadata": {},
   "outputs": [
    {
     "data": {
      "application/vnd.jupyter.widget-view+json": {
       "model_id": "0241162c0e144d299db18b926f9c0076",
       "version_major": 2,
       "version_minor": 0
      },
      "text/plain": [
       "HBox(children=(IntProgress(value=0, max=17), HTML(value='')))"
      ]
     },
     "metadata": {},
     "output_type": "display_data"
    },
    {
     "name": "stdout",
     "output_type": "stream",
     "text": [
      "\n"
     ]
    }
   ],
   "source": [
    "# split giant dataframe into 17 pieces having 80791 rows each\n",
    "df_cs = df_cleanscreen.copy()\n",
    "df_split = np.array_split(df_cs, 17, axis=0)\n",
    "\n",
    "# clean the dataframes, filter out the non-English entries\n",
    "for i in tqdm_notebook(range(17)):\n",
    "    \n",
    "    # output to pickle\n",
    "    with open('tweet_screen{}.pkl'.format(i), 'wb') as filehandle:  \n",
    "        # store the data\n",
    "        pickle.dump(df_split[i], filehandle)"
   ]
  },
  {
   "cell_type": "code",
   "execution_count": 46,
   "metadata": {},
   "outputs": [
    {
     "data": {
      "text/html": [
       "<div>\n",
       "<style scoped>\n",
       "    .dataframe tbody tr th:only-of-type {\n",
       "        vertical-align: middle;\n",
       "    }\n",
       "\n",
       "    .dataframe tbody tr th {\n",
       "        vertical-align: top;\n",
       "    }\n",
       "\n",
       "    .dataframe thead th {\n",
       "        text-align: right;\n",
       "    }\n",
       "</style>\n",
       "<table border=\"1\" class=\"dataframe\">\n",
       "  <thead>\n",
       "    <tr style=\"text-align: right;\">\n",
       "      <th></th>\n",
       "      <th>author</th>\n",
       "      <th>start</th>\n",
       "      <th>stop</th>\n",
       "      <th>num_tweets</th>\n",
       "      <th>total_words</th>\n",
       "      <th>vocab_size</th>\n",
       "    </tr>\n",
       "  </thead>\n",
       "  <tbody>\n",
       "    <tr>\n",
       "      <th>250</th>\n",
       "      <td>realDonaldTrump</td>\n",
       "      <td>2009-05-04 11:54:25</td>\n",
       "      <td>2019-06-05 05:18:50</td>\n",
       "      <td>36711</td>\n",
       "      <td>799685</td>\n",
       "      <td>34583</td>\n",
       "    </tr>\n",
       "  </tbody>\n",
       "</table>\n",
       "</div>"
      ],
      "text/plain": [
       "              author               start                stop  num_tweets  \\\n",
       "250  realDonaldTrump 2009-05-04 11:54:25 2019-06-05 05:18:50       36711   \n",
       "\n",
       "     total_words  vocab_size  \n",
       "250       799685       34583  "
      ]
     },
     "execution_count": 46,
     "metadata": {},
     "output_type": "execute_result"
    }
   ],
   "source": [
    "# just wondering\n",
    "df_poets[df_poets['author']=='realDonaldTrump']"
   ]
  },
  {
   "cell_type": "markdown",
   "metadata": {},
   "source": [
    "note large vocabulary could indicate large number of misspellings and typos."
   ]
  },
  {
   "cell_type": "code",
   "execution_count": null,
   "metadata": {},
   "outputs": [],
   "source": []
  }
 ],
 "metadata": {
  "kernelspec": {
   "display_name": "Python 3",
   "language": "python",
   "name": "python3"
  },
  "language_info": {
   "codemirror_mode": {
    "name": "ipython",
    "version": 3
   },
   "file_extension": ".py",
   "mimetype": "text/x-python",
   "name": "python",
   "nbconvert_exporter": "python",
   "pygments_lexer": "ipython3",
   "version": "3.5.4"
  }
 },
 "nbformat": 4,
 "nbformat_minor": 2
}
