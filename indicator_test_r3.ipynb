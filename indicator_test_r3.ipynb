{
 "cells": [
  {
   "cell_type": "markdown",
   "metadata": {},
   "source": [
    "### TSI indicator to BTC market Trading Worksheet"
   ]
  },
  {
   "cell_type": "code",
   "execution_count": 1,
   "metadata": {},
   "outputs": [],
   "source": [
    "import pandas as pd\n",
    "import numpy as np\n",
    "import matplotlib.pyplot as plt\n",
    "from scipy import stats"
   ]
  },
  {
   "cell_type": "code",
   "execution_count": 2,
   "metadata": {},
   "outputs": [
    {
     "data": {
      "text/html": [
       "<div>\n",
       "<style scoped>\n",
       "    .dataframe tbody tr th:only-of-type {\n",
       "        vertical-align: middle;\n",
       "    }\n",
       "\n",
       "    .dataframe tbody tr th {\n",
       "        vertical-align: top;\n",
       "    }\n",
       "\n",
       "    .dataframe thead th {\n",
       "        text-align: right;\n",
       "    }\n",
       "</style>\n",
       "<table border=\"1\" class=\"dataframe\">\n",
       "  <thead>\n",
       "    <tr style=\"text-align: right;\">\n",
       "      <th></th>\n",
       "      <th>Date</th>\n",
       "      <th>Open*</th>\n",
       "      <th>High</th>\n",
       "      <th>Low</th>\n",
       "      <th>Close**</th>\n",
       "      <th>Volume</th>\n",
       "      <th>Market Cap</th>\n",
       "    </tr>\n",
       "  </thead>\n",
       "  <tbody>\n",
       "    <tr>\n",
       "      <th>0</th>\n",
       "      <td>2013-04-28</td>\n",
       "      <td>135.3</td>\n",
       "      <td>135.98</td>\n",
       "      <td>132.1</td>\n",
       "      <td>134.21</td>\n",
       "      <td>0</td>\n",
       "      <td>1,488,566,728</td>\n",
       "    </tr>\n",
       "    <tr>\n",
       "      <th>1</th>\n",
       "      <td>2013-04-29</td>\n",
       "      <td>134.44</td>\n",
       "      <td>147.49</td>\n",
       "      <td>134</td>\n",
       "      <td>144.54</td>\n",
       "      <td>0</td>\n",
       "      <td>1,603,768,865</td>\n",
       "    </tr>\n",
       "    <tr>\n",
       "      <th>2</th>\n",
       "      <td>2013-04-30</td>\n",
       "      <td>144</td>\n",
       "      <td>146.93</td>\n",
       "      <td>134.05</td>\n",
       "      <td>139</td>\n",
       "      <td>0</td>\n",
       "      <td>1,542,813,125</td>\n",
       "    </tr>\n",
       "    <tr>\n",
       "      <th>3</th>\n",
       "      <td>2013-05-01</td>\n",
       "      <td>139</td>\n",
       "      <td>139.89</td>\n",
       "      <td>107.72</td>\n",
       "      <td>116.99</td>\n",
       "      <td>0</td>\n",
       "      <td>1,298,954,594</td>\n",
       "    </tr>\n",
       "    <tr>\n",
       "      <th>4</th>\n",
       "      <td>2013-05-02</td>\n",
       "      <td>116.38</td>\n",
       "      <td>125.6</td>\n",
       "      <td>92.28</td>\n",
       "      <td>105.21</td>\n",
       "      <td>0</td>\n",
       "      <td>1,168,517,495</td>\n",
       "    </tr>\n",
       "  </tbody>\n",
       "</table>\n",
       "</div>"
      ],
      "text/plain": [
       "        Date   Open*    High     Low Close** Volume     Market Cap\n",
       "0 2013-04-28   135.3  135.98   132.1  134.21      0  1,488,566,728\n",
       "1 2013-04-29  134.44  147.49     134  144.54      0  1,603,768,865\n",
       "2 2013-04-30     144  146.93  134.05     139      0  1,542,813,125\n",
       "3 2013-05-01     139  139.89  107.72  116.99      0  1,298,954,594\n",
       "4 2013-05-02  116.38   125.6   92.28  105.21      0  1,168,517,495"
      ]
     },
     "execution_count": 2,
     "metadata": {},
     "output_type": "execute_result"
    }
   ],
   "source": [
    "# import Bitcoin market price\n",
    "prices = pd.read_csv(\"BTC_061419.csv\", parse_dates=['Date'])\n",
    "prices.head()"
   ]
  },
  {
   "cell_type": "code",
   "execution_count": 3,
   "metadata": {},
   "outputs": [
    {
     "name": "stdout",
     "output_type": "stream",
     "text": [
      "<class 'pandas.core.frame.DataFrame'>\n",
      "RangeIndex: 2239 entries, 0 to 2238\n",
      "Data columns (total 7 columns):\n",
      "Date          2239 non-null datetime64[ns]\n",
      "Open*         2239 non-null float64\n",
      "High          2239 non-null float64\n",
      "Low           2239 non-null float64\n",
      "Close**       2239 non-null float64\n",
      "Volume        2239 non-null object\n",
      "Market Cap    2239 non-null object\n",
      "dtypes: datetime64[ns](1), float64(4), object(2)\n",
      "memory usage: 122.5+ KB\n"
     ]
    }
   ],
   "source": [
    "# format the datatypes for useability\n",
    "prices[['Open*', 'High', 'Low', 'Close**']]\n",
    "prices['Open*'] = prices['Open*'].str.replace(\",\",\"\").astype(float)\n",
    "prices['High'] = prices['High'].str.replace(\",\",\"\").astype(float)\n",
    "prices['Low'] = prices['Low'].str.replace(\",\",\"\").astype(float)\n",
    "prices['Close**'] = prices['Close**'].str.replace(\",\",\"\").astype(float)\n",
    "prices['Volume'] = prices['Volume'].str.replace(\",\",\"\").astype(object)\n",
    "prices['Market Cap'] = prices['Market Cap'].str.replace(\",\",\"\").astype(object)\n",
    "prices.info()"
   ]
  },
  {
   "cell_type": "code",
   "execution_count": 4,
   "metadata": {},
   "outputs": [
    {
     "data": {
      "text/html": [
       "<div>\n",
       "<style scoped>\n",
       "    .dataframe tbody tr th:only-of-type {\n",
       "        vertical-align: middle;\n",
       "    }\n",
       "\n",
       "    .dataframe tbody tr th {\n",
       "        vertical-align: top;\n",
       "    }\n",
       "\n",
       "    .dataframe thead th {\n",
       "        text-align: right;\n",
       "    }\n",
       "</style>\n",
       "<table border=\"1\" class=\"dataframe\">\n",
       "  <thead>\n",
       "    <tr style=\"text-align: right;\">\n",
       "      <th></th>\n",
       "      <th>Date</th>\n",
       "      <th>Open*</th>\n",
       "      <th>High</th>\n",
       "      <th>Low</th>\n",
       "      <th>Close**</th>\n",
       "      <th>Volume</th>\n",
       "      <th>Market Cap</th>\n",
       "      <th>price</th>\n",
       "    </tr>\n",
       "  </thead>\n",
       "  <tbody>\n",
       "    <tr>\n",
       "      <th>0</th>\n",
       "      <td>2013-04-28</td>\n",
       "      <td>135.30</td>\n",
       "      <td>135.98</td>\n",
       "      <td>132.10</td>\n",
       "      <td>134.21</td>\n",
       "      <td>0</td>\n",
       "      <td>1488566728</td>\n",
       "      <td>134.3975</td>\n",
       "    </tr>\n",
       "    <tr>\n",
       "      <th>1</th>\n",
       "      <td>2013-04-29</td>\n",
       "      <td>134.44</td>\n",
       "      <td>147.49</td>\n",
       "      <td>134.00</td>\n",
       "      <td>144.54</td>\n",
       "      <td>0</td>\n",
       "      <td>1603768865</td>\n",
       "      <td>140.1175</td>\n",
       "    </tr>\n",
       "    <tr>\n",
       "      <th>2</th>\n",
       "      <td>2013-04-30</td>\n",
       "      <td>144.00</td>\n",
       "      <td>146.93</td>\n",
       "      <td>134.05</td>\n",
       "      <td>139.00</td>\n",
       "      <td>0</td>\n",
       "      <td>1542813125</td>\n",
       "      <td>140.9950</td>\n",
       "    </tr>\n",
       "    <tr>\n",
       "      <th>3</th>\n",
       "      <td>2013-05-01</td>\n",
       "      <td>139.00</td>\n",
       "      <td>139.89</td>\n",
       "      <td>107.72</td>\n",
       "      <td>116.99</td>\n",
       "      <td>0</td>\n",
       "      <td>1298954594</td>\n",
       "      <td>125.9000</td>\n",
       "    </tr>\n",
       "    <tr>\n",
       "      <th>4</th>\n",
       "      <td>2013-05-02</td>\n",
       "      <td>116.38</td>\n",
       "      <td>125.60</td>\n",
       "      <td>92.28</td>\n",
       "      <td>105.21</td>\n",
       "      <td>0</td>\n",
       "      <td>1168517495</td>\n",
       "      <td>109.8675</td>\n",
       "    </tr>\n",
       "  </tbody>\n",
       "</table>\n",
       "</div>"
      ],
      "text/plain": [
       "        Date   Open*    High     Low  Close** Volume  Market Cap     price\n",
       "0 2013-04-28  135.30  135.98  132.10   134.21      0  1488566728  134.3975\n",
       "1 2013-04-29  134.44  147.49  134.00   144.54      0  1603768865  140.1175\n",
       "2 2013-04-30  144.00  146.93  134.05   139.00      0  1542813125  140.9950\n",
       "3 2013-05-01  139.00  139.89  107.72   116.99      0  1298954594  125.9000\n",
       "4 2013-05-02  116.38  125.60   92.28   105.21      0  1168517495  109.8675"
      ]
     },
     "execution_count": 4,
     "metadata": {},
     "output_type": "execute_result"
    }
   ],
   "source": [
    "# average for best guess daily representation of price\n",
    "prices['price'] = prices[['Open*', 'High', 'Low', 'Close**']].mean(axis=1)\n",
    "prices.head()"
   ]
  },
  {
   "cell_type": "code",
   "execution_count": 5,
   "metadata": {},
   "outputs": [
    {
     "data": {
      "image/png": "[encoded data removed]",
      "text/plain": [
       "<matplotlib.figure.Figure at 0x1da2677d780>"
      ]
     },
     "metadata": {
      "needs_background": "light"
     },
     "output_type": "display_data"
    }
   ],
   "source": [
    "# visualize the price\n",
    "prices['price'].plot(figsize=(15,6))\n",
    "plt.show()"
   ]
  },
  {
   "cell_type": "code",
   "execution_count": 6,
   "metadata": {},
   "outputs": [],
   "source": [
    "def compute_log_returns(prices):\n",
    "    return np.log(prices) - np.log(prices.shift(1))"
   ]
  },
  {
   "cell_type": "code",
   "execution_count": 7,
   "metadata": {},
   "outputs": [
    {
     "data": {
      "text/plain": [
       "1    0.041680\n",
       "2    0.006243\n",
       "3   -0.113236\n",
       "4   -0.136213\n",
       "5   -0.116274\n",
       "Name: price, dtype: float64"
      ]
     },
     "execution_count": 7,
     "metadata": {},
     "output_type": "execute_result"
    }
   ],
   "source": [
    "# compute daily returns\n",
    "daily_returns = compute_log_returns(prices['price']).dropna()\n",
    "daily_returns[:5]"
   ]
  },
  {
   "cell_type": "code",
   "execution_count": 8,
   "metadata": {},
   "outputs": [
    {
     "data": {
      "text/plain": [
       "<matplotlib.axes._subplots.AxesSubplot at 0x1da26897dd8>"
      ]
     },
     "execution_count": 8,
     "metadata": {},
     "output_type": "execute_result"
    },
    {
     "data": {
      "image/png": "[encoded data removed]",
      "text/plain": [
       "<matplotlib.figure.Figure at 0x1da26882588>"
      ]
     },
     "metadata": {
      "needs_background": "light"
     },
     "output_type": "display_data"
    }
   ],
   "source": [
    "# visualize the returns over 6 years\n",
    "daily_returns.plot(figsize=(16,8))"
   ]
  },
  {
   "cell_type": "code",
   "execution_count": 9,
   "metadata": {},
   "outputs": [
    {
     "data": {
      "text/html": [
       "<div>\n",
       "<style scoped>\n",
       "    .dataframe tbody tr th:only-of-type {\n",
       "        vertical-align: middle;\n",
       "    }\n",
       "\n",
       "    .dataframe tbody tr th {\n",
       "        vertical-align: top;\n",
       "    }\n",
       "\n",
       "    .dataframe thead th {\n",
       "        text-align: right;\n",
       "    }\n",
       "</style>\n",
       "<table border=\"1\" class=\"dataframe\">\n",
       "  <thead>\n",
       "    <tr style=\"text-align: right;\">\n",
       "      <th></th>\n",
       "      <th>btc_log_ret</th>\n",
       "      <th>date</th>\n",
       "    </tr>\n",
       "  </thead>\n",
       "  <tbody>\n",
       "    <tr>\n",
       "      <th>1</th>\n",
       "      <td>0.041680</td>\n",
       "      <td>2013-04-29</td>\n",
       "    </tr>\n",
       "    <tr>\n",
       "      <th>2</th>\n",
       "      <td>0.006243</td>\n",
       "      <td>2013-04-30</td>\n",
       "    </tr>\n",
       "    <tr>\n",
       "      <th>3</th>\n",
       "      <td>-0.113236</td>\n",
       "      <td>2013-05-01</td>\n",
       "    </tr>\n",
       "    <tr>\n",
       "      <th>4</th>\n",
       "      <td>-0.136213</td>\n",
       "      <td>2013-05-02</td>\n",
       "    </tr>\n",
       "    <tr>\n",
       "      <th>5</th>\n",
       "      <td>-0.116274</td>\n",
       "      <td>2013-05-03</td>\n",
       "    </tr>\n",
       "  </tbody>\n",
       "</table>\n",
       "</div>"
      ],
      "text/plain": [
       "   btc_log_ret       date\n",
       "1     0.041680 2013-04-29\n",
       "2     0.006243 2013-04-30\n",
       "3    -0.113236 2013-05-01\n",
       "4    -0.136213 2013-05-02\n",
       "5    -0.116274 2013-05-03"
      ]
     },
     "execution_count": 9,
     "metadata": {},
     "output_type": "execute_result"
    }
   ],
   "source": [
    "# put this into a dataframe\n",
    "df_returns = daily_returns.to_frame()\n",
    "df_returns = df_returns.rename(index=str, columns={\"price\": \"btc_log_ret\"})\n",
    "dates = (prices['Date'].tolist())[1:]\n",
    "df_returns['date'] = dates\n",
    "df_returns.head()"
   ]
  },
  {
   "cell_type": "code",
   "execution_count": 10,
   "metadata": {},
   "outputs": [
    {
     "name": "stdout",
     "output_type": "stream",
     "text": [
      "<class 'pandas.core.frame.DataFrame'>\n",
      "Index: 2238 entries, 1 to 2238\n",
      "Data columns (total 2 columns):\n",
      "btc_log_ret    2238 non-null float64\n",
      "date           2238 non-null datetime64[ns]\n",
      "dtypes: datetime64[ns](1), float64(1)\n",
      "memory usage: 52.5+ KB\n"
     ]
    }
   ],
   "source": [
    "df_returns.info()"
   ]
  },
  {
   "cell_type": "markdown",
   "metadata": {},
   "source": [
    "### Inject TSI built by ETL"
   ]
  },
  {
   "cell_type": "code",
   "execution_count": 11,
   "metadata": {},
   "outputs": [
    {
     "data": {
      "text/html": [
       "<div>\n",
       "<style scoped>\n",
       "    .dataframe tbody tr th:only-of-type {\n",
       "        vertical-align: middle;\n",
       "    }\n",
       "\n",
       "    .dataframe tbody tr th {\n",
       "        vertical-align: top;\n",
       "    }\n",
       "\n",
       "    .dataframe thead th {\n",
       "        text-align: right;\n",
       "    }\n",
       "</style>\n",
       "<table border=\"1\" class=\"dataframe\">\n",
       "  <thead>\n",
       "    <tr style=\"text-align: right;\">\n",
       "      <th></th>\n",
       "      <th>date</th>\n",
       "      <th>vad_compound</th>\n",
       "    </tr>\n",
       "  </thead>\n",
       "  <tbody>\n",
       "    <tr>\n",
       "      <th>0</th>\n",
       "      <td>2014-01-01</td>\n",
       "      <td>0.294400</td>\n",
       "    </tr>\n",
       "    <tr>\n",
       "      <th>1</th>\n",
       "      <td>2014-01-02</td>\n",
       "      <td>0.234772</td>\n",
       "    </tr>\n",
       "    <tr>\n",
       "      <th>2</th>\n",
       "      <td>2014-01-03</td>\n",
       "      <td>0.205479</td>\n",
       "    </tr>\n",
       "    <tr>\n",
       "      <th>3</th>\n",
       "      <td>2014-01-04</td>\n",
       "      <td>0.290856</td>\n",
       "    </tr>\n",
       "    <tr>\n",
       "      <th>4</th>\n",
       "      <td>2014-01-05</td>\n",
       "      <td>0.102421</td>\n",
       "    </tr>\n",
       "  </tbody>\n",
       "</table>\n",
       "</div>"
      ],
      "text/plain": [
       "         date  vad_compound\n",
       "0  2014-01-01      0.294400\n",
       "1  2014-01-02      0.234772\n",
       "2  2014-01-03      0.205479\n",
       "3  2014-01-04      0.290856\n",
       "4  2014-01-05      0.102421"
      ]
     },
     "execution_count": 11,
     "metadata": {},
     "output_type": "execute_result"
    }
   ],
   "source": [
    "# import the Twitter Sentiment Indicator updated by ETL script\n",
    "df_tsi = pd.read_csv('tsi_6_16_2019.csv')\n",
    "df_tsi.head()"
   ]
  },
  {
   "cell_type": "code",
   "execution_count": 12,
   "metadata": {},
   "outputs": [
    {
     "name": "stdout",
     "output_type": "stream",
     "text": [
      "<class 'pandas.core.frame.DataFrame'>\n",
      "RangeIndex: 1993 entries, 0 to 1992\n",
      "Data columns (total 2 columns):\n",
      "date            1993 non-null object\n",
      "vad_compound    1993 non-null float64\n",
      "dtypes: float64(1), object(1)\n",
      "memory usage: 31.2+ KB\n"
     ]
    }
   ],
   "source": [
    "df_tsi.info()"
   ]
  },
  {
   "cell_type": "code",
   "execution_count": 13,
   "metadata": {},
   "outputs": [
    {
     "data": {
      "image/png": "[encoded data removed]",
      "text/plain": [
       "<matplotlib.figure.Figure at 0x1da26948860>"
      ]
     },
     "metadata": {
      "needs_background": "light"
     },
     "output_type": "display_data"
    }
   ],
   "source": [
    "# visualize the TSI indicator\n",
    "df_tsi['vad_compound'].plot(figsize=(15,6))\n",
    "plt.show()"
   ]
  },
  {
   "cell_type": "code",
   "execution_count": 14,
   "metadata": {},
   "outputs": [],
   "source": [
    "# format indicator dates to timestamps\n",
    "df_tsi['date'] = pd.to_datetime(df_tsi.date, format=\"%Y-%m-%d\")"
   ]
  },
  {
   "cell_type": "code",
   "execution_count": 15,
   "metadata": {},
   "outputs": [
    {
     "name": "stdout",
     "output_type": "stream",
     "text": [
      "<class 'pandas.core.frame.DataFrame'>\n",
      "Int64Index: 1991 entries, 0 to 1990\n",
      "Data columns (total 3 columns):\n",
      "date            1991 non-null datetime64[ns]\n",
      "vad_compound    1991 non-null float64\n",
      "btc_log_ret     1991 non-null float64\n",
      "dtypes: datetime64[ns](1), float64(2)\n",
      "memory usage: 62.2 KB\n"
     ]
    }
   ],
   "source": [
    "# merge returns and indicator\n",
    "df_trade = pd.merge(df_tsi,df_returns, on='date')\n",
    "df_trade.info()"
   ]
  },
  {
   "cell_type": "code",
   "execution_count": 16,
   "metadata": {},
   "outputs": [
    {
     "data": {
      "text/html": [
       "<div>\n",
       "<style scoped>\n",
       "    .dataframe tbody tr th:only-of-type {\n",
       "        vertical-align: middle;\n",
       "    }\n",
       "\n",
       "    .dataframe tbody tr th {\n",
       "        vertical-align: top;\n",
       "    }\n",
       "\n",
       "    .dataframe thead th {\n",
       "        text-align: right;\n",
       "    }\n",
       "</style>\n",
       "<table border=\"1\" class=\"dataframe\">\n",
       "  <thead>\n",
       "    <tr style=\"text-align: right;\">\n",
       "      <th></th>\n",
       "      <th>date</th>\n",
       "      <th>vad_compound</th>\n",
       "      <th>btc_log_ret</th>\n",
       "    </tr>\n",
       "  </thead>\n",
       "  <tbody>\n",
       "    <tr>\n",
       "      <th>0</th>\n",
       "      <td>2014-01-01</td>\n",
       "      <td>0.294400</td>\n",
       "      <td>0.014370</td>\n",
       "    </tr>\n",
       "    <tr>\n",
       "      <th>1</th>\n",
       "      <td>2014-01-02</td>\n",
       "      <td>0.234772</td>\n",
       "      <td>0.034299</td>\n",
       "    </tr>\n",
       "    <tr>\n",
       "      <th>2</th>\n",
       "      <td>2014-01-03</td>\n",
       "      <td>0.205479</td>\n",
       "      <td>0.025434</td>\n",
       "    </tr>\n",
       "    <tr>\n",
       "      <th>3</th>\n",
       "      <td>2014-01-04</td>\n",
       "      <td>0.290856</td>\n",
       "      <td>0.030090</td>\n",
       "    </tr>\n",
       "    <tr>\n",
       "      <th>4</th>\n",
       "      <td>2014-01-05</td>\n",
       "      <td>0.102421</td>\n",
       "      <td>0.073500</td>\n",
       "    </tr>\n",
       "  </tbody>\n",
       "</table>\n",
       "</div>"
      ],
      "text/plain": [
       "        date  vad_compound  btc_log_ret\n",
       "0 2014-01-01      0.294400     0.014370\n",
       "1 2014-01-02      0.234772     0.034299\n",
       "2 2014-01-03      0.205479     0.025434\n",
       "3 2014-01-04      0.290856     0.030090\n",
       "4 2014-01-05      0.102421     0.073500"
      ]
     },
     "execution_count": 16,
     "metadata": {},
     "output_type": "execute_result"
    }
   ],
   "source": [
    "df_trade.head()"
   ]
  },
  {
   "cell_type": "code",
   "execution_count": 17,
   "metadata": {},
   "outputs": [
    {
     "data": {
      "text/html": [
       "<div>\n",
       "<style scoped>\n",
       "    .dataframe tbody tr th:only-of-type {\n",
       "        vertical-align: middle;\n",
       "    }\n",
       "\n",
       "    .dataframe tbody tr th {\n",
       "        vertical-align: top;\n",
       "    }\n",
       "\n",
       "    .dataframe thead th {\n",
       "        text-align: right;\n",
       "    }\n",
       "</style>\n",
       "<table border=\"1\" class=\"dataframe\">\n",
       "  <thead>\n",
       "    <tr style=\"text-align: right;\">\n",
       "      <th></th>\n",
       "      <th>date</th>\n",
       "      <th>vad_compound</th>\n",
       "      <th>btc_log_ret</th>\n",
       "    </tr>\n",
       "  </thead>\n",
       "  <tbody>\n",
       "    <tr>\n",
       "      <th>1986</th>\n",
       "      <td>2019-06-10</td>\n",
       "      <td>0.215495</td>\n",
       "      <td>0.003657</td>\n",
       "    </tr>\n",
       "    <tr>\n",
       "      <th>1987</th>\n",
       "      <td>2019-06-11</td>\n",
       "      <td>0.284463</td>\n",
       "      <td>0.013321</td>\n",
       "    </tr>\n",
       "    <tr>\n",
       "      <th>1988</th>\n",
       "      <td>2019-06-12</td>\n",
       "      <td>0.322285</td>\n",
       "      <td>0.012501</td>\n",
       "    </tr>\n",
       "    <tr>\n",
       "      <th>1989</th>\n",
       "      <td>2019-06-13</td>\n",
       "      <td>0.189631</td>\n",
       "      <td>0.019870</td>\n",
       "    </tr>\n",
       "    <tr>\n",
       "      <th>1990</th>\n",
       "      <td>2019-06-14</td>\n",
       "      <td>0.307329</td>\n",
       "      <td>0.031347</td>\n",
       "    </tr>\n",
       "  </tbody>\n",
       "</table>\n",
       "</div>"
      ],
      "text/plain": [
       "           date  vad_compound  btc_log_ret\n",
       "1986 2019-06-10      0.215495     0.003657\n",
       "1987 2019-06-11      0.284463     0.013321\n",
       "1988 2019-06-12      0.322285     0.012501\n",
       "1989 2019-06-13      0.189631     0.019870\n",
       "1990 2019-06-14      0.307329     0.031347"
      ]
     },
     "execution_count": 17,
     "metadata": {},
     "output_type": "execute_result"
    }
   ],
   "source": [
    "df_trade.tail()"
   ]
  },
  {
   "cell_type": "code",
   "execution_count": 18,
   "metadata": {},
   "outputs": [
    {
     "data": {
      "text/plain": [
       "<matplotlib.axes._subplots.AxesSubplot at 0x1da269caa90>"
      ]
     },
     "execution_count": 18,
     "metadata": {},
     "output_type": "execute_result"
    },
    {
     "data": {
      "image/png": "[encoded data removed]",
      "text/plain": [
       "<matplotlib.figure.Figure at 0x1da269a7a58>"
      ]
     },
     "metadata": {
      "needs_background": "light"
     },
     "output_type": "display_data"
    }
   ],
   "source": [
    "# plot returns\n",
    "df_trade['btc_log_ret'].hist()"
   ]
  },
  {
   "cell_type": "code",
   "execution_count": 19,
   "metadata": {},
   "outputs": [
    {
     "data": {
      "text/plain": [
       "<matplotlib.axes._subplots.AxesSubplot at 0x1da269ee668>"
      ]
     },
     "execution_count": 19,
     "metadata": {},
     "output_type": "execute_result"
    },
    {
     "data": {
      "image/png": "[encoded data removed]",
      "text/plain": [
       "<matplotlib.figure.Figure at 0x1da26a2b240>"
      ]
     },
     "metadata": {
      "needs_background": "light"
     },
     "output_type": "display_data"
    }
   ],
   "source": [
    "# plot sentiment\n",
    "df_trade['vad_compound'].hist()"
   ]
  },
  {
   "cell_type": "code",
   "execution_count": 20,
   "metadata": {},
   "outputs": [],
   "source": [
    "# shift returns function\n",
    "def shift_returns(returns, shift_n):\n",
    "    return returns.shift(shift_n)"
   ]
  },
  {
   "cell_type": "code",
   "execution_count": 21,
   "metadata": {},
   "outputs": [],
   "source": [
    "# compute lookforward\n",
    "shift_btc = shift_returns(df_trade['btc_log_ret'],-1)"
   ]
  },
  {
   "cell_type": "code",
   "execution_count": 22,
   "metadata": {},
   "outputs": [
    {
     "data": {
      "text/html": [
       "<div>\n",
       "<style scoped>\n",
       "    .dataframe tbody tr th:only-of-type {\n",
       "        vertical-align: middle;\n",
       "    }\n",
       "\n",
       "    .dataframe tbody tr th {\n",
       "        vertical-align: top;\n",
       "    }\n",
       "\n",
       "    .dataframe thead th {\n",
       "        text-align: right;\n",
       "    }\n",
       "</style>\n",
       "<table border=\"1\" class=\"dataframe\">\n",
       "  <thead>\n",
       "    <tr style=\"text-align: right;\">\n",
       "      <th></th>\n",
       "      <th>date</th>\n",
       "      <th>vad_compound</th>\n",
       "      <th>btc_log_ret</th>\n",
       "      <th>in_out</th>\n",
       "    </tr>\n",
       "  </thead>\n",
       "  <tbody>\n",
       "    <tr>\n",
       "      <th>0</th>\n",
       "      <td>2014-01-01</td>\n",
       "      <td>0.294400</td>\n",
       "      <td>0.014370</td>\n",
       "      <td>0</td>\n",
       "    </tr>\n",
       "    <tr>\n",
       "      <th>1</th>\n",
       "      <td>2014-01-02</td>\n",
       "      <td>0.234772</td>\n",
       "      <td>0.034299</td>\n",
       "      <td>0</td>\n",
       "    </tr>\n",
       "    <tr>\n",
       "      <th>2</th>\n",
       "      <td>2014-01-03</td>\n",
       "      <td>0.205479</td>\n",
       "      <td>0.025434</td>\n",
       "      <td>0</td>\n",
       "    </tr>\n",
       "    <tr>\n",
       "      <th>3</th>\n",
       "      <td>2014-01-04</td>\n",
       "      <td>0.290856</td>\n",
       "      <td>0.030090</td>\n",
       "      <td>0</td>\n",
       "    </tr>\n",
       "    <tr>\n",
       "      <th>4</th>\n",
       "      <td>2014-01-05</td>\n",
       "      <td>0.102421</td>\n",
       "      <td>0.073500</td>\n",
       "      <td>0</td>\n",
       "    </tr>\n",
       "  </tbody>\n",
       "</table>\n",
       "</div>"
      ],
      "text/plain": [
       "        date  vad_compound  btc_log_ret  in_out\n",
       "0 2014-01-01      0.294400     0.014370       0\n",
       "1 2014-01-02      0.234772     0.034299       0\n",
       "2 2014-01-03      0.205479     0.025434       0\n",
       "3 2014-01-04      0.290856     0.030090       0\n",
       "4 2014-01-05      0.102421     0.073500       0"
      ]
     },
     "execution_count": 22,
     "metadata": {},
     "output_type": "execute_result"
    }
   ],
   "source": [
    "# long style \"contrarian\" trading rules with TSI indicator\n",
    "# contrarian = high sentiment is sell signal, low sentiment is buy\n",
    "in_out = [0]\n",
    "last = 0\n",
    "for _,nrows in df_trade[1:].iterrows():\n",
    "    # currently out and testing for entry\n",
    "    if last == 0:\n",
    "        # entry threshold guesstimate to buy\n",
    "        if nrows['vad_compound'] < 0.1:\n",
    "            last = 1\n",
    "    # currently in and testing for exit\n",
    "    else:\n",
    "        # exit threshold guesstimate to sell\n",
    "        if nrows['vad_compound'] > 0.3:\n",
    "            last = 0\n",
    "    # update position\n",
    "    in_out.append(last)\n",
    "\n",
    "df_trade['in_out'] = in_out\n",
    "df_trade.head()"
   ]
  },
  {
   "cell_type": "code",
   "execution_count": 23,
   "metadata": {},
   "outputs": [
    {
     "data": {
      "text/html": [
       "<div>\n",
       "<style scoped>\n",
       "    .dataframe tbody tr th:only-of-type {\n",
       "        vertical-align: middle;\n",
       "    }\n",
       "\n",
       "    .dataframe tbody tr th {\n",
       "        vertical-align: top;\n",
       "    }\n",
       "\n",
       "    .dataframe thead th {\n",
       "        text-align: right;\n",
       "    }\n",
       "</style>\n",
       "<table border=\"1\" class=\"dataframe\">\n",
       "  <thead>\n",
       "    <tr style=\"text-align: right;\">\n",
       "      <th></th>\n",
       "      <th>date</th>\n",
       "      <th>vad_compound</th>\n",
       "      <th>btc_log_ret</th>\n",
       "      <th>in_out</th>\n",
       "    </tr>\n",
       "  </thead>\n",
       "  <tbody>\n",
       "    <tr>\n",
       "      <th>160</th>\n",
       "      <td>2014-06-10</td>\n",
       "      <td>0.257279</td>\n",
       "      <td>0.000947</td>\n",
       "      <td>0</td>\n",
       "    </tr>\n",
       "    <tr>\n",
       "      <th>161</th>\n",
       "      <td>2014-06-11</td>\n",
       "      <td>0.286369</td>\n",
       "      <td>-0.012945</td>\n",
       "      <td>0</td>\n",
       "    </tr>\n",
       "    <tr>\n",
       "      <th>162</th>\n",
       "      <td>2014-06-12</td>\n",
       "      <td>0.275780</td>\n",
       "      <td>-0.057545</td>\n",
       "      <td>0</td>\n",
       "    </tr>\n",
       "    <tr>\n",
       "      <th>163</th>\n",
       "      <td>2014-06-13</td>\n",
       "      <td>0.060726</td>\n",
       "      <td>-0.018704</td>\n",
       "      <td>1</td>\n",
       "    </tr>\n",
       "    <tr>\n",
       "      <th>164</th>\n",
       "      <td>2014-06-14</td>\n",
       "      <td>0.152250</td>\n",
       "      <td>-0.024387</td>\n",
       "      <td>1</td>\n",
       "    </tr>\n",
       "    <tr>\n",
       "      <th>165</th>\n",
       "      <td>2014-06-15</td>\n",
       "      <td>0.288185</td>\n",
       "      <td>-0.005381</td>\n",
       "      <td>1</td>\n",
       "    </tr>\n",
       "    <tr>\n",
       "      <th>166</th>\n",
       "      <td>2014-06-16</td>\n",
       "      <td>0.203204</td>\n",
       "      <td>0.027221</td>\n",
       "      <td>1</td>\n",
       "    </tr>\n",
       "    <tr>\n",
       "      <th>167</th>\n",
       "      <td>2014-06-17</td>\n",
       "      <td>0.228964</td>\n",
       "      <td>0.009661</td>\n",
       "      <td>1</td>\n",
       "    </tr>\n",
       "    <tr>\n",
       "      <th>168</th>\n",
       "      <td>2014-06-18</td>\n",
       "      <td>0.347085</td>\n",
       "      <td>0.014156</td>\n",
       "      <td>0</td>\n",
       "    </tr>\n",
       "    <tr>\n",
       "      <th>169</th>\n",
       "      <td>2014-06-19</td>\n",
       "      <td>0.332173</td>\n",
       "      <td>-0.009317</td>\n",
       "      <td>0</td>\n",
       "    </tr>\n",
       "  </tbody>\n",
       "</table>\n",
       "</div>"
      ],
      "text/plain": [
       "          date  vad_compound  btc_log_ret  in_out\n",
       "160 2014-06-10      0.257279     0.000947       0\n",
       "161 2014-06-11      0.286369    -0.012945       0\n",
       "162 2014-06-12      0.275780    -0.057545       0\n",
       "163 2014-06-13      0.060726    -0.018704       1\n",
       "164 2014-06-14      0.152250    -0.024387       1\n",
       "165 2014-06-15      0.288185    -0.005381       1\n",
       "166 2014-06-16      0.203204     0.027221       1\n",
       "167 2014-06-17      0.228964     0.009661       1\n",
       "168 2014-06-18      0.347085     0.014156       0\n",
       "169 2014-06-19      0.332173    -0.009317       0"
      ]
     },
     "execution_count": 23,
     "metadata": {},
     "output_type": "execute_result"
    }
   ],
   "source": [
    "# check a short trade\n",
    "df_trade[160:170]"
   ]
  },
  {
   "cell_type": "code",
   "execution_count": 24,
   "metadata": {},
   "outputs": [
    {
     "data": {
      "text/plain": [
       "count    1990.000000\n",
       "mean        0.001067\n",
       "std         0.023530\n",
       "min        -0.207677\n",
       "25%        -0.000288\n",
       "50%         0.000000\n",
       "75%         0.004613\n",
       "max         0.199846\n",
       "dtype: float64"
      ]
     },
     "execution_count": 24,
     "metadata": {},
     "output_type": "execute_result"
    }
   ],
   "source": [
    "port_returns = shift_btc*(df_trade['in_out'])\n",
    "port_returns.describe()"
   ]
  },
  {
   "cell_type": "code",
   "execution_count": 25,
   "metadata": {},
   "outputs": [
    {
     "data": {
      "text/plain": [
       "0.023524002947269505"
      ]
     },
     "execution_count": 25,
     "metadata": {},
     "output_type": "execute_result"
    }
   ],
   "source": [
    "# compute daily standard deviation\n",
    "std = np.std(port_returns)\n",
    "std"
   ]
  },
  {
   "cell_type": "code",
   "execution_count": 26,
   "metadata": {},
   "outputs": [
    {
     "data": {
      "text/plain": [
       "<matplotlib.axes._subplots.AxesSubplot at 0x1da2685a710>"
      ]
     },
     "execution_count": 26,
     "metadata": {},
     "output_type": "execute_result"
    },
    {
     "data": {
      "image/png": "[encoded data removed]",
      "text/plain": [
       "<matplotlib.figure.Figure at 0x1da26a45080>"
      ]
     },
     "metadata": {
      "needs_background": "light"
     },
     "output_type": "display_data"
    }
   ],
   "source": [
    "# plot histogram of trade returns\n",
    "port_returns.hist()"
   ]
  },
  {
   "cell_type": "code",
   "execution_count": 27,
   "metadata": {},
   "outputs": [],
   "source": [
    "# t test definition\n",
    "def analyze_alpha(expected_portfolio_returns_by_date, sigma):\n",
    "    t_test = stats.ttest_1samp(expected_portfolio_returns_by_date,sigma)\n",
    "    t_value = t_test[0]\n",
    "    p_value = t_test[1]/2\n",
    "    return t_value, p_value"
   ]
  },
  {
   "cell_type": "code",
   "execution_count": 28,
   "metadata": {},
   "outputs": [
    {
     "data": {
      "text/plain": [
       "(-42.57559659681954, 2.0823971147658764e-282)"
      ]
     },
     "execution_count": 28,
     "metadata": {},
     "output_type": "execute_result"
    }
   ],
   "source": [
    "# do a t-test of trades\n",
    "analyze_alpha(port_returns.dropna(), std)"
   ]
  },
  {
   "cell_type": "code",
   "execution_count": 29,
   "metadata": {},
   "outputs": [
    {
     "data": {
      "text/plain": [
       "735.6535654110679"
      ]
     },
     "execution_count": 29,
     "metadata": {},
     "output_type": "execute_result"
    }
   ],
   "source": [
    "# expected returns over 5 years time in percent\n",
    "(np.exp(port_returns[1:].T.sum())-1)*100"
   ]
  },
  {
   "cell_type": "code",
   "execution_count": 30,
   "metadata": {},
   "outputs": [
    {
     "data": {
      "text/plain": [
       "0.37343196983535354"
      ]
     },
     "execution_count": 30,
     "metadata": {},
     "output_type": "execute_result"
    }
   ],
   "source": [
    "# anualized volatility\n",
    "vol_year = np.std(port_returns)*np.sqrt(252)\n",
    "vol_year"
   ]
  },
  {
   "cell_type": "code",
   "execution_count": 31,
   "metadata": {},
   "outputs": [
    {
     "data": {
      "text/plain": [
       "3.8462350490650414"
      ]
     },
     "execution_count": 31,
     "metadata": {},
     "output_type": "execute_result"
    }
   ],
   "source": [
    "# sharp ratio on this trade strategy\n",
    "ret_year = (np.exp(port_returns[1:].T.sum())-1)/5\n",
    "risk_free = 0.035\n",
    "sharp = (ret_year - risk_free) / vol_year\n",
    "sharp"
   ]
  },
  {
   "cell_type": "markdown",
   "metadata": {},
   "source": [
    "####  Disclaimer: This project is for educational purposes and not intended for real life trading."
   ]
  },
  {
   "cell_type": "code",
   "execution_count": null,
   "metadata": {},
   "outputs": [],
   "source": []
  }
 ],
 "metadata": {
  "kernelspec": {
   "display_name": "Python 3",
   "language": "python",
   "name": "python3"
  },
  "language_info": {
   "codemirror_mode": {
    "name": "ipython",
    "version": 3
   },
   "file_extension": ".py",
   "mimetype": "text/x-python",
   "name": "python",
   "nbconvert_exporter": "python",
   "pygments_lexer": "ipython3",
   "version": "3.5.4"
  }
 },
 "nbformat": 4,
 "nbformat_minor": 2
}
