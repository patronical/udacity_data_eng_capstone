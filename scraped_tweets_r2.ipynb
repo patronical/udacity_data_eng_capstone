{
 "cells": [
  {
   "cell_type": "markdown",
   "metadata": {},
   "source": [
    "### Scraped Twitter Network Tweets\n",
    "https://github.com/Jefferson-Henrique/GetOldTweets-python"
   ]
  },
  {
   "cell_type": "code",
   "execution_count": 1,
   "metadata": {},
   "outputs": [
    {
     "data": {
      "text/plain": [
       "'C:\\\\Users\\\\Gamer\\\\Desktop\\\\hist_tweets\\\\GetOldTweets-python'"
      ]
     },
     "execution_count": 1,
     "metadata": {},
     "output_type": "execute_result"
    }
   ],
   "source": [
    "import got3\n",
    "import pandas as pd\n",
    "import pickle\n",
    "import matplotlib.pyplot as plt\n",
    "import os\n",
    "os.getcwd()"
   ]
  },
  {
   "cell_type": "code",
   "execution_count": 2,
   "metadata": {},
   "outputs": [
    {
     "data": {
      "text/html": [
       "<div>\n",
       "<style scoped>\n",
       "    .dataframe tbody tr th:only-of-type {\n",
       "        vertical-align: middle;\n",
       "    }\n",
       "\n",
       "    .dataframe tbody tr th {\n",
       "        vertical-align: top;\n",
       "    }\n",
       "\n",
       "    .dataframe thead th {\n",
       "        text-align: right;\n",
       "    }\n",
       "</style>\n",
       "<table border=\"1\" class=\"dataframe\">\n",
       "  <thead>\n",
       "    <tr style=\"text-align: right;\">\n",
       "      <th></th>\n",
       "      <th>id</th>\n",
       "      <th>date</th>\n",
       "      <th>text</th>\n",
       "      <th>author</th>\n",
       "      <th>favorite</th>\n",
       "      <th>url</th>\n",
       "    </tr>\n",
       "  </thead>\n",
       "  <tbody>\n",
       "    <tr>\n",
       "      <th>0</th>\n",
       "      <td>340609093125423104</td>\n",
       "      <td>2013-05-31 16:21:50</td>\n",
       "      <td>Paper wallets are the best way to store # bitc...</td>\n",
       "      <td>aantonop</td>\n",
       "      <td>0</td>\n",
       "      <td>https://twitter.com/aantonop/status/3406090931...</td>\n",
       "    </tr>\n",
       "    <tr>\n",
       "      <th>1</th>\n",
       "      <td>340578313456218112</td>\n",
       "      <td>2013-05-31 14:19:32</td>\n",
       "      <td>@ LetsTalkBitcoin Thank you. So new to twitter...</td>\n",
       "      <td>aantonop</td>\n",
       "      <td>0</td>\n",
       "      <td>https://twitter.com/aantonop/status/3405783134...</td>\n",
       "    </tr>\n",
       "    <tr>\n",
       "      <th>2</th>\n",
       "      <td>340552331110273024</td>\n",
       "      <td>2013-05-31 12:36:17</td>\n",
       "      <td>@ edla @ BLOUIN_NEWS @ swardley @ Archimedius ...</td>\n",
       "      <td>aantonop</td>\n",
       "      <td>0</td>\n",
       "      <td>https://twitter.com/aantonop/status/3405523311...</td>\n",
       "    </tr>\n",
       "    <tr>\n",
       "      <th>3</th>\n",
       "      <td>340551805593329667</td>\n",
       "      <td>2013-05-31 12:34:12</td>\n",
       "      <td>@ edla @ BLOUIN_NEWS @ swardley @ Archimedius ...</td>\n",
       "      <td>aantonop</td>\n",
       "      <td>0</td>\n",
       "      <td>https://twitter.com/aantonop/status/3405518055...</td>\n",
       "    </tr>\n",
       "    <tr>\n",
       "      <th>4</th>\n",
       "      <td>340541494295404545</td>\n",
       "      <td>2013-05-31 11:53:13</td>\n",
       "      <td>@ BLOUIN_NEWS @ edla @ swardley @ Archimedius ...</td>\n",
       "      <td>aantonop</td>\n",
       "      <td>0</td>\n",
       "      <td>https://twitter.com/aantonop/status/3405414942...</td>\n",
       "    </tr>\n",
       "  </tbody>\n",
       "</table>\n",
       "</div>"
      ],
      "text/plain": [
       "                   id                date  \\\n",
       "0  340609093125423104 2013-05-31 16:21:50   \n",
       "1  340578313456218112 2013-05-31 14:19:32   \n",
       "2  340552331110273024 2013-05-31 12:36:17   \n",
       "3  340551805593329667 2013-05-31 12:34:12   \n",
       "4  340541494295404545 2013-05-31 11:53:13   \n",
       "\n",
       "                                                text    author  favorite  \\\n",
       "0  Paper wallets are the best way to store # bitc...  aantonop         0   \n",
       "1  @ LetsTalkBitcoin Thank you. So new to twitter...  aantonop         0   \n",
       "2  @ edla @ BLOUIN_NEWS @ swardley @ Archimedius ...  aantonop         0   \n",
       "3  @ edla @ BLOUIN_NEWS @ swardley @ Archimedius ...  aantonop         0   \n",
       "4  @ BLOUIN_NEWS @ edla @ swardley @ Archimedius ...  aantonop         0   \n",
       "\n",
       "                                                 url  \n",
       "0  https://twitter.com/aantonop/status/3406090931...  \n",
       "1  https://twitter.com/aantonop/status/3405783134...  \n",
       "2  https://twitter.com/aantonop/status/3405523311...  \n",
       "3  https://twitter.com/aantonop/status/3405518055...  \n",
       "4  https://twitter.com/aantonop/status/3405414942...  "
      ]
     },
     "execution_count": 2,
     "metadata": {},
     "output_type": "execute_result"
    }
   ],
   "source": [
    "with open('tweet_df.pkl', 'rb') as filehandle:  \n",
    "    # read the data as binary data stream\n",
    "    df_tweets = pickle.load(filehandle)\n",
    "df_tweets.head()"
   ]
  },
  {
   "cell_type": "code",
   "execution_count": 3,
   "metadata": {},
   "outputs": [
    {
     "name": "stdout",
     "output_type": "stream",
     "text": [
      "<class 'pandas.core.frame.DataFrame'>\n",
      "Int64Index: 2563803 entries, 0 to 70\n",
      "Data columns (total 6 columns):\n",
      "id          object\n",
      "date        datetime64[ns]\n",
      "text        object\n",
      "author      object\n",
      "favorite    int64\n",
      "url         object\n",
      "dtypes: datetime64[ns](1), int64(1), object(4)\n",
      "memory usage: 136.9+ MB\n"
     ]
    }
   ],
   "source": [
    "df_tweets.info()"
   ]
  },
  {
   "cell_type": "code",
   "execution_count": 4,
   "metadata": {},
   "outputs": [
    {
     "data": {
      "text/html": [
       "<div>\n",
       "<style scoped>\n",
       "    .dataframe tbody tr th:only-of-type {\n",
       "        vertical-align: middle;\n",
       "    }\n",
       "\n",
       "    .dataframe tbody tr th {\n",
       "        vertical-align: top;\n",
       "    }\n",
       "\n",
       "    .dataframe thead th {\n",
       "        text-align: right;\n",
       "    }\n",
       "</style>\n",
       "<table border=\"1\" class=\"dataframe\">\n",
       "  <thead>\n",
       "    <tr style=\"text-align: right;\">\n",
       "      <th></th>\n",
       "      <th>id</th>\n",
       "      <th>date</th>\n",
       "      <th>text</th>\n",
       "      <th>author</th>\n",
       "      <th>favorite</th>\n",
       "      <th>url</th>\n",
       "    </tr>\n",
       "  </thead>\n",
       "  <tbody>\n",
       "    <tr>\n",
       "      <th>0</th>\n",
       "      <td>1089186195</td>\n",
       "      <td>2008-12-31 17:48:08</td>\n",
       "      <td>I just finished doing Wii Fit Yoga and really ...</td>\n",
       "      <td>billbarhydt</td>\n",
       "      <td>0</td>\n",
       "      <td>https://twitter.com/billbarhydt/status/1089186195</td>\n",
       "    </tr>\n",
       "    <tr>\n",
       "      <th>1</th>\n",
       "      <td>1089432998</td>\n",
       "      <td>2008-12-31 20:52:39</td>\n",
       "      <td>Champagne tasting on the roof</td>\n",
       "      <td>jack</td>\n",
       "      <td>0</td>\n",
       "      <td>https://twitter.com/jack/status/1089432998</td>\n",
       "    </tr>\n",
       "    <tr>\n",
       "      <th>2</th>\n",
       "      <td>1089472226</td>\n",
       "      <td>2008-12-31 21:11:51</td>\n",
       "      <td>happy new years nycers.</td>\n",
       "      <td>TheStalwart</td>\n",
       "      <td>0</td>\n",
       "      <td>https://twitter.com/TheStalwart/status/1089472226</td>\n",
       "    </tr>\n",
       "    <tr>\n",
       "      <th>3</th>\n",
       "      <td>1089486321</td>\n",
       "      <td>2008-12-31 21:20:26</td>\n",
       "      <td>Happy New Year east coast peeps!</td>\n",
       "      <td>billbarhydt</td>\n",
       "      <td>0</td>\n",
       "      <td>https://twitter.com/billbarhydt/status/1089486321</td>\n",
       "    </tr>\n",
       "    <tr>\n",
       "      <th>4</th>\n",
       "      <td>1089486628</td>\n",
       "      <td>2008-12-31 21:20:39</td>\n",
       "      <td>Happy new year! Prime rib was an utter success!</td>\n",
       "      <td>garrytan</td>\n",
       "      <td>0</td>\n",
       "      <td>https://twitter.com/garrytan/status/1089486628</td>\n",
       "    </tr>\n",
       "  </tbody>\n",
       "</table>\n",
       "</div>"
      ],
      "text/plain": [
       "           id                date  \\\n",
       "0  1089186195 2008-12-31 17:48:08   \n",
       "1  1089432998 2008-12-31 20:52:39   \n",
       "2  1089472226 2008-12-31 21:11:51   \n",
       "3  1089486321 2008-12-31 21:20:26   \n",
       "4  1089486628 2008-12-31 21:20:39   \n",
       "\n",
       "                                                text       author  favorite  \\\n",
       "0  I just finished doing Wii Fit Yoga and really ...  billbarhydt         0   \n",
       "1                      Champagne tasting on the roof         jack         0   \n",
       "2                            happy new years nycers.  TheStalwart         0   \n",
       "3                   Happy New Year east coast peeps!  billbarhydt         0   \n",
       "4    Happy new year! Prime rib was an utter success!     garrytan         0   \n",
       "\n",
       "                                                 url  \n",
       "0  https://twitter.com/billbarhydt/status/1089186195  \n",
       "1         https://twitter.com/jack/status/1089432998  \n",
       "2  https://twitter.com/TheStalwart/status/1089472226  \n",
       "3  https://twitter.com/billbarhydt/status/1089486321  \n",
       "4     https://twitter.com/garrytan/status/1089486628  "
      ]
     },
     "execution_count": 4,
     "metadata": {},
     "output_type": "execute_result"
    }
   ],
   "source": [
    "df_tweets = df_tweets.sort_values(by='date')\n",
    "df_tweets = df_tweets.reset_index(drop=True)\n",
    "df_tweets.head()"
   ]
  },
  {
   "cell_type": "code",
   "execution_count": 5,
   "metadata": {},
   "outputs": [
    {
     "name": "stdout",
     "output_type": "stream",
     "text": [
      "<class 'pandas.core.frame.DataFrame'>\n",
      "Int64Index: 2563803 entries, 0 to 2563802\n",
      "Data columns (total 6 columns):\n",
      "id          object\n",
      "date        datetime64[ns]\n",
      "text        object\n",
      "author      object\n",
      "favorite    int64\n",
      "url         object\n",
      "dtypes: datetime64[ns](1), int64(1), object(4)\n",
      "memory usage: 136.9+ MB\n"
     ]
    }
   ],
   "source": [
    "df_tweets = df_tweets.drop_duplicates()\n",
    "df_tweets.info()"
   ]
  },
  {
   "cell_type": "code",
   "execution_count": 6,
   "metadata": {},
   "outputs": [],
   "source": [
    "df_copytime = df_tweets.copy()\n",
    "df_copytime.set_index('date', inplace=True)"
   ]
  },
  {
   "cell_type": "code",
   "execution_count": 7,
   "metadata": {},
   "outputs": [
    {
     "data": {
      "text/html": [
       "<div>\n",
       "<style scoped>\n",
       "    .dataframe tbody tr th:only-of-type {\n",
       "        vertical-align: middle;\n",
       "    }\n",
       "\n",
       "    .dataframe tbody tr th {\n",
       "        vertical-align: top;\n",
       "    }\n",
       "\n",
       "    .dataframe thead th {\n",
       "        text-align: right;\n",
       "    }\n",
       "</style>\n",
       "<table border=\"1\" class=\"dataframe\">\n",
       "  <thead>\n",
       "    <tr style=\"text-align: right;\">\n",
       "      <th></th>\n",
       "      <th>id</th>\n",
       "      <th>text</th>\n",
       "      <th>author</th>\n",
       "      <th>favorite</th>\n",
       "      <th>url</th>\n",
       "    </tr>\n",
       "  </thead>\n",
       "  <tbody>\n",
       "    <tr>\n",
       "      <th>2008-12-31</th>\n",
       "      <td>9</td>\n",
       "      <td>9</td>\n",
       "      <td>9</td>\n",
       "      <td>9</td>\n",
       "      <td>9</td>\n",
       "    </tr>\n",
       "    <tr>\n",
       "      <th>2009-01-01</th>\n",
       "      <td>36</td>\n",
       "      <td>36</td>\n",
       "      <td>36</td>\n",
       "      <td>36</td>\n",
       "      <td>36</td>\n",
       "    </tr>\n",
       "    <tr>\n",
       "      <th>2009-01-02</th>\n",
       "      <td>46</td>\n",
       "      <td>46</td>\n",
       "      <td>46</td>\n",
       "      <td>46</td>\n",
       "      <td>46</td>\n",
       "    </tr>\n",
       "    <tr>\n",
       "      <th>2009-01-03</th>\n",
       "      <td>34</td>\n",
       "      <td>34</td>\n",
       "      <td>34</td>\n",
       "      <td>34</td>\n",
       "      <td>34</td>\n",
       "    </tr>\n",
       "    <tr>\n",
       "      <th>2009-01-04</th>\n",
       "      <td>25</td>\n",
       "      <td>25</td>\n",
       "      <td>25</td>\n",
       "      <td>25</td>\n",
       "      <td>25</td>\n",
       "    </tr>\n",
       "  </tbody>\n",
       "</table>\n",
       "</div>"
      ],
      "text/plain": [
       "            id  text  author  favorite  url\n",
       "2008-12-31   9     9       9         9    9\n",
       "2009-01-01  36    36      36        36   36\n",
       "2009-01-02  46    46      46        46   46\n",
       "2009-01-03  34    34      34        34   34\n",
       "2009-01-04  25    25      25        25   25"
      ]
     },
     "execution_count": 7,
     "metadata": {},
     "output_type": "execute_result"
    }
   ],
   "source": [
    "df = df_copytime.groupby(df_copytime.index.date).count()\n",
    "df.head()"
   ]
  },
  {
   "cell_type": "code",
   "execution_count": 8,
   "metadata": {},
   "outputs": [
    {
     "data": {
      "text/plain": [
       "<function matplotlib.pyplot.show(*args, **kw)>"
      ]
     },
     "execution_count": 8,
     "metadata": {},
     "output_type": "execute_result"
    },
    {
     "data": {
      "image/png": "[encoded data removed]",
      "text/plain": [
       "<matplotlib.figure.Figure at 0x1f311bb25f8>"
      ]
     },
     "metadata": {
      "needs_background": "light"
     },
     "output_type": "display_data"
    }
   ],
   "source": [
    "import matplotlib.pyplot as plt\n",
    "plt.plot(df.index, df['id'])\n",
    "plt.show"
   ]
  },
  {
   "cell_type": "markdown",
   "metadata": {},
   "source": [
    "#### Filter by Favorites"
   ]
  },
  {
   "cell_type": "code",
   "execution_count": 9,
   "metadata": {},
   "outputs": [
    {
     "name": "stdout",
     "output_type": "stream",
     "text": [
      "<class 'pandas.core.frame.DataFrame'>\n",
      "DatetimeIndex: 145143 entries, 2009-04-06 17:24:52 to 2019-06-05 05:58:56\n",
      "Data columns (total 5 columns):\n",
      "id          145143 non-null object\n",
      "text        145143 non-null object\n",
      "author      145143 non-null object\n",
      "favorite    145143 non-null int64\n",
      "url         145143 non-null object\n",
      "dtypes: int64(1), object(4)\n",
      "memory usage: 6.6+ MB\n"
     ]
    }
   ],
   "source": [
    "df_fav = df_tweets[df_tweets['favorite']>100].copy()\n",
    "df_fav.set_index('date', inplace=True)\n",
    "df_fav.info()"
   ]
  },
  {
   "cell_type": "code",
   "execution_count": 10,
   "metadata": {},
   "outputs": [
    {
     "data": {
      "text/html": [
       "<div>\n",
       "<style scoped>\n",
       "    .dataframe tbody tr th:only-of-type {\n",
       "        vertical-align: middle;\n",
       "    }\n",
       "\n",
       "    .dataframe tbody tr th {\n",
       "        vertical-align: top;\n",
       "    }\n",
       "\n",
       "    .dataframe thead th {\n",
       "        text-align: right;\n",
       "    }\n",
       "</style>\n",
       "<table border=\"1\" class=\"dataframe\">\n",
       "  <thead>\n",
       "    <tr style=\"text-align: right;\">\n",
       "      <th></th>\n",
       "      <th>id</th>\n",
       "      <th>text</th>\n",
       "      <th>author</th>\n",
       "      <th>favorite</th>\n",
       "      <th>url</th>\n",
       "    </tr>\n",
       "  </thead>\n",
       "  <tbody>\n",
       "    <tr>\n",
       "      <th>2009-04-06</th>\n",
       "      <td>1</td>\n",
       "      <td>1</td>\n",
       "      <td>1</td>\n",
       "      <td>1</td>\n",
       "      <td>1</td>\n",
       "    </tr>\n",
       "    <tr>\n",
       "      <th>2009-04-23</th>\n",
       "      <td>1</td>\n",
       "      <td>1</td>\n",
       "      <td>1</td>\n",
       "      <td>1</td>\n",
       "      <td>1</td>\n",
       "    </tr>\n",
       "    <tr>\n",
       "      <th>2009-05-04</th>\n",
       "      <td>2</td>\n",
       "      <td>2</td>\n",
       "      <td>2</td>\n",
       "      <td>2</td>\n",
       "      <td>2</td>\n",
       "    </tr>\n",
       "    <tr>\n",
       "      <th>2009-05-08</th>\n",
       "      <td>1</td>\n",
       "      <td>1</td>\n",
       "      <td>1</td>\n",
       "      <td>1</td>\n",
       "      <td>1</td>\n",
       "    </tr>\n",
       "    <tr>\n",
       "      <th>2009-05-12</th>\n",
       "      <td>1</td>\n",
       "      <td>1</td>\n",
       "      <td>1</td>\n",
       "      <td>1</td>\n",
       "      <td>1</td>\n",
       "    </tr>\n",
       "  </tbody>\n",
       "</table>\n",
       "</div>"
      ],
      "text/plain": [
       "            id  text  author  favorite  url\n",
       "2009-04-06   1     1       1         1    1\n",
       "2009-04-23   1     1       1         1    1\n",
       "2009-05-04   2     2       2         2    2\n",
       "2009-05-08   1     1       1         1    1\n",
       "2009-05-12   1     1       1         1    1"
      ]
     },
     "execution_count": 10,
     "metadata": {},
     "output_type": "execute_result"
    }
   ],
   "source": [
    "df_ft = df_fav.groupby(df_fav.index.date).count()\n",
    "df_ft.head()"
   ]
  },
  {
   "cell_type": "code",
   "execution_count": 11,
   "metadata": {},
   "outputs": [
    {
     "data": {
      "text/plain": [
       "<function matplotlib.pyplot.show(*args, **kw)>"
      ]
     },
     "execution_count": 11,
     "metadata": {},
     "output_type": "execute_result"
    },
    {
     "data": {
      "image/png": "[encoded data removed]",
      "text/plain": [
       "<matplotlib.figure.Figure at 0x1f37ba89748>"
      ]
     },
     "metadata": {
      "needs_background": "light"
     },
     "output_type": "display_data"
    }
   ],
   "source": [
    "plt.plot(df_ft.index, df_ft['id'])\n",
    "plt.show"
   ]
  },
  {
   "cell_type": "code",
   "execution_count": null,
   "metadata": {},
   "outputs": [],
   "source": []
  }
 ],
 "metadata": {
  "kernelspec": {
   "display_name": "Python 3",
   "language": "python",
   "name": "python3"
  },
  "language_info": {
   "codemirror_mode": {
    "name": "ipython",
    "version": 3
   },
   "file_extension": ".py",
   "mimetype": "text/x-python",
   "name": "python",
   "nbconvert_exporter": "python",
   "pygments_lexer": "ipython3",
   "version": "3.5.4"
  }
 },
 "nbformat": 4,
 "nbformat_minor": 2
}
